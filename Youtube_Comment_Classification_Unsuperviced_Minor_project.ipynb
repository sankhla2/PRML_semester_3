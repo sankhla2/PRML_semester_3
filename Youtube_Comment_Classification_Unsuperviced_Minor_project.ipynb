{
  "nbformat": 4,
  "nbformat_minor": 0,
  "metadata": {
    "colab": {
      "provenance": [],
      "include_colab_link": true
    },
    "kernelspec": {
      "name": "python3",
      "display_name": "Python 3"
    },
    "language_info": {
      "name": "python"
    },
    "gpuClass": "standard",
    "accelerator": "GPU"
  },
  "cells": [
    {
      "cell_type": "markdown",
      "metadata": {
        "id": "view-in-github",
        "colab_type": "text"
      },
      "source": [
        "<a href=\"https://colab.research.google.com/github/sankhla2/AI-ML/blob/main/Youtube_Comment_Classification_Unsuperviced_Minor_project.ipynb\" target=\"_parent\"><img src=\"https://colab.research.google.com/assets/colab-badge.svg\" alt=\"Open In Colab\"/></a>"
      ]
    },
    {
      "cell_type": "code",
      "execution_count": null,
      "metadata": {
        "id": "el-UVwusWVlq",
        "colab": {
          "base_uri": "https://localhost:8080/"
        },
        "outputId": "b47e9166-703e-4d8e-d11f-74e2ce0a49e9"
      },
      "outputs": [
        {
          "output_type": "stream",
          "name": "stderr",
          "text": [
            "[nltk_data] Downloading package wordnet to /root/nltk_data...\n",
            "[nltk_data] Downloading package stopwords to /root/nltk_data...\n",
            "[nltk_data]   Unzipping corpora/stopwords.zip.\n"
          ]
        }
      ],
      "source": [
        "import pandas as pd\n",
        "import numpy as np\n",
        "from sklearn.feature_extraction.text import CountVectorizer\n",
        "from sklearn.cluster import AgglomerativeClustering,SpectralClustering,KMeans\n",
        "from scipy.cluster.vq import vq, kmeans, whiten\n",
        "from sklearn.mixture import GaussianMixture\n",
        "import matplotlib.pyplot as plt\n",
        "from sklearn.cluster import KMeans\n",
        "from sklearn.metrics import calinski_harabasz_score,silhouette_score,davies_bouldin_score\n",
        "from sklearn.decomposition import PCA\n",
        "import plotly.express as px\n",
        "import re\n",
        "import nltk\n",
        "nltk.download('wordnet')\n",
        "nltk.download('stopwords')\n",
        "\n",
        "from nltk.corpus import stopwords \n",
        "from nltk.stem.porter import PorterStemmer\n",
        "from nltk.stem import WordNetLemmatizer"
      ]
    },
    {
      "cell_type": "code",
      "source": [
        "from google.colab import drive\n",
        "drive.mount('/content/drive')"
      ],
      "metadata": {
        "colab": {
          "base_uri": "https://localhost:8080/"
        },
        "id": "4pdWpsWCtQcI",
        "outputId": "7590b4e2-d76a-4a97-c0f3-3478347dfbc7"
      },
      "execution_count": null,
      "outputs": [
        {
          "output_type": "stream",
          "name": "stdout",
          "text": [
            "Mounted at /content/drive\n"
          ]
        }
      ]
    },
    {
      "cell_type": "code",
      "source": [
        "## taking the dataset\n",
        "dataset = pd.read_csv(\"/content/drive/MyDrive/PRML LABs/PRML Minor Project/YT_Videos_Comments.csv\")"
      ],
      "metadata": {
        "id": "CQDOXEQGZjNo",
        "colab": {
          "base_uri": "https://localhost:8080/"
        },
        "outputId": "e26fe4cd-d0ca-4cb8-e560-04f7764f49d1"
      },
      "execution_count": null,
      "outputs": [
        {
          "output_type": "stream",
          "name": "stderr",
          "text": [
            "<ipython-input-4-6ea2764610de>:2: DtypeWarning: Columns (2,3,4,5,6,7,8) have mixed types. Specify dtype option on import or set low_memory=False.\n",
            "  dataset = pd.read_csv(\"/content/drive/MyDrive/PRML LABs/PRML Minor Project/YT_Videos_Comments.csv\")\n"
          ]
        }
      ]
    },
    {
      "cell_type": "code",
      "source": [
        "dataset"
      ],
      "metadata": {
        "id": "RfxTxW6_aBww",
        "colab": {
          "base_uri": "https://localhost:8080/",
          "height": 1000
        },
        "outputId": "e3375b80-6ac3-412b-ba3a-747c41451636"
      },
      "execution_count": null,
      "outputs": [
        {
          "output_type": "execute_result",
          "data": {
            "text/plain": [
              "                User                                 Video Title  \\\n",
              "0         Cleo Abram        Robots made of spiders (yes, really)   \n",
              "1         Cleo Abram        Robots made of spiders (yes, really)   \n",
              "2         Cleo Abram        Robots made of spiders (yes, really)   \n",
              "3         Cleo Abram        Robots made of spiders (yes, really)   \n",
              "4         Cleo Abram        Robots made of spiders (yes, really)   \n",
              "...              ...                                         ...   \n",
              "861957  Physics Girl  5 AMAZING stars we’ve discovered in space!   \n",
              "861958  Physics Girl  5 AMAZING stars we’ve discovered in space!   \n",
              "861959  Physics Girl  5 AMAZING stars we’ve discovered in space!   \n",
              "861960  Physics Girl  5 AMAZING stars we’ve discovered in space!   \n",
              "861961  Physics Girl  5 AMAZING stars we’ve discovered in space!   \n",
              "\n",
              "                                        Video Description     Video ID  \\\n",
              "0       I'M SORRY OK. But this is fascinating. \\n\\nSci...  YXd4z3gWyVE   \n",
              "1       I'M SORRY OK. But this is fascinating. \\n\\nSci...  YXd4z3gWyVE   \n",
              "2       I'M SORRY OK. But this is fascinating. \\n\\nSci...  YXd4z3gWyVE   \n",
              "3       I'M SORRY OK. But this is fascinating. \\n\\nSci...  YXd4z3gWyVE   \n",
              "4       I'M SORRY OK. But this is fascinating. \\n\\nSci...  YXd4z3gWyVE   \n",
              "...                                                   ...          ...   \n",
              "861957  This episode is brought to you by Squarespace:...  xyXpQxz7BOs   \n",
              "861958  This episode is brought to you by Squarespace:...  xyXpQxz7BOs   \n",
              "861959  This episode is brought to you by Squarespace:...  xyXpQxz7BOs   \n",
              "861960  This episode is brought to you by Squarespace:...  xyXpQxz7BOs   \n",
              "861961  This episode is brought to you by Squarespace:...  xyXpQxz7BOs   \n",
              "\n",
              "                                      Comment (Displayed)  \\\n",
              "0       zombie spider!! bomb the damn lab before it&#3...   \n",
              "1       This is way less cool than it seems, spiders a...   \n",
              "2       Spiders see this and this is why they made the...   \n",
              "3                                      you looks pretty 😍   \n",
              "4       I can hear the hairs standing up on my wife’s ...   \n",
              "...                                                   ...   \n",
              "861957  hey girl,make more vdos and make it lengthy .....   \n",
              "861958                                              Third   \n",
              "861959                                              third   \n",
              "861960                                             Second   \n",
              "861961                                              first   \n",
              "\n",
              "                                         Comment (Actual)  \\\n",
              "0       zombie spider!! bomb the damn lab before it's ...   \n",
              "1       This is way less cool than it seems, spiders a...   \n",
              "2       Spiders see this and this is why they made the...   \n",
              "3                                      you looks pretty 😍   \n",
              "4       I can hear the hairs standing up on my wife’s ...   \n",
              "...                                                   ...   \n",
              "861957  hey girl,make more vdos and make it lengthy .....   \n",
              "861958                                              Third   \n",
              "861959                                              third   \n",
              "861960                                             Second   \n",
              "861961                                              first   \n",
              "\n",
              "             Comment Author Comment Author Channel ID          Comment Time  \n",
              "0              Bagus Hutomo  UC-F6GFyxAqGhN3_MEJLksxg  2023-03-11T07:39:33Z  \n",
              "1                   CMZ neu  UCZKnVEtNze-fFxCvsRnaIuA  2023-03-11T05:26:10Z  \n",
              "2             Kiana Marrie   UCutp6oeKAxsO6fXp1vyzvIQ  2023-03-11T04:02:27Z  \n",
              "3                      Noob  UC9J99riIPd6ja-XDFSwrY-Q  2023-03-11T02:50:50Z  \n",
              "4            chancellor9000  UC8WEPXkCSh87h6kBcFT-o1g  2023-03-11T02:46:02Z  \n",
              "...                     ...                       ...                   ...  \n",
              "861957       Omkar Bhambure  UCgY0dubqhFHVD6wWq37UCtg  2016-01-12T21:32:52Z  \n",
              "861958         Izzo Mapping  UCF0vKXNgNwO2iutasiiLoNQ  2016-01-12T21:30:37Z  \n",
              "861959           Indecisive  UChNeyv6tBcgrjfXJiy3xRFg  2016-01-12T21:30:34Z  \n",
              "861960               Nathan  UCkMeQzamGWna00H_sMQddvQ  2016-01-12T21:30:02Z  \n",
              "861961  The Physicist Cuber  UCnpO0ObncSaFW2fKSAp-OrA  2016-01-12T21:29:47Z  \n",
              "\n",
              "[861962 rows x 9 columns]"
            ],
            "text/html": [
              "\n",
              "  <div id=\"df-b243d6ae-80c7-49aa-a485-e8de5eaf3984\">\n",
              "    <div class=\"colab-df-container\">\n",
              "      <div>\n",
              "<style scoped>\n",
              "    .dataframe tbody tr th:only-of-type {\n",
              "        vertical-align: middle;\n",
              "    }\n",
              "\n",
              "    .dataframe tbody tr th {\n",
              "        vertical-align: top;\n",
              "    }\n",
              "\n",
              "    .dataframe thead th {\n",
              "        text-align: right;\n",
              "    }\n",
              "</style>\n",
              "<table border=\"1\" class=\"dataframe\">\n",
              "  <thead>\n",
              "    <tr style=\"text-align: right;\">\n",
              "      <th></th>\n",
              "      <th>User</th>\n",
              "      <th>Video Title</th>\n",
              "      <th>Video Description</th>\n",
              "      <th>Video ID</th>\n",
              "      <th>Comment (Displayed)</th>\n",
              "      <th>Comment (Actual)</th>\n",
              "      <th>Comment Author</th>\n",
              "      <th>Comment Author Channel ID</th>\n",
              "      <th>Comment Time</th>\n",
              "    </tr>\n",
              "  </thead>\n",
              "  <tbody>\n",
              "    <tr>\n",
              "      <th>0</th>\n",
              "      <td>Cleo Abram</td>\n",
              "      <td>Robots made of spiders (yes, really)</td>\n",
              "      <td>I'M SORRY OK. But this is fascinating. \\n\\nSci...</td>\n",
              "      <td>YXd4z3gWyVE</td>\n",
              "      <td>zombie spider!! bomb the damn lab before it&amp;#3...</td>\n",
              "      <td>zombie spider!! bomb the damn lab before it's ...</td>\n",
              "      <td>Bagus Hutomo</td>\n",
              "      <td>UC-F6GFyxAqGhN3_MEJLksxg</td>\n",
              "      <td>2023-03-11T07:39:33Z</td>\n",
              "    </tr>\n",
              "    <tr>\n",
              "      <th>1</th>\n",
              "      <td>Cleo Abram</td>\n",
              "      <td>Robots made of spiders (yes, really)</td>\n",
              "      <td>I'M SORRY OK. But this is fascinating. \\n\\nSci...</td>\n",
              "      <td>YXd4z3gWyVE</td>\n",
              "      <td>This is way less cool than it seems, spiders a...</td>\n",
              "      <td>This is way less cool than it seems, spiders a...</td>\n",
              "      <td>CMZ neu</td>\n",
              "      <td>UCZKnVEtNze-fFxCvsRnaIuA</td>\n",
              "      <td>2023-03-11T05:26:10Z</td>\n",
              "    </tr>\n",
              "    <tr>\n",
              "      <th>2</th>\n",
              "      <td>Cleo Abram</td>\n",
              "      <td>Robots made of spiders (yes, really)</td>\n",
              "      <td>I'M SORRY OK. But this is fascinating. \\n\\nSci...</td>\n",
              "      <td>YXd4z3gWyVE</td>\n",
              "      <td>Spiders see this and this is why they made the...</td>\n",
              "      <td>Spiders see this and this is why they made the...</td>\n",
              "      <td>Kiana Marrie</td>\n",
              "      <td>UCutp6oeKAxsO6fXp1vyzvIQ</td>\n",
              "      <td>2023-03-11T04:02:27Z</td>\n",
              "    </tr>\n",
              "    <tr>\n",
              "      <th>3</th>\n",
              "      <td>Cleo Abram</td>\n",
              "      <td>Robots made of spiders (yes, really)</td>\n",
              "      <td>I'M SORRY OK. But this is fascinating. \\n\\nSci...</td>\n",
              "      <td>YXd4z3gWyVE</td>\n",
              "      <td>you looks pretty 😍</td>\n",
              "      <td>you looks pretty 😍</td>\n",
              "      <td>Noob</td>\n",
              "      <td>UC9J99riIPd6ja-XDFSwrY-Q</td>\n",
              "      <td>2023-03-11T02:50:50Z</td>\n",
              "    </tr>\n",
              "    <tr>\n",
              "      <th>4</th>\n",
              "      <td>Cleo Abram</td>\n",
              "      <td>Robots made of spiders (yes, really)</td>\n",
              "      <td>I'M SORRY OK. But this is fascinating. \\n\\nSci...</td>\n",
              "      <td>YXd4z3gWyVE</td>\n",
              "      <td>I can hear the hairs standing up on my wife’s ...</td>\n",
              "      <td>I can hear the hairs standing up on my wife’s ...</td>\n",
              "      <td>chancellor9000</td>\n",
              "      <td>UC8WEPXkCSh87h6kBcFT-o1g</td>\n",
              "      <td>2023-03-11T02:46:02Z</td>\n",
              "    </tr>\n",
              "    <tr>\n",
              "      <th>...</th>\n",
              "      <td>...</td>\n",
              "      <td>...</td>\n",
              "      <td>...</td>\n",
              "      <td>...</td>\n",
              "      <td>...</td>\n",
              "      <td>...</td>\n",
              "      <td>...</td>\n",
              "      <td>...</td>\n",
              "      <td>...</td>\n",
              "    </tr>\n",
              "    <tr>\n",
              "      <th>861957</th>\n",
              "      <td>Physics Girl</td>\n",
              "      <td>5 AMAZING stars we’ve discovered in space!</td>\n",
              "      <td>This episode is brought to you by Squarespace:...</td>\n",
              "      <td>xyXpQxz7BOs</td>\n",
              "      <td>hey girl,make more vdos and make it lengthy .....</td>\n",
              "      <td>hey girl,make more vdos and make it lengthy .....</td>\n",
              "      <td>Omkar Bhambure</td>\n",
              "      <td>UCgY0dubqhFHVD6wWq37UCtg</td>\n",
              "      <td>2016-01-12T21:32:52Z</td>\n",
              "    </tr>\n",
              "    <tr>\n",
              "      <th>861958</th>\n",
              "      <td>Physics Girl</td>\n",
              "      <td>5 AMAZING stars we’ve discovered in space!</td>\n",
              "      <td>This episode is brought to you by Squarespace:...</td>\n",
              "      <td>xyXpQxz7BOs</td>\n",
              "      <td>Third</td>\n",
              "      <td>Third</td>\n",
              "      <td>Izzo Mapping</td>\n",
              "      <td>UCF0vKXNgNwO2iutasiiLoNQ</td>\n",
              "      <td>2016-01-12T21:30:37Z</td>\n",
              "    </tr>\n",
              "    <tr>\n",
              "      <th>861959</th>\n",
              "      <td>Physics Girl</td>\n",
              "      <td>5 AMAZING stars we’ve discovered in space!</td>\n",
              "      <td>This episode is brought to you by Squarespace:...</td>\n",
              "      <td>xyXpQxz7BOs</td>\n",
              "      <td>third</td>\n",
              "      <td>third</td>\n",
              "      <td>Indecisive</td>\n",
              "      <td>UChNeyv6tBcgrjfXJiy3xRFg</td>\n",
              "      <td>2016-01-12T21:30:34Z</td>\n",
              "    </tr>\n",
              "    <tr>\n",
              "      <th>861960</th>\n",
              "      <td>Physics Girl</td>\n",
              "      <td>5 AMAZING stars we’ve discovered in space!</td>\n",
              "      <td>This episode is brought to you by Squarespace:...</td>\n",
              "      <td>xyXpQxz7BOs</td>\n",
              "      <td>Second</td>\n",
              "      <td>Second</td>\n",
              "      <td>Nathan</td>\n",
              "      <td>UCkMeQzamGWna00H_sMQddvQ</td>\n",
              "      <td>2016-01-12T21:30:02Z</td>\n",
              "    </tr>\n",
              "    <tr>\n",
              "      <th>861961</th>\n",
              "      <td>Physics Girl</td>\n",
              "      <td>5 AMAZING stars we’ve discovered in space!</td>\n",
              "      <td>This episode is brought to you by Squarespace:...</td>\n",
              "      <td>xyXpQxz7BOs</td>\n",
              "      <td>first</td>\n",
              "      <td>first</td>\n",
              "      <td>The Physicist Cuber</td>\n",
              "      <td>UCnpO0ObncSaFW2fKSAp-OrA</td>\n",
              "      <td>2016-01-12T21:29:47Z</td>\n",
              "    </tr>\n",
              "  </tbody>\n",
              "</table>\n",
              "<p>861962 rows × 9 columns</p>\n",
              "</div>\n",
              "      <button class=\"colab-df-convert\" onclick=\"convertToInteractive('df-b243d6ae-80c7-49aa-a485-e8de5eaf3984')\"\n",
              "              title=\"Convert this dataframe to an interactive table.\"\n",
              "              style=\"display:none;\">\n",
              "        \n",
              "  <svg xmlns=\"http://www.w3.org/2000/svg\" height=\"24px\"viewBox=\"0 0 24 24\"\n",
              "       width=\"24px\">\n",
              "    <path d=\"M0 0h24v24H0V0z\" fill=\"none\"/>\n",
              "    <path d=\"M18.56 5.44l.94 2.06.94-2.06 2.06-.94-2.06-.94-.94-2.06-.94 2.06-2.06.94zm-11 1L8.5 8.5l.94-2.06 2.06-.94-2.06-.94L8.5 2.5l-.94 2.06-2.06.94zm10 10l.94 2.06.94-2.06 2.06-.94-2.06-.94-.94-2.06-.94 2.06-2.06.94z\"/><path d=\"M17.41 7.96l-1.37-1.37c-.4-.4-.92-.59-1.43-.59-.52 0-1.04.2-1.43.59L10.3 9.45l-7.72 7.72c-.78.78-.78 2.05 0 2.83L4 21.41c.39.39.9.59 1.41.59.51 0 1.02-.2 1.41-.59l7.78-7.78 2.81-2.81c.8-.78.8-2.07 0-2.86zM5.41 20L4 18.59l7.72-7.72 1.47 1.35L5.41 20z\"/>\n",
              "  </svg>\n",
              "      </button>\n",
              "      \n",
              "  <style>\n",
              "    .colab-df-container {\n",
              "      display:flex;\n",
              "      flex-wrap:wrap;\n",
              "      gap: 12px;\n",
              "    }\n",
              "\n",
              "    .colab-df-convert {\n",
              "      background-color: #E8F0FE;\n",
              "      border: none;\n",
              "      border-radius: 50%;\n",
              "      cursor: pointer;\n",
              "      display: none;\n",
              "      fill: #1967D2;\n",
              "      height: 32px;\n",
              "      padding: 0 0 0 0;\n",
              "      width: 32px;\n",
              "    }\n",
              "\n",
              "    .colab-df-convert:hover {\n",
              "      background-color: #E2EBFA;\n",
              "      box-shadow: 0px 1px 2px rgba(60, 64, 67, 0.3), 0px 1px 3px 1px rgba(60, 64, 67, 0.15);\n",
              "      fill: #174EA6;\n",
              "    }\n",
              "\n",
              "    [theme=dark] .colab-df-convert {\n",
              "      background-color: #3B4455;\n",
              "      fill: #D2E3FC;\n",
              "    }\n",
              "\n",
              "    [theme=dark] .colab-df-convert:hover {\n",
              "      background-color: #434B5C;\n",
              "      box-shadow: 0px 1px 3px 1px rgba(0, 0, 0, 0.15);\n",
              "      filter: drop-shadow(0px 1px 2px rgba(0, 0, 0, 0.3));\n",
              "      fill: #FFFFFF;\n",
              "    }\n",
              "  </style>\n",
              "\n",
              "      <script>\n",
              "        const buttonEl =\n",
              "          document.querySelector('#df-b243d6ae-80c7-49aa-a485-e8de5eaf3984 button.colab-df-convert');\n",
              "        buttonEl.style.display =\n",
              "          google.colab.kernel.accessAllowed ? 'block' : 'none';\n",
              "\n",
              "        async function convertToInteractive(key) {\n",
              "          const element = document.querySelector('#df-b243d6ae-80c7-49aa-a485-e8de5eaf3984');\n",
              "          const dataTable =\n",
              "            await google.colab.kernel.invokeFunction('convertToInteractive',\n",
              "                                                     [key], {});\n",
              "          if (!dataTable) return;\n",
              "\n",
              "          const docLinkHtml = 'Like what you see? Visit the ' +\n",
              "            '<a target=\"_blank\" href=https://colab.research.google.com/notebooks/data_table.ipynb>data table notebook</a>'\n",
              "            + ' to learn more about interactive tables.';\n",
              "          element.innerHTML = '';\n",
              "          dataTable['output_type'] = 'display_data';\n",
              "          await google.colab.output.renderOutput(dataTable, element);\n",
              "          const docLink = document.createElement('div');\n",
              "          docLink.innerHTML = docLinkHtml;\n",
              "          element.appendChild(docLink);\n",
              "        }\n",
              "      </script>\n",
              "    </div>\n",
              "  </div>\n",
              "  "
            ]
          },
          "metadata": {},
          "execution_count": 5
        }
      ]
    },
    {
      "cell_type": "code",
      "source": [
        "# separating the comments\n",
        "X = dataset[[\"Comment (Displayed)\",\"Comment (Actual)\"]]"
      ],
      "metadata": {
        "id": "Ib4t6_E1c5g7"
      },
      "execution_count": null,
      "outputs": []
    },
    {
      "cell_type": "code",
      "source": [
        "X"
      ],
      "metadata": {
        "id": "ZtqBJOBLdDDt",
        "colab": {
          "base_uri": "https://localhost:8080/",
          "height": 424
        },
        "outputId": "5b1eda6e-9042-4cba-813e-35781b4c6079"
      },
      "execution_count": null,
      "outputs": [
        {
          "output_type": "execute_result",
          "data": {
            "text/plain": [
              "                                      Comment (Displayed)  \\\n",
              "0       zombie spider!! bomb the damn lab before it&#3...   \n",
              "1       This is way less cool than it seems, spiders a...   \n",
              "2       Spiders see this and this is why they made the...   \n",
              "3                                      you looks pretty 😍   \n",
              "4       I can hear the hairs standing up on my wife’s ...   \n",
              "...                                                   ...   \n",
              "861957  hey girl,make more vdos and make it lengthy .....   \n",
              "861958                                              Third   \n",
              "861959                                              third   \n",
              "861960                                             Second   \n",
              "861961                                              first   \n",
              "\n",
              "                                         Comment (Actual)  \n",
              "0       zombie spider!! bomb the damn lab before it's ...  \n",
              "1       This is way less cool than it seems, spiders a...  \n",
              "2       Spiders see this and this is why they made the...  \n",
              "3                                      you looks pretty 😍  \n",
              "4       I can hear the hairs standing up on my wife’s ...  \n",
              "...                                                   ...  \n",
              "861957  hey girl,make more vdos and make it lengthy .....  \n",
              "861958                                              Third  \n",
              "861959                                              third  \n",
              "861960                                             Second  \n",
              "861961                                              first  \n",
              "\n",
              "[861962 rows x 2 columns]"
            ],
            "text/html": [
              "\n",
              "  <div id=\"df-4d58adeb-14bb-4c9d-9f69-21e5e81fbc83\">\n",
              "    <div class=\"colab-df-container\">\n",
              "      <div>\n",
              "<style scoped>\n",
              "    .dataframe tbody tr th:only-of-type {\n",
              "        vertical-align: middle;\n",
              "    }\n",
              "\n",
              "    .dataframe tbody tr th {\n",
              "        vertical-align: top;\n",
              "    }\n",
              "\n",
              "    .dataframe thead th {\n",
              "        text-align: right;\n",
              "    }\n",
              "</style>\n",
              "<table border=\"1\" class=\"dataframe\">\n",
              "  <thead>\n",
              "    <tr style=\"text-align: right;\">\n",
              "      <th></th>\n",
              "      <th>Comment (Displayed)</th>\n",
              "      <th>Comment (Actual)</th>\n",
              "    </tr>\n",
              "  </thead>\n",
              "  <tbody>\n",
              "    <tr>\n",
              "      <th>0</th>\n",
              "      <td>zombie spider!! bomb the damn lab before it&amp;#3...</td>\n",
              "      <td>zombie spider!! bomb the damn lab before it's ...</td>\n",
              "    </tr>\n",
              "    <tr>\n",
              "      <th>1</th>\n",
              "      <td>This is way less cool than it seems, spiders a...</td>\n",
              "      <td>This is way less cool than it seems, spiders a...</td>\n",
              "    </tr>\n",
              "    <tr>\n",
              "      <th>2</th>\n",
              "      <td>Spiders see this and this is why they made the...</td>\n",
              "      <td>Spiders see this and this is why they made the...</td>\n",
              "    </tr>\n",
              "    <tr>\n",
              "      <th>3</th>\n",
              "      <td>you looks pretty 😍</td>\n",
              "      <td>you looks pretty 😍</td>\n",
              "    </tr>\n",
              "    <tr>\n",
              "      <th>4</th>\n",
              "      <td>I can hear the hairs standing up on my wife’s ...</td>\n",
              "      <td>I can hear the hairs standing up on my wife’s ...</td>\n",
              "    </tr>\n",
              "    <tr>\n",
              "      <th>...</th>\n",
              "      <td>...</td>\n",
              "      <td>...</td>\n",
              "    </tr>\n",
              "    <tr>\n",
              "      <th>861957</th>\n",
              "      <td>hey girl,make more vdos and make it lengthy .....</td>\n",
              "      <td>hey girl,make more vdos and make it lengthy .....</td>\n",
              "    </tr>\n",
              "    <tr>\n",
              "      <th>861958</th>\n",
              "      <td>Third</td>\n",
              "      <td>Third</td>\n",
              "    </tr>\n",
              "    <tr>\n",
              "      <th>861959</th>\n",
              "      <td>third</td>\n",
              "      <td>third</td>\n",
              "    </tr>\n",
              "    <tr>\n",
              "      <th>861960</th>\n",
              "      <td>Second</td>\n",
              "      <td>Second</td>\n",
              "    </tr>\n",
              "    <tr>\n",
              "      <th>861961</th>\n",
              "      <td>first</td>\n",
              "      <td>first</td>\n",
              "    </tr>\n",
              "  </tbody>\n",
              "</table>\n",
              "<p>861962 rows × 2 columns</p>\n",
              "</div>\n",
              "      <button class=\"colab-df-convert\" onclick=\"convertToInteractive('df-4d58adeb-14bb-4c9d-9f69-21e5e81fbc83')\"\n",
              "              title=\"Convert this dataframe to an interactive table.\"\n",
              "              style=\"display:none;\">\n",
              "        \n",
              "  <svg xmlns=\"http://www.w3.org/2000/svg\" height=\"24px\"viewBox=\"0 0 24 24\"\n",
              "       width=\"24px\">\n",
              "    <path d=\"M0 0h24v24H0V0z\" fill=\"none\"/>\n",
              "    <path d=\"M18.56 5.44l.94 2.06.94-2.06 2.06-.94-2.06-.94-.94-2.06-.94 2.06-2.06.94zm-11 1L8.5 8.5l.94-2.06 2.06-.94-2.06-.94L8.5 2.5l-.94 2.06-2.06.94zm10 10l.94 2.06.94-2.06 2.06-.94-2.06-.94-.94-2.06-.94 2.06-2.06.94z\"/><path d=\"M17.41 7.96l-1.37-1.37c-.4-.4-.92-.59-1.43-.59-.52 0-1.04.2-1.43.59L10.3 9.45l-7.72 7.72c-.78.78-.78 2.05 0 2.83L4 21.41c.39.39.9.59 1.41.59.51 0 1.02-.2 1.41-.59l7.78-7.78 2.81-2.81c.8-.78.8-2.07 0-2.86zM5.41 20L4 18.59l7.72-7.72 1.47 1.35L5.41 20z\"/>\n",
              "  </svg>\n",
              "      </button>\n",
              "      \n",
              "  <style>\n",
              "    .colab-df-container {\n",
              "      display:flex;\n",
              "      flex-wrap:wrap;\n",
              "      gap: 12px;\n",
              "    }\n",
              "\n",
              "    .colab-df-convert {\n",
              "      background-color: #E8F0FE;\n",
              "      border: none;\n",
              "      border-radius: 50%;\n",
              "      cursor: pointer;\n",
              "      display: none;\n",
              "      fill: #1967D2;\n",
              "      height: 32px;\n",
              "      padding: 0 0 0 0;\n",
              "      width: 32px;\n",
              "    }\n",
              "\n",
              "    .colab-df-convert:hover {\n",
              "      background-color: #E2EBFA;\n",
              "      box-shadow: 0px 1px 2px rgba(60, 64, 67, 0.3), 0px 1px 3px 1px rgba(60, 64, 67, 0.15);\n",
              "      fill: #174EA6;\n",
              "    }\n",
              "\n",
              "    [theme=dark] .colab-df-convert {\n",
              "      background-color: #3B4455;\n",
              "      fill: #D2E3FC;\n",
              "    }\n",
              "\n",
              "    [theme=dark] .colab-df-convert:hover {\n",
              "      background-color: #434B5C;\n",
              "      box-shadow: 0px 1px 3px 1px rgba(0, 0, 0, 0.15);\n",
              "      filter: drop-shadow(0px 1px 2px rgba(0, 0, 0, 0.3));\n",
              "      fill: #FFFFFF;\n",
              "    }\n",
              "  </style>\n",
              "\n",
              "      <script>\n",
              "        const buttonEl =\n",
              "          document.querySelector('#df-4d58adeb-14bb-4c9d-9f69-21e5e81fbc83 button.colab-df-convert');\n",
              "        buttonEl.style.display =\n",
              "          google.colab.kernel.accessAllowed ? 'block' : 'none';\n",
              "\n",
              "        async function convertToInteractive(key) {\n",
              "          const element = document.querySelector('#df-4d58adeb-14bb-4c9d-9f69-21e5e81fbc83');\n",
              "          const dataTable =\n",
              "            await google.colab.kernel.invokeFunction('convertToInteractive',\n",
              "                                                     [key], {});\n",
              "          if (!dataTable) return;\n",
              "\n",
              "          const docLinkHtml = 'Like what you see? Visit the ' +\n",
              "            '<a target=\"_blank\" href=https://colab.research.google.com/notebooks/data_table.ipynb>data table notebook</a>'\n",
              "            + ' to learn more about interactive tables.';\n",
              "          element.innerHTML = '';\n",
              "          dataTable['output_type'] = 'display_data';\n",
              "          await google.colab.output.renderOutput(dataTable, element);\n",
              "          const docLink = document.createElement('div');\n",
              "          docLink.innerHTML = docLinkHtml;\n",
              "          element.appendChild(docLink);\n",
              "        }\n",
              "      </script>\n",
              "    </div>\n",
              "  </div>\n",
              "  "
            ]
          },
          "metadata": {},
          "execution_count": 7
        }
      ]
    },
    {
      "cell_type": "code",
      "source": [
        "np.sum(pd.isnull(X))"
      ],
      "metadata": {
        "id": "scQndzr6dFjH",
        "colab": {
          "base_uri": "https://localhost:8080/"
        },
        "outputId": "26fcf1dc-483f-4c7e-f8c4-9628e80725ca"
      },
      "execution_count": null,
      "outputs": [
        {
          "output_type": "execute_result",
          "data": {
            "text/plain": [
              "Comment (Displayed)    467375\n",
              "Comment (Actual)       482881\n",
              "dtype: int64"
            ]
          },
          "metadata": {},
          "execution_count": 8
        }
      ]
    },
    {
      "cell_type": "code",
      "source": [
        "#Removing the NAN\n",
        "X = X.dropna()"
      ],
      "metadata": {
        "id": "ykNCKT3ldkqB"
      },
      "execution_count": null,
      "outputs": []
    },
    {
      "cell_type": "code",
      "source": [
        "np.sum(pd.isnull(X))"
      ],
      "metadata": {
        "id": "o0DW2Z_4ii-s",
        "colab": {
          "base_uri": "https://localhost:8080/"
        },
        "outputId": "0c66e1a7-9f83-4209-943b-4d0bc8706c34"
      },
      "execution_count": null,
      "outputs": [
        {
          "output_type": "execute_result",
          "data": {
            "text/plain": [
              "Comment (Displayed)    0\n",
              "Comment (Actual)       0\n",
              "dtype: int64"
            ]
          },
          "metadata": {},
          "execution_count": 10
        }
      ]
    },
    {
      "cell_type": "code",
      "source": [
        "#storing for later use\n",
        "X.to_csv(\"/content/drive/MyDrive/YTCshort.csv\",index = False)"
      ],
      "metadata": {
        "id": "HfKDW5sSiwae"
      },
      "execution_count": null,
      "outputs": []
    },
    {
      "cell_type": "code",
      "source": [
        "#loading the comment\n",
        "X = pd.read_csv(\"/content/drive/MyDrive/YTCshort.csv\")"
      ],
      "metadata": {
        "id": "Hdnqyj8tjQE0"
      },
      "execution_count": null,
      "outputs": []
    },
    {
      "cell_type": "code",
      "source": [
        "#taking the sample\n",
        "X_disp = X[\"Comment (Displayed)\"]\n",
        "X_disp2 = X_disp.sample(10000,random_state=42)"
      ],
      "metadata": {
        "id": "pN4LKhJMwnsx"
      },
      "execution_count": null,
      "outputs": []
    },
    {
      "cell_type": "code",
      "source": [
        "# Stopping and lemmatizing the comments\n",
        "corpus = []\n",
        "for i in range(0, 10000):\n",
        "  review = re.sub('[^a-zA-Z]', ' ', X_disp2.iloc[i])\n",
        "  review = review.lower()\n",
        "  review = review.split()\n",
        "  wnl = WordNetLemmatizer()\n",
        "  all_stopwords = stopwords.words('english')\n",
        "  all_stopwords.remove('not')\n",
        "  review = [wnl.lemmatize(word) for word in review if not word in set(all_stopwords)]\n",
        "  review = ' '.join(review)\n",
        "  corpus.append(review)\n",
        "X_disp3 = np.array(corpus)"
      ],
      "metadata": {
        "id": "DKl3hr-cjOgv"
      },
      "execution_count": null,
      "outputs": []
    },
    {
      "cell_type": "code",
      "source": [
        "X_disp3"
      ],
      "metadata": {
        "id": "GDr-h6RhkGg2",
        "colab": {
          "base_uri": "https://localhost:8080/"
        },
        "outputId": "f27986ca-a69c-44f8-bec2-cb83f6042390"
      },
      "execution_count": null,
      "outputs": [
        {
          "output_type": "execute_result",
          "data": {
            "text/plain": [
              "array(['wow new challenge not long first', 'nigeria pdp apc want',\n",
              "       'clue came across feed super interesting ive heard clue knew caused not know knowing half battle',\n",
              "       ...,\n",
              "       'href http www youtube com watch v gc pn eire amp flipping page forum second quot yay passed quot',\n",
              "       'hey great idea let electric car dont need grid charge car home car power home power outage internet wireless cell phone',\n",
              "       'would imagine would opportunity maybe track microorganism evolved time mean given deep go somewhat correlate age said microorganism wonder reverse family tree sort done perhaps see oldest microorganism relate current everyday one least similar number offshoot may deal various challenge year'],\n",
              "      dtype='<U4229')"
            ]
          },
          "metadata": {},
          "execution_count": 15
        }
      ]
    },
    {
      "cell_type": "code",
      "source": [
        "test_X = pd.read_excel(\"/content/drive/MyDrive/PRML LABs/PRML Minor Project/processed_batch (1).xlsx\")"
      ],
      "metadata": {
        "id": "DMkCjFF-5Oo0"
      },
      "execution_count": null,
      "outputs": []
    },
    {
      "cell_type": "code",
      "source": [
        "test_X = test_X[[\"Comment (Displayed)\",\"Classification\"]]\n",
        "test_Y = test_X[\"Classification\"]\n",
        "test_X = test_X[\"Comment (Displayed)\"]"
      ],
      "metadata": {
        "id": "dfYMdLva5c1y"
      },
      "execution_count": null,
      "outputs": []
    },
    {
      "cell_type": "code",
      "source": [
        "# test_Y.replace([\"spam\",\"not spam\"],[1,0],inplace = True)\n",
        "# test_Y"
      ],
      "metadata": {
        "id": "bsrviem0vs_6"
      },
      "execution_count": null,
      "outputs": []
    },
    {
      "cell_type": "code",
      "source": [
        "len(test_X)"
      ],
      "metadata": {
        "id": "zqpl50WN57f9",
        "colab": {
          "base_uri": "https://localhost:8080/"
        },
        "outputId": "884ef165-ada8-425e-9850-0c355ed03cee"
      },
      "execution_count": null,
      "outputs": [
        {
          "output_type": "execute_result",
          "data": {
            "text/plain": [
              "2948"
            ]
          },
          "metadata": {},
          "execution_count": 19
        }
      ]
    },
    {
      "cell_type": "code",
      "source": [
        "# stopping and lemmatizing the test samples\n",
        "corpus = []\n",
        "for i in range(0,992):\n",
        "  review = re.sub('[^a-zA-Z]', ' ', test_X.iloc[i])\n",
        "  review = review.lower()\n",
        "  review = review.split()\n",
        "  wnl = WordNetLemmatizer()\n",
        "  all_stopwords = stopwords.words('english')\n",
        "  all_stopwords.remove('not')\n",
        "  review = [wnl.lemmatize(word) for word in review if not word in set(all_stopwords)]\n",
        "  review = ' '.join(review)\n",
        "  corpus.append(review)\n",
        "test_X = np.array(corpus)"
      ],
      "metadata": {
        "id": "nHZYNCV_5sh1"
      },
      "execution_count": null,
      "outputs": []
    },
    {
      "cell_type": "code",
      "source": [
        "test_X"
      ],
      "metadata": {
        "id": "jadtO5rfWIFg",
        "colab": {
          "base_uri": "https://localhost:8080/"
        },
        "outputId": "65ff37b3-4f8c-448c-babf-477a1259437c"
      },
      "execution_count": null,
      "outputs": [
        {
          "output_type": "execute_result",
          "data": {
            "text/plain": [
              "array(['zombie spider bomb damn lab',\n",
              "       'way le cool seems spider actually muscle extension leg hydraulically controlled force grabbing thing rubber band like action dead muscle also dead grab weak main reason lift stuff little claw hook thing',\n",
              "       'spider see made terrifying go poking panic button', 'look pretty',\n",
              "       'hear hair standing wife arm mile away',\n",
              "       'love science massive nope', 'arcade machine australia like', '',\n",
              "       'australia looking ooo claw', 'wow',\n",
              "       'mean look like something b slock sci fi movie see applaid us grappling movmient aprosthetic hand',\n",
              "       'kinda reminds episode code lyoko spider controlled via xana',\n",
              "       'dof gripper noice', '', 'biological robot cool', 'good job',\n",
              "       'thought quot wow could watch cleo talk anything quot br well',\n",
              "       'zombie robot spider',\n",
              "       'wake babe new horrific state consciousness fropped',\n",
              "       'one woman could listen day', 'never show jordan howlett', '', '',\n",
              "       'basically scientist playing around dead spider started using dead corp pick thing br br intreating um wonder practical application',\n",
              "       'start putting ai dead spider sorry quot', 'want spider',\n",
              "       'claaaaawwww',\n",
              "       'best worst part name given new branch robotics necrobotics', '',\n",
              "       'shit cave johnson would come',\n",
              "       'not needed thinking behind would sound cool let',\n",
              "       'cleo brings interesting info bomb always',\n",
              "       'well wanna follow beautiful smile',\n",
              "       'actually subscribing want see dead spider', '',\n",
              "       'neat wanted share observation lady lower jaw keira knightley',\n",
              "       'time make big spider small spider', 'love hate',\n",
              "       'done rice university anyone curious', 'awesome horrifying time',\n",
              "       'beautiful sory iam context',\n",
              "       'used like cleo br thought nice girl br great storyteller sense integrity curious mind br',\n",
              "       'stumbled apon channel holy damn great sidenote get one spider grabber',\n",
              "       'biomimicry best', 'actual nightmare fuel',\n",
              "       'use dead spider instead recreating something using principle could maybe share dead spider pls',\n",
              "       'ha holy shit im dying twisted frankenstein wannabe lost bet',\n",
              "       'nightmare fuel',\n",
              "       'book called child time adrian tchaikovsky world dominated spider',\n",
              "       'oh step west world', 'necromancy science didnt bingo card',\n",
              "       'fascinating horrifying time', 'kiara knightley',\n",
              "       'need apologetic biomimetic engineering really cool field mechanism already available nature perfected thousand year evolution trying replicate would really take u next level',\n",
              "       'far literal frankenstein monster remember dog brought back life',\n",
              "       'thanks hate', '',\n",
              "       'name natural philosophy vow get noble p izz marry equally wholesome sister',\n",
              "       'sound intelligent born knowledge attracted people knowledge come give new term',\n",
              "       'create kind reverse shrink ray make bigger usable size',\n",
              "       'spider scientist year took two day said okay', 'nightmare fuel',\n",
              "       'might useful situation delicate material need moved', '',\n",
              "       'super interesting yet also absolutely horrifying', 'probably',\n",
              "       'saw someone call eight legged forklift hell agree',\n",
              "       'hideous br yet science', 'gross',\n",
              "       'please bring content spider love arachnid though guessing expression think feeling mutual',\n",
              "       '', 'nope', 'gross br', '', 'love', 'gross watching good', 'quot',\n",
              "       'burn ground',\n",
              "       'ok ok ok get spider corps first place dont want know im ok spider living uk spider harmless still lab somewherw world bunch dead spider im going lot question answer',\n",
              "       'amazing application biologically motivated robot really cool scientist also created robot like spider hydraulics phenomenon course robot used industrial application',\n",
              "       'awesome', 'day cleo', '', 'amazingly disturbing',\n",
              "       'fine want sleep tonight anyway', 'average ohio scientist',\n",
              "       'fascinating payload capacity rather small therefore next logcial step use genetic engineering produce much larger spider',\n",
              "       'someone need gripper blend nature', 'genius lol', 'hell nope',\n",
              "       'im reading child time rn feel like gonna come book', '', 'let',\n",
              "       'scientist favorite holiday halloween', 'please share dead spider',\n",
              "       'finnaly prostatic hand arrived', '', 'cool sooo putting',\n",
              "       'scientist australian', 'hey look found beginning end thing',\n",
              "       'discovered fetish', '', 'princess padme amygdala br nat portman',\n",
              "       'useful information said b every b evil genius',\n",
              "       'prank going awesome', 'scorn', 'great lol', 'bro ik',\n",
              "       'last spider clip', 'stuff nightmare',\n",
              "       'thing cancer disease already cured tell look anyways good luck fake illness',\n",
              "       'pretty face cure', 'still not looking root cause',\n",
              "       'look taking get rid cancer stop eating hydrogenated oil processed food',\n",
              "       'look quot german new medicine quot cancer not say people die quot cancer quot people die chemotherapy radiation poison',\n",
              "       'really understand argument not getting regular checkup seemed like really weak rationalization still seems like checkup prevent cancer',\n",
              "       'clickbait reported',\n",
              "       'spend nearly enough time risk early intervention br br want depth overview british cynic check medlife crisis video br quot epidemic fake disease quot',\n",
              "       'cure disease including cancer correcting toroidal energy field high vibrational frequency body',\n",
              "       'managing thyroid cancer decade almost ive seen go come back shrink tell cancer feed weakness build mental physical toughness channel anger sadness hate often cancer patient sensitive lot trauma havent dealt expressed eats depression loneliness hopelessness betrayal big feeder stress not sure cancer shrunk cm year even though smoking homeless stressful time lonely depressed br hope help someone nature expression movement connection br kill cancer',\n",
              "       'sadly not never finding cure disease big pharma paid government shrills maintain model',\n",
              "       'amongst stupid thing world waiting someone show symptom possibly deadly illness disease act detect probably one dumbest',\n",
              "       'cost money detect', 'turkey tail mushroom',\n",
              "       'short cancer god way saying exceeded visa limit time find depart existence',\n",
              "       'last part video skewed towards u healthcare system inefficient unaffordability mean reason promoting early detection effort expensive india get ecg x ray full blood test without government subsidy way cost go view necessity people demand enough advancement happen',\n",
              "       'start not eating pesticide not smoking not eating dead animal milk baby cow not sitting microwave oven cell phone router cell phone tower etc not eating plastic bathing toxic chemical love life express feeling',\n",
              "       'there point asking doctor around anything generally answer another question asked doctor test might benefit would probably ask work im thinking bla bla bla bla bla sit overwhelm many question end ill give',\n",
              "       'one good reasojn think dont try detect early people healthy medical industry get le money',\n",
              "       'honest cheaper option table amazing impact br physician provides exercise plan boost vo max help prognosis strong correlation good vo max comorbidity br better regulation around sugar carb gmo promote healthier eating habit reduce cancer risk br br cheap help move trend',\n",
              "       'cancer human not natural pointed start vid graph showing many people getting today sure better tech detect today even still main reason un natural disease rate society avg eats way much un natural food waste time un natural activity drink sort un natural sugar filled drink knowing truly believe cure cancer healthy diet exercise stress relief solid social life many avg person deprived',\n",
              "       'best cure prevention instead detection href invalid zcsafez',\n",
              "       'none address root cause problem american injesting carcinogen everyday',\n",
              "       'maybe real cure cancer friend made along way',\n",
              "       'need chop radiate use toxic chemo destroy whole body potentially destroying cancer process end regardless left weak broken body ready cancer show',\n",
              "       'video goofy great effort clearly indoctrinated pure water water fasting raw fruit vegetable diet antiparasitic food vitamin b c zinc magnesium vitamin percent world deficient herb spice like raw garlic cinnamon tumeric black pepper dandelion tea lemon juice cranberry aloevera granny smith apple l lysine blushwoodberry extract fenbendazole antiparasitic drug market chlorine dioxide cancer parasite not person think taking actual toxic lethal poison viens exploding liver organ big pharma liver grenade dumber box rock problem society though everyone suffering severe organ inflammation severe vitamin deficiency severe parasite infestation people even think critically anymore mind stop consuming toxic substance cancer feed simple day water fast kill terminal case cancer definitely want thing ever even consider letting freak put claim died battling cancer reality people usually die cancer die poisoned death hand sick cult stay away milk dairy product stay away egg thing fuel cancer virus like gasoline fire',\n",
              "       'n nutrition br e exercise br w water br sunlight br temperance br air br r rest br trust god br br cut sugar processed food dairy go minute walk everyday br br already decreased risk cancer',\n",
              "       'b prolonged fasting ketogenic diet boom cure cancer feed glucose cut carbs exces protein go full keto prolonged fasting b',\n",
              "       'suffering cancer meet dr folarin helped right treatment living good life',\n",
              "       'watch quot burzinsky cancer cure cover quot br cancer not problem already cure becuz u dont see look like near impossible discovery hardly would happen br made new vakzyn cancer take time know healthy person succesfully prevented getting cancer br pndmi profitable milked million u sh show continues',\n",
              "       'amazing episode father died cancer doctor find spread going get first screening soon make regular thing life',\n",
              "       'real cure cancer btches',\n",
              "       'medical industry worst nightmare capitalism',\n",
              "       'first place would go battle cancer dr stanislov brasinski developed antineoplaston therapy back',\n",
              "       'terrible video terrible topic terrible society',\n",
              "       'cancer disease always exist way stop',\n",
              "       'maybe make friend drug cancer terrorist seem losing quot war quot',\n",
              "       'stem cell research',\n",
              "       'guy dont lose hope br cancer isnt incurable anymore br ive seen many people around diagnosed cancer left many cured literally friend fighted cancer trust allah',\n",
              "       'early detection far important teach people important understanding every single habit choose daily either increase decrease cancer risk sleep habit smoking food eat action take ironic society fail make conscious effort daily life adopting healthier habit countless study decade prove time time cause disease yet still cannot change blue zone area world people not disease cancer comparison place would think one would try adopt lifestyle habit nursing school remember professor teaching disease cancer still choosing follow unhealthy habit know cause disease nursing student medical doctor dietitian nutritionist seems deficiency ability discipline make conscious effort daily said cannot expect people live healthy lifestyle leader claim know even live healthy lifestyle keep good fight',\n",
              "       'probably already cure waiting still profit app purchase',\n",
              "       'sick past year first started finger hand tremor head tremor tingle body camera flash vision recently double vision eye eye pain headache brain mri come back unremarkable cervical spine neck mri came herniated disc gone different type doctor seem interested wanting help much dismiss quickly charge insurance money br br live america btw either doctor disinterested helping patient medical knowledge whole still poor grasp full array human disease',\n",
              "       'medical system business profit business want keep alive still needing treatment',\n",
              "       'cancer life sugar', 'medicare',\n",
              "       'never cure big pharma charge cured cancer cash drug company mayo clinic make billion chemotherapy radiation surgery cure cancer come lose billion even trillion good luck many cure cancer dating back suppressed destroyed fda',\n",
              "       'stem cell hyperbolic chamber treatment key br',\n",
              "       'immunosuppressant',\n",
              "       'cancer parasite problem deworm defend cancer',\n",
              "       'opinion not doctor plant great health research kalanchoe pinnata kalanchoe laetivirens help opinion blessing love healing people',\n",
              "       'get buccal fat removal',\n",
              "       'not poisoned food air breathe water drink best cure also stress modern slavery called job mortgage isnt healthy',\n",
              "       'andreas moritz look video book cancer cure everything lie',\n",
              "       'keeping information people quot',\n",
              "       'cancer stress psyche based disease',\n",
              "       'please follow miracle immuno adjunct crispr',\n",
              "       'cure cancer stop reverse aging fast like month b c cancer unable use ketone',\n",
              "       'gorgeous smart great video', 'cure vitamin b',\n",
              "       'competing cancer theory disagrees current standard care cancer metabolic theory cancer fascinating reading',\n",
              "       'geeky cross natalie portman gal gadot',\n",
              "       'wanna get rid cancer option joe tippens protocol ivermectin keto diet',\n",
              "       'heard post ssri sexual dysfunction next big epidemic likely despite awareness acknowledgment ema not much done prevent investigate issue understand thing need cured hope every cancer treatable curable future iatrogenic condition happen treatment treatment reverse effect therapy wipe cancer br br think important acknowledge hormonal issue never go back homeostasis cognitive function chemotherapy drug used treat cancer broader range recovery',\n",
              "       'kyedae cancer idek anymore', 'take chance fuck ball',\n",
              "       'cover cure cancer not get lot press prevention starvation may not full proof may inhibit formation slow growth cancer cell thanks great video informative',\n",
              "       'seeking cure end cancer like seeking cure end profit go free energy geological space anti gravity full independence',\n",
              "       'like nobody talk prevent cancer eating properly not ingesting poison like sugar mcdonalds',\n",
              "       'may cure cancer help prevent slow cancer whole food plant based vegan diet also quite delicious also cancer fasting sometimes helpful fasting chemotherapy double effect cancer finally research ask question listen random people youtube',\n",
              "       'neubrutalism style intro great', 'cure cancer',\n",
              "       'quality video call noticeable',\n",
              "       'get rid body oh newest ibody model pover', '',\n",
              "       'feel like people family got cancer monthly check ups loved one die cancer im not going lie scared higher percentage want checked early',\n",
              "       'ketosis glutamine', 'iodine', '',\n",
              "       'canada healthcare neighbor yo something growing top head crusty leaky wound healed growed instead dismissed doctor waited close year something br course cancer deep scuk chirurgie chemo skin graft growing back place head radiotherapy',\n",
              "       'fasting cancer much growth fat insulin resistant insulin growth hormone furthermore cancer thrive sugar fast body get cleaning mode try find damaged cell body recycle guess cell get evicted br known long incorporated post agriculture religion',\n",
              "       'antineoplastons government teamed elan pharmaceutical hijack knowledge patent dr stanislaw burzinski waging continous lawsuit every level attack medical license treatment little risk toxicity super sad people believe story even look kinda mean deserve anyways',\n",
              "       'appreciation dr obulor youtube wonderful amazing work giving permanent cure cancer disease year suffering finally cured thank sir',\n",
              "       'epic', 'break habit greed business',\n",
              "       'food growth hormone greed stuff profit human profit come like snake astound famous banner coiled around eating tail entwined around weapon obviously not good u money cancer humanity dna response',\n",
              "       'reason give people cure cancer simple br money treatment cancer not cure',\n",
              "       'project open source medical research trying switch traditional medicine research remove need research profit transform research based need one favorite etica protocol',\n",
              "       'nothing video cure cancer treat treat symptom treating cause cancer whole story opinion public focus gabor mate lot say',\n",
              "       'recommend watching epidemic fake disease medlife crisis one shallow pop journalism',\n",
              "       'youre wrong cancer good toxin kill fungus grow cancerous area cancer body way coping unnatural environment substance obvious lol',\n",
              "       'may allah give shifa cancer patient keep u safe cancer',\n",
              "       'way men diagnosed cancer world would not function',\n",
              "       'whole food plant based diet eradicate almost cancer not mean vegan cancer proof dramatically le cvncer overall br br go vegan',\n",
              "       'clean breeding clean living clearmind body sin natural nature bound reversal wishful think',\n",
              "       'answer cure cancer start multicellular organism known hydra hope information get right person able use make difference amene',\n",
              "       'find cure al please',\n",
              "       'curiosity long full body mri take br get mri done neck every year take minute granted also done contrast add time curious long full body would take br also point claustrophobic mri machine probably not good place',\n",
              "       'great video',\n",
              "       'interesting br href http www youtube com watch v usmu scncss amp yes majority u get cancer however slow undulating benign malignant people cancer dye normal age cancer not talking pancreatic breast colon like lymphoma skin cancer br href http www youtube com watch v usmu scncss amp yes cannot screen everyone cancer insurance allow symptom imagine x ray rash however screen deadly cancer routine know trend like colon breast',\n",
              "       'real cure cancer dismiss woke ideology br take fund quot',\n",
              "       'click bait avoid',\n",
              "       'b spends day sitting eats plastic get enough sleep stressed time diet based sugar carbs eats potato fried industrial lubricant wear sunscreen drink tap water b br quot oh could possibly get cancer must genetic not product environment quot',\n",
              "       'speaking someone work oncology believe important aspect',\n",
              "       'one really need know cancer big big business not looking simple cheap even competitive answer know mean',\n",
              "       'reading today company called neogenetics run standard blood test detect cancer',\n",
              "       'recommend book world without cancer story vitamin b g edward griffin open eye truth cure cancer government involved',\n",
              "       'love cure everything', 'ty', '',\n",
              "       'cleoabram please look kyte pharma gilead company',\n",
              "       'eat organic naturally oil fry amino acid gene play',\n",
              "       'honestly idea mri work', 'incredible love way explain topic',\n",
              "       'informative video mention step prevent getting cancer first place please correct wrong cell go haywire one day felt like hard copy mistake cloning phase always cause time ionizing radiation virus dna altering chemical come certain food going crowded place sun cosmic background radiation etc finding way limit exposure first line defense right',\n",
              "       'funny mention hazmat suit work chemotherapy even stem cell transplant basically chemotherapy said would kill someone twice age time nurse wear face shield crazy like rubber glove bag drug sensitive uv light covered black bag people visited two people allowed room hand washed sanitised even entered ward spent week basically dying day chemo administered whole lot story unless someone asks draw comment',\n",
              "       'training education presenter',\n",
              "       'great story like put together lot great question answered way look like princess new star war bad old enough great grandfather reverse aging',\n",
              "       '', 'civil war body never heard put way work',\n",
              "       'another great video cleo learn lot video',\n",
              "       'excellent always thank',\n",
              "       'cannabis cure cancer absolute fact dont need big pharma',\n",
              "       'useless info',\n",
              "       'wrong many cancer emerging pollution poor food supply nutrition',\n",
              "       'mushroom', 'search quot wife frequency channel quot replace w r',\n",
              "       'search quot', 'dad got diagnosed colon cancer operation',\n",
              "       'always enjoy story ab break surprisingly interesting today inside look work flow',\n",
              "       'really interesting video also filled sadness aunt childhood neighbor still parent neighbor diagnosed stage cancer last year looking grim know prior mother sister increased likelihood certain type cancer mom get regular checkup aunt br make sad think could prevented also feel kind anger aunt checkup not child mom best friend whole situation awful unfathomable came nowhere',\n",
              "       'never cure cancer much money made treatment',\n",
              "       'great interesting video curious much production took like researching filming editing',\n",
              "       'nice video slightly disappointed mention diet least average american diet littered processed animal product million consume daily basis enough literature cite support whole food diet reduce meat product especially processed meat not saying convince people go vegan seriously consider changing amount oxidizing food eat number one cancer preventative measure',\n",
              "       'cure',\n",
              "       'cancer infinite money generator corporate medicine would ever want make le money',\n",
              "       'recently documentary topic cure cancer find anymore video private br br nevertheless documentary talked fact already cure cancer dr burzinsky author treatment one discovered principle behind cancerigenous cell principle easy understand found cancer cell lack enzimes memory serf commonly found healthy cell cancer cell quot fed quot enzimes start behave normally antineoplaston call treatment br br shocking part made discovery year ago dr burzinski spent last four decade fighting fda able release treatment public br br documentary mentioned cancer case showed retreat two week treatment side effect extra suffering digit cost pay br br know amazed could ask something would new video talking cure would',\n",
              "       'get nothing',\n",
              "       'cleo hello liked video look like lot hard amp long work went totally appreciate informative video much like said regard quot pro active care quot could not agree touched accessibility aware different place world good healthcare might not easily accessible accessible one reduce chance becoming ill br br would great adding adjunct video future video example speaking healthy lifestyle nutrition exercise emotional level etc choice practice people help reduce risk factor becoming ill moving towards informed healthier life style thought think video great thanks posting sharing looking forward come next',\n",
              "       'screening best something involve radiation br little said many cancer actually caused radiating people body br looking cure great let also focus teaching people cause cancer lifestyle change make early br br besides fantastic video cleo',\n",
              "       'another important test add conversation genetic test genetic councellor not amp lol relatively noninvasive identify type cancer people much predisposed',\n",
              "       'cause cancer cause every disease fueling body ashen remnant burnt life designed take intact whole cell either alive recently living still intact entire biosphere earth work except human first burn fuel ashen remnant take fuel wrong bad result follow probably infinite number way system fail following process science medicine identified way given name treatment never run optimally specie civilization monitor intake life torn tiny shred previously whole living cell made long elegant molecule',\n",
              "       'read good calorie bad calorie gary taubes many book research done early cancer get mostly ignored money otto wurbarg found cancer cell use fermentation even presence oxygen survive westin price work show much diet changed really come processed food overconsumption much sugar carbs dont eat seed oil trans fat refined flour water fast think cancer starve glucose fasting cancer could described reverting state energy production ancient cell cell oxygen deprived environment billion year ago',\n",
              "       'think many life would save simply removed profit motive healthcare course would mean shareholder able buy new home theater wanted guess definitely',\n",
              "       'want defeat cancer stop eating carbs make fasting part lifestyle intermittent fasting every day hr fast month every two month br br testing lead one thing cancer mean money big pharma br br get zero money pocket big pharma eating whole food not getting cancer first place',\n",
              "       'damn look like bella thorne',\n",
              "       'pretty much skip diagnosis problem dismiss research simple quot bad data quot well surprise bad',\n",
              "       'rife machine',\n",
              "       'yeah let put faith medical industrial complex helped u well past oh wait',\n",
              "       'yeah course need cancer screening since world injected defective p gen',\n",
              "       'research dr anthony holland would like know targeting cancer cell electromagnetic frequency',\n",
              "       'cure cancer already discovered man named dr royal raymond rife using frequency different sound wave target cancer cell shatter matching resonant frequency developed fully functional machine could even scientifically documented unfortunately vested power caught wind machine equipment destroyed research stolen died age alcoholism sleeping pill br br br still found cure cancer yeah right',\n",
              "       'info turkey tail mushroom said effective cure cancer',\n",
              "       'cancer love love sugar',\n",
              "       'simple solution treat body healthy food add vegetable fruit wonder body active maintain body stuff like exercise yoga even light jogging go long way know guarantee immunity cancer give body fighting chance also understand many unfortunate people afford healthy diet government responsibility provide adequate healthy food everyone conclusion take good care body take good care',\n",
              "       'fasting help cure cancer',\n",
              "       'fuck cause cancer least say medicince still doesnt know',\n",
              "       'partner chest xrays last october coughing blood got clear cancer apparently treated antibiotic chest infection given pain relief quot sciatica quot symptom never went away four week ago call ambulance breathe low turn massive tumour lung quot sciatica quot cancer spread pelvis early detection',\n",
              "       'people seen beat cancer fasting',\n",
              "       'mention low income people access cancer treatment people developing country well',\n",
              "       'burzynski cancer cure cover br br full documentary youtube conspiracy theory',\n",
              "       'mention doctor burzynski antineoplastons nope mention antineoplastons apparently research clown br anyone actually interested watch quot burzynski cancer cure cover quot full documentary youtube million view already not conspiracy theory',\n",
              "       'thanks continues update super excited investment going far making k every week amazing gain',\n",
              "       'studying cancer forgot mention bp treatmen methalation testing health helper microbiomes live also mitochondrion healthy diet microbial inner talk ect',\n",
              "       'last part data trust medical industry especially pandemic treat people triage preventing early detection time good population bad individual individual must not blocked selfishly prioritizing personal health personal effort merit',\n",
              "       'oof good editing propaganda style',\n",
              "       'early detection great afford afford cure lot people u live pay check paycheck',\n",
              "       'great video however let honest money live profit healthcare world money cure early detection cynical corporation not care people care maximizing profit get sick go bankrupt die not care money money money',\n",
              "       'discovered female johnny harris collab',\n",
              "       'diagnosed stage kidney cancer clear cell simmering year year age symptom sore back immune system decline getting frequent cold flu needing longer time recover sickness feeling cold temp used totally comfortable thinking getting older one day started blood urine br br modern medicine cancer free today not easy road getting wish somehow could known earlier like reported not part modern medical practice',\n",
              "       'amazing video though wish would spent time humanistic doctor patient quality life discussion since know exactly cancer tumor act especially whether not benign telling people test test test may actually end individual harmful treatment significant surgical br br technology absolutely important thing touch though get journalist try engage tell story way edited presented cool amazing technology compared maybe th video briefly touching diagnosis lead time bias give audience enough information understand many doctor afraid emotional framing way express displeasure also twist audience expectation would also loved see side conversation maybe standing opposing medlife crisis excellent video overdiagnosing would stoked guy could maybe collaborate br br always amazing work',\n",
              "       'aajonus vonderplanitz discovered cure cancer easily way reversed disease eating raw meat raw animal fat reversal rate based thousand client year youve probably never heard good reason medicine make racket murdering people lower human lifespan satanic master u survive chemo therapy trust would survived cancer diet chance without medical intervention beating quot cancer quot',\n",
              "       'cancer body low immune system time genetic everyday body fight cancer cell horrible eating habit also fast fasting rids body toxin inhibit immune system everything told cancer lie chemotherapy may somewhat effective used business model keep customer coming back never tell fast stop eating certain food eat green vibrant quot organic quot color say organic pesticide part pharmacutical company also provide chemotherapy br immunotherapy using body fight cancer cell body already course want profit label br br disease not told truth',\n",
              "       'assumed people mother doctor nature disposable',\n",
              "       'extreme amount said said unnecessary follow ups none anything paternalism quot acting poorly info quot problem find something benign time faced telling someone quot chance cancer probs not quot faced people opt examination treatment quot sure quot medical system benign benign finding poked prodded come risk beyond patient anxiety side thing br br early detection crucial detection method need reliably sensitive specific whole body mri not answer course following almost certainly benign finding harm done patient good leaving something alone hurt none benign finding folk meanwhile getting unnecessary procedure massive chance harm across large population opinion people getting wound site infection among myriad complication bump early detection not best approach though agree better method early detection needed',\n",
              "       'mri seems like great targeting system ad gamma knife could also cure stage cancer',\n",
              "       'problem early detection know go become fully developed cancer body take care instance could u mammogram capture many case breast cancer detected otherwise know statistic not defected case go problem immune system dealing case fine systematically scan population needle surgery percentage needle chemotherapy early detection not going result better overall outcome however knowing risk help u target individual closer surveillance maybe get better outcome genetic testing come play course along research identify mutation lead individual likely get cancer growing area',\n",
              "       'biochemistry oncology read prevented keeping blood sugar low running ketone whole life not type cancer utilize idk also read individual type gain unique trait based host dna seen people use kind diet lifestyle stop cancer growth even freeze track hope researched cause steeped much health controversy people flat refuse believe even work',\n",
              "       'course m quot abram quot mr quot simon quot explain u biden good going treat cancer dr burzynski decade using antineoplaston technology unfortunately not one chosen people',\n",
              "       'learnt paternalistic href http www youtube com watch v usmu scncss amp lovely specific meaning',\n",
              "       'question often person get screened cancer', 'mouse bite',\n",
              "       'thank much making video',\n",
              "       'wish clicked video sooner wild title glossed another person selling kinda cult snake oil',\n",
              "       'think live longer instead die longer br need fix', 'knew along',\n",
              "       'nice johnny harris editing style',\n",
              "       'except real disease always aging people accelerate day instead slowing',\n",
              "       'two year ago mother aged time went annual breast exam mother undergo full mastectomy around age always dreaded day doctor would give terrible diagnosis br came radiography room listen result felt something wrong doc slight concerned look face quot liiiittle spot worry monitor evolution come next year quot br not reassured asked another appointment chief oncology hospital exam thank god time got appointment little month little spot became small lump oncologist booked appointment sample get surgically taken order determine type cancerous cell jump two month later r raisin sized tumor removed br walked two breast almost entirely intacts nothing lump cut thanks oncologist quick response initial warning gone home trying forget dreadful little spot trusting first doc denial probably would suffered fate mother would traumatised way woman ever br take care good reason suspect something might wrong make sure rest ear otherwise give got beat fucker time call body home',\n",
              "       'gotta get rid telmarines someting',\n",
              "       'spreading lie disinformation cancer making mountain molehill cancer easily curable every stage development also prevent ever occurring body',\n",
              "       'screw dr cancer life glucose glutamine done',\n",
              "       'friend treated budwig clinic south spain well given month live showing almost complete remission success rate treating people naturally chemo radiation wish video would spent least little time talking natural clinic use alternative treatment several around world said video good quality well produced',\n",
              "       'dr sebi', 'bullshit',\n",
              "       'remind much physic girl not well due long covid btw maybe support patreon info always spot delivery entertaining one note regarding mri multiple mri missed si joint syndrome newest pain specialist explained mri see around going guessing probably applies thing like like joint bone etc rather soft tissue cell asn maybe someone knowledgeable comment clarify one way',\n",
              "       'well presented video poorly researched biased important role lifestyle change nutrition reaserch left completely hope revisited holistically',\n",
              "       'feel sad american', 'still hospital recover well',\n",
              "       'dr sebi cured cancer patient year', 'lot yidden video bh',\n",
              "       'cancer curable',\n",
              "       'believe sugar main cause cancer least developed body sugar carbs feed cancer',\n",
              "       'find remarkable spite diagnosis may say',\n",
              "       'cancer cost existing specie cut heal see scar heals perfectly life perfect much perfect stuff die eating much growing much also harmful',\n",
              "       'nobody questioning wireless transmission data nuked radiation every day',\n",
              "       'apricot pit', 'supervised day fast good first step cancer',\n",
              "       'please make video ai detection mri scan',\n",
              "       'not everyone money go get tested early cancer many people wait late',\n",
              "       'ech not detection prevention lacking people fat lazy smoke drink abuse body thousand horrible way want cancer free eat sugar move as drink alcohol smoke stay away processed food intermittent fasting better cancer cure earliest detection',\n",
              "       'greatest problem finding cure cancer people live cancer die cancer couple clinic high average percentage curing patient cancer clinic not accepted mainstream medical mafia course',\n",
              "       'catching cancer early fine dandy nothing stop happening keep smoking drinking eating junk food not addressing virus probably caused cancer likely going get stop caused cancer begin addition chemo radiation cause cancer almost sure get get treatment cancer viral need eradicate virus cause cancer simian vacuole virus type human papillomavirus hepatitis b amp c hiv h pylorus herpes epstein barr human lymphotrophic virus merkel cell polyomavirus cause cancer probably around cancer caused one virus studying cancer nearly year nutritionist',\n",
              "       'interesting maybe one next video could explore fundamental question get cancer prevented',\n",
              "       'purdy', 'greatest lie never cure',\n",
              "       'copy video editing max maher even way talk innovator imitator',\n",
              "       'look r burzynski suppressed cancer cure whole documentary fda bullying medical practice since reason suppress br currently mainstream treatment way profitable',\n",
              "       'title video clip intriguing drive traffic particular clip content wise shit heard',\n",
              "       'johnny harris would proud',\n",
              "       'capitilism commodification culprit yet',\n",
              "       'prolonged fasting autophagy remove many kind cancer including metastasis',\n",
              "       'nice video would interested feeding cancer typically avoiding',\n",
              "       'real cure yeah rich fuck knew',\n",
              "       'baffeled talk cancer treatment rather prevention could prevented would money made form',\n",
              "       'think cure cancer dreaming look dog dewormer liked cancer sound',\n",
              "       'could possible approach like plan insurance people acquire like testing every year efficient frequency understood point unnecessary follow ups creates fear plan come education le fear everything schedule also job govt thought idk smarter people sure figure',\n",
              "       'href http www youtube com watch v usmu scncss amp', '',\n",
              "       'daily tea drinking green tea help reduce risk cancer certain cancer',\n",
              "       'want cure cancer make much money treatment cure',\n",
              "       'absolutely love channel keep amazing quality wishing lasting success href invalid zcsafez',\n",
              "       'besides early detection treatment need understand cause cancer considering cell body',\n",
              "       'could someone tell make video like go making mean learn make somthg like would like learn without spending money course br thankyou',\n",
              "       'even somewhat lapsed sandbox puritan like agree think silliness lot make halo interesting mean look one favorite enemy grunt love silliness',\n",
              "       'nothing otto warburg metabolic theory cancer metabolic therapy studied cancer thrives carbohydrate sugar something world become addicted known since go read quot ravenous quot sam apple cancer metabolic disease dr thomas seyfried',\n",
              "       'cure cancer existed multiple decade not good business cancer patient equal profit pharma every single modern quot disease quot keep u sick alive long u pay drug keep u alive circle never end br br think logically cancer mutated cell u got mostly fault diet responsible genetics genetics may preload gun cancer food pull trigger guess u pull trigger grain seed oil processed product food chemical u urself kill body every single day eating body cant handle anymore cell mutate u go cancer br br think cell feed glucose glutamine u least brain cell left u realize u win half battle removing sugar go keto half war already br br u know cancer cell cant survive long healthy cell without fuel u stop fuel entering cancer cell yes u guessed fasting u literally starve cancer death br br another ultimate treatment would glutamine suppression idk drug not available public actually know ever stopping glucose glutamine u would beat cancer day br br guy instead watching useless video say nothing u think head cancer treatment free anyone home right moment medium never let u know knowledge disease exist man made bull crap br br health life hand go carnivore keto forget doctor even exist u never need see',\n",
              "       'sad example failure capitalism not much better idea capitalism led awesome growth individual well point system corrupted profitable make lifetime medication cheap cure got big problem cant wait leave governance humanity ai maybe steer ship bit better',\n",
              "       'address cancer metabolic disease driven unopposed estrogen low thyroid low metabolic function screwed cell environment energetically supportive low thyroid impaired respiration go rouge influence estrogen division without differentiation radiation screening estrogenic activate dormant cell people mostly die treatment cachexia',\n",
              "       'mother saved colon cancer screening got screened found large mass appendix got removed turn pre cancerous thankfully completely cancer free get checked folk first colonoscopy year age',\n",
              "       'thanks',\n",
              "       'excellent video missed crucial part thing life style choice person lower chance getting cancer crucial br br b fasting b people h fast one month ramadan way le cancer imagine would happen intermittent fasting around year bimonthly full day fast br br b give sugar b cancer cell insulin receptor normal cell need energy grow faster nornal cell giving sugar processed food help lot note sugar directly cause cancer sugar processed food may help grow quickly br br b nutrition b proper amount vitamin k e folic acid b etc needed proper functioning note dosage vitamin increase chance getting cancer optimum dosage required br br b include spice herb b many herb anti cancer filled antioxidant like amla turmeric pepper coriander triphala clove cinnamon ginger kanchanara guggulu etc note self medicate using extract try add food kanchanara guggulu ayurvedic medicine',\n",
              "       'famed author oncologist saddarth mukerjee believe find true cure cancer lifetime know body pathway despite amassed much knowledge body century realized know understand tip agree lot called game changer never live promise front line treatment still chemo radiation plus year old really made much progress new therapy simply not understand cancer demonstrated many new cancer drug extend life month idea fail',\n",
              "       'nuanced conversation breast cancer surveillance testing early often resulted many individual thinking cancer vice versa tricky part seems window screening would appropriate type cancer several variable affect onset eventually surveillance standard catered towards genetic marker found birth decade',\n",
              "       'result rich people better', 'go vegan',\n",
              "       'real cure probably diet exercice lifestyle understanding individual body put inside trigger cancer grow fix go bad xd',\n",
              "       'one greatest cause cancer prescription medication currently medication market suspected causing cancer pulled allegation made',\n",
              "       'stop eating fasting revers cancer',\n",
              "       'everyone sign service get blood test ulta lab many test use detect cancer early doctor not run pretty cheap',\n",
              "       'vitamin proven year study cut risk cancer incidence one part quot',\n",
              "       'cleo great dubstep producer',\n",
              "       'simple blood test detect blood cancer early year early cost dollar moment time not test people usually caught accident everyone tested every year probably could slash multiple myeloma non hogkins lymphoma immunofixation immunoelectrophoresis test found monitored yearly every six month moment cross cancer every treated give much better chance health care pay foolish',\n",
              "       'talk nutrition benefit modern food impact lifestyle change absolute mainstream garbage content',\n",
              "       'insightful video minute real cure cancer not single word br food lifestyle prevention amazes',\n",
              "       'lost parent cancer would not surprised get diagnosis someday',\n",
              "       'quot doctor feeling worse worse year noticed quot br br doctor oh probably nothing let little blood work br br br naggy azz get detection test insurance get decide not doctor br br grandma sister cancer able even get mammogram told tissue dense like ok go google br br test one thing looking result online see something even tell br br one time er detected gallbladder issue confirming kidney stone br br exhausting',\n",
              "       'country simptoms mean bleeding eye intense chronic stomach ache gradually growing parch skin doctor sense minute checkup must imagined still understand not regularly get inflamation blood test supposedly telling specifically organ rather quot tell feel quot type subjective analysis',\n",
              "       'look dr helen lagevin research prevention method lie research fascia surprised video not talk importance fascia cancer spread fascia channel',\n",
              "       'early detection', 'r never going cure cancer', 'video insane',\n",
              "       'dr sara tancredi',\n",
              "       'ow understanding shifted think finding cancer early instead trying create vaccine something',\n",
              "       'everyone cancer cell key not let medical industry start treating scaring',\n",
              "       'often getting detection test maybe based long potential localized cancer becomes regional',\n",
              "       'stop eating sugar welcome take',\n",
              "       'finding cure one form stage cancer gt many people survive cure many able get br finding test gt many false positive lost year life good health plus lead time bias bravo mentioning br saying people quot fault quot saying cancer increase gt not fault probability cancer quot rate age quot increase bravo showing br finding alternative risk factor gt help despite reducing case efficient way currently even attack like vaping snus promotion attractive fun nrt normal alternative reduces least smoked amount intensity',\n",
              "       'usa not population cancer screening netherlands one everyone colon cancer another woman regarding cervix breast cancer know age br either test send post colon cancer something get done hospital gp find something suspicious get follow br br asking fit perfectly scope video',\n",
              "       'minute video br already know nothing really curing cancer',\n",
              "       'first video watch give sincere compliment team br production editing animation guide eye right spot help get concept brain complementary great script imagine much work go certainly show hope continue fashion great great great work lt',\n",
              "       'single dont know found beautiful',\n",
              "       'died cancer tech diagnose small one used indirect cause induced cancer diagnosis',\n",
              "       'bioelectricity spearheaded levin lab closest thing',\n",
              "       'href http www youtube com watch v usmu scncss amp end day isnt saving people making money end story p lost parent cancer spent close decade hospital',\n",
              "       'nothing prevention many thing cause cancer everyone every day everyone talk cigarette uv ray many cause',\n",
              "       'dr burzynski cancer cover story check quot',\n",
              "       'someone stage oral cancer tongue cut dont take chance ulcer dont go away not worth',\n",
              "       'awesome cleo cheer',\n",
              "       'look antineoplaston fda trying hide real cure cancer',\n",
              "       'underrated channel subscribed',\n",
              "       'amygdalin cure cancer also known laetrile money cure dying due rockefeller medicine boy girl',\n",
              "       '',\n",
              "       'metastatic breast cancer found mammogram yearly year family history visible ultrasound show mri contrast lobular cell carcinoma breast cancer common one looking might found sooner incidentally two metastasis treated initially missed due sloppy reporting imaging done',\n",
              "       'excellent video br br remember rest world health service not profit centre u united kingdom national health service nh year old yearly psa test finger botty prostate cancer part national health service local doctor quot well man clinic quot even got psa test pandemic deemed important enough carry brother aged get psa test pandemic registered high psa level high gleason score cancer level mri found prostate cancer treated month brachytherapy radioactive needle inserted prostate scan reveal gone caught early fine back cycling skiing canoeing climbing thing maybe age slowing br br also part nh organised quot well man clinic quot regular blood pressure check blood function test check kidney liver issue quot poo stick quot test look blood cancerous cell gut apparently even detect stomach cancer cell survive way also time donated blood test group looking identify cancer cell protein dna blood sample new diagnostic catch cancer early phone national health app result appeared phone along vaccination record covid test result health report medicine issued people slag nh personally well done nh oh also free point service nothing pay oh except parking charge per prescription',\n",
              "       'treatment available reach people people living developed country minority unfortunately',\n",
              "       '',\n",
              "       'like envisage cancer cell normal cell got laid like human get laid panic immediately start looking new work pay bill continue living lifestyle become accustomed find anymore work quickly turn negative lazy angry sad envious jealous enraged br br main reason cell get laid not eating healthy enough diet job breakdown plant matter order nutrient used build repair fight intruder want break take not giving nutrient mean body br br good bacteria like good people want world work know maintain lot hard job left undone cause system start breaking slum start appearing full people hope saved become human garbage recycled clog system like plaque depositing capillary cause u lose sense touch smell taste short term start building vein cause ulcer lead amputation among many possibility br br continue pollute body suffer fate planet keep going way going even save going save entire planet br br pull break',\n",
              "       'real cure cancer friend made along way',\n",
              "       'wow love video cancer video not even close level editing storytelling glad find',\n",
              "       'anti neoplastons', 'american eats trash food le veggie',\n",
              "       'nanotech mutating dna get food tap water air chem trail oh classified cant blame chem trail',\n",
              "       'thanks video cancer cure also make video possible cancer prevention',\n",
              "       'real cure cancer good balanced diet without much one thing fascination corn corn sugar etc big problem overexposure meat people thing eating ton meat instead well avoid carcinogen unnecessary chemical exposure every time expose anything roll dice depending bad dice higher chance rolling snake eye increasing chance cancer hit enough bad roll roll mutation could become tumor could become malignant get point safety catching early hitting anything available based cancer br br big part people die cancer nowadays people live general there people alive ever there living longer there living exposed thing long time get fact there research suggests cancer may actually sometimes purposely caused body well theyve case may caught moment death realized brain continued going series process death actual purposeful process br br big thing feel great analogy cancer dnd gameplay dungeon dragon gameplay great representation probability roll many chance hit miss based threshold swing chance hitting increase applies overexposure every time expose body anything roll dice keep ont eventually add onto chance exposed known carcinogen getting closer closer chance',\n",
              "       'accumulation food eat since childhood processed food gmo chemical seasoning best diet keto high sat fat detox heavy metal system cilantro choriander month got cancer already might want increase fat intake vitamin c regeneration cell first cancer stage fasting also help',\n",
              "       'understand reasoning not mri people get money prevents everyone young old every year not let older like past screened colon cancer etc',\n",
              "       'pharma', 'kind',\n",
              "       'first video watched already among favorite bravo attention detail delivering story immediate sub seriously much work effort show please never stop',\n",
              "       'see cancer cure vid see world largest tire graveyard disappeared',\n",
              "       'mom suffered seizure one day quickly rushed hospital big shock family especially fact mom healthy woman first seizure ever experienced life fallowing day several test would done blood work mri etc br br result came back would sadly learn discovered cancer growing top left side brain given hope cancer found early stage stage meaning cancer became stage recently unknowingly cancer growing brain got larger started pinching nerve brain cancer growing caused seizure day br br next month would darkest family watching mom shave head bald going chemo therapy story would end beautiful way would finally save life neurosurgery drilled hole skull surgically peeled tumor cancer brain like bos took place peek height pandemic summer br br today mom world thing healthy ever strange think somebody beat cancer thank entire hospital staff doctor performed miracle family mom diagnosed cancer jaded person complained everything thought wrong society today smartphones tiktok social medium fake news cancel culture etc experiencing almost losing mom cancer learning far advance medical field gotten br br look thing completely different many people including concentrate way much negative side thing currently going right front u fail see side positive side unnoticed accomplishment made medical field team people behind side tech literally saving people life',\n",
              "       'thought watching johnny harris video minute',\n",
              "       'arnold ehret mucusless diet healing system', 'natalie portman yt',\n",
              "       'even dentist year let alone dr checkup unlikely ever go unless unbearable problem',\n",
              "       'sorry include look diet cause treatment cancer sugar feed cancer cell',\n",
              "       'fasting cannabis magic wand vibrator body head blueberry pasta w garlic basil cheese meat certain time minimize',\n",
              "       'still going die someday afraid death', 'yikes know',\n",
              "       'greatly lower risk cancer not eating drinking sugar eliminating carbohydrate diet cancer thrives survives sugar',\n",
              "       'first thing leave usa usa jail people find cure suppressing non toxic cure cancer sense',\n",
              "       'people push prohibition recreational drug obviously', '', 'quot',\n",
              "       'year ago diagnosed prostate cancer year ago stage metastatic bone cancer said cure probably month live refused chemo due potential side effect br br certain hormone blocker shot radiation going back believe hinder recovery helped br br manage life low carb sugar almost alcohol healthy eating exercise positive thinking request family friend talk front unless raise subject hardly ever think unless come across something like vid feel might contain useful gem mind going live another year br stress going happen future lose joy present',\n",
              "       'see lot johnny harris inspiration style video',\n",
              "       'thing stop cancer reduce stop aging technically imortality mean cancer think scientist working jellyfish something work cell recovery',\n",
              "       'otto warburg entered chat', 'insightful video loved',\n",
              "       'medical industrial complex part depopulation industrial complex',\n",
              "       'understand people trust doctor cancer therapy chemo kill cancer start cutting cancer cell spread cancer locally blood doctor tell',\n",
              "       'cannabis oil br work great safe',\n",
              "       'told mom doctor would much better taught people cure non sypmthoms stuff',\n",
              "       'real cure cancer br lymphatic system herb repeat br fruit br mucus food gotta go br fasting pasting',\n",
              "       'omnivore who digestive system designed eat whole food specifically largely animal based fed highly processed highly pure sugar pure fat wonder cancer metabolic issue cardio vascular issue etc fed complete b science medicine government since going back predominantly demonizing fat science fact human burn fat day day activity movement highest amount fat sleep yet diet moving away fat animal product promoting high glycemic high seed fat diet made primarily grain seed folk cant see forest tree lastly make cancer grow sugar cancer love sugar keep grain seed based processed diet look poor dog fed processed grain based doggie fast food diet wonder besides human pet getting oral health issue diabetes cancer like u yet wild animal largely dealing health related issue like',\n",
              "       '', 'men get schtik',\n",
              "       'sound not detecting early financially make sense health industry would not make money since business incentive healthier people rather pill charge people may not cure',\n",
              "       'f chemo anything make weak make stronger max gerson solved year ago made treatment actually leave country went dad told hospice never trust chemo search better way already',\n",
              "       'thought going cap end obvious best cure br br prevention',\n",
              "       'want cure avoid cancer eat meat fat aka animal based diet salt water otherwise periodic period extended intermittent fasting job accompanied good diet first like mentioned want speed cancer eat much carbohydrate sugar possible mic drop',\n",
              "       'anaerobic cancer',\n",
              "       'thank upload lot info know still know hospital medical community government group deliberately trying erase discredit doctor huge success specific cancer stage take dr burzynski texas huge success rate curing cancer hospital said nothing done government group cdc fda repeatedly tried shut decade curing cancer profit research success many doctor dr burzynski successfully shut succeeding cancer come cancer one golden rule fda live make money crush care death',\n",
              "       'feel like johnny harris weird',\n",
              "       'medicare anyone people get screened number reason sad people ache pain afford go see doctor',\n",
              "       'believed year explained way people cancer little like house fire detect house fire super early fire nothing fear discover fire late technology matter advanced save home sense not successful quot cure quot house fire detect early early detection way go technology home detect biomarkers week developed cancer able stop pre stage',\n",
              "       'stage even get screened prevention cancer fact cancer rate raising alarming think addressing',\n",
              "       'also looking processed food fast food become norm today traditional food made mostly ground back day relation chart show cancer steadily expanding tell food industry habit poisoning u br br eating healthy easy picking fruit vegetable anymore say go seasonal food overall rule check origin possible',\n",
              "       'everyone knew taken chemo died', 'not looking true cause',\n",
              "       'one quot starve quot starving cancer blocking cell receptor byusing cocktail drug amp supplement get nutrient fat protein amp gulcose multiply amp die due starvation eg using berbarine metaformin block glilucose receptiors research paper pub med even clinic uk help fight cancer method detail check quot starve cancer quot jannet',\n",
              "       'fix aid yr old aid not death sentence like',\n",
              "       'called preventive medicine doctor want specialist',\n",
              "       'aunt uncle mom died cancer dont believe chemo make doctor rich even counting money infront u',\n",
              "       'great video informative feel like', 'fasting zero carb diet',\n",
              "       'not like one cancer cut older get cancer grow ultimately age barrier',\n",
              "       'bold title end saying nothing',\n",
              "       'brilliant resource people going cancer treatment people higher risk thank',\n",
              "       'leatrile vitamin b',\n",
              "       'b piss know big pharma make way much money cancer medicine procedure never invest cause cancer trust item home right identified cause cancer',\n",
              "       'laetrile treatment',\n",
              "       'exercise eating healthy diet avoiding exposure carcinogen',\n",
              "       'ted talk video curing cancer sound frequency need use surgery medicine answer cancer cell destroyed hz hz look youtube video title quot shattering cancer resonant frequency anthony holland tedxskidmorecollege quot basic principle everything vibrates unique frequency project sound exact vibrating frequency matter shattered like people shattering glass voice match vibrating frequency glass voice break know people make fun comment section care research see kinda know method receive funding want say comment deleted youtube',\n",
              "       'early diagnosis hindered capitalism cheaper people disposable capitalism despises maintenance cost',\n",
              "       'healthcare ex pharma highly educated lady delusional problem info video idea talking absolutely point video early detection problem talk incidence not able understand prevention relevant approach obviously would imply understand natural environment human good luck friend understand live normally statistically screwed',\n",
              "       'not diet exercise mentioned video smh true cure',\n",
              "       'dna gen prevent cancer protoncogene tumour suppressor gene keep cell check p gene check whole sequence dna replicated corrects mistake oestrogen part mechanism turn gene mechanism silence gene chemical methyl adding ch group atted cytosine base aclyation condense dna make gene silent gene silenced expressed mean cell really double check mistake dna replication thus cancer body amazing',\n",
              "       'ganjaaaaaaaaaaaaaaaaaaaaa',\n",
              "       'follow heart disease heart attack prevent actual carotid artery scan see actual plaque build instead doctor insurance insist blood work vary week week meanwhile industry make k ever stint put someone one trip machine could prevent heart attack',\n",
              "       'fasting real cure cancer',\n",
              "       'minute life wasted first grade biology real answer immunoterapy decade e interferon ribovarin still collateral damage management real answer problem stimulating immune system response go far opposite needed leukemia lyphomas cancer caused mainly oxidative damage cell high rate cancer explained environmental factor people modern time subjected high level sugar diet micro nutrient deficiency pollution stress radioactive pollution coal burning unjustified medical intervention amount food adulterating industrial contamination environment technophiliac hopium video strong need abandon industrial technological system guess deny anything making money depends',\n",
              "       'video informative people see', 'know gal godot informative',\n",
              "       'cure cancer prevention plant based diet',\n",
              "       'opening editiong similar certain channel wife gf something',\n",
              "       'sister died cancer age hate people push idea cure cancer early detection way cure proper research would found fda taken texas doctor court year stop curing people cancer care share link subscriber could actually save lot life instead pretending cared care money sponsorship otherwise would never made video small boy doctor gave still alive today year later cancer free radiation chemotherapy failed child need surgery first place doctor found cancer patient hormone missing healthy people decided add hormone sick patient guess happened body recovered naturally cancer please tell audience please help save life',\n",
              "       'imagine gene string code malicious code appear',\n",
              "       'believe reason doctor recommend getting mri without symptom quot prior quot original chance cancer without symptom quot prior quot set abundance disease people without symptom probably low mean even test taking chance producing false negative still much likely false positive category true positive category un intuitive blue brown video quot medical test paradox quot explains way better short comment short think doctor want information without higher quot prior quot simply tell anything useful',\n",
              "       'johnny harris',\n",
              "       'not discussing effect internal external environment external environment polluted internal environment polluted poisonous food eat u not dealing emotion',\n",
              "       'one thing got video message medical system profit reason seek diagnosis treatment learned early detection big deal learned many video cannot say true food fight cancer make cell commit suicide encourage watch dr eric berg cancer video look holistic chinese medicine blown away diagnosed stomach issue year ago researching much information find br want prevent cancer look form medical care spoke seek sunlight exercise least min day br reduce eliminate processed sugar intake sugar often start bitter food offset sugar br get good sleep br seek method get past depression find healthier mindset want enjoy life',\n",
              "       'cure turning genetic message cause dividing',\n",
              "       'cancer genomic researcher really nailed brillant video need also liquid biopsy early detection also promising approach might want research future',\n",
              "       'dude proud tom fox',\n",
              "       'think investing money faster scanner interpretation software detect early stage cancer would efficient actual treatment br lowering cost machine exam would probably also greatly help lower risk br treating people early stage probably much much cheaper option',\n",
              "       'confirmed cancerous cell pap smear still insurance really anything dr said slow growing year kinda hangin till get heh',\n",
              "       'highly recommend anyone interested cancer read quot cancer not disease healing mechanism quot andreas moritz shed light true root cancer beat',\n",
              "       'not mistaken animal cat dog sensitive enough detect certain type cancer br maybe maybe train k police department case early detection cancer',\n",
              "       'happened dr burzynski',\n",
              "       'not something common could checked detected know cancer late sorry say live life fear enjoy time planet day year since lost mother br clue late cancer seems common many people cancer br flu like symptom keep reappearing br sicker often talk seasonal thing sick time max per year anything may odd since immune system could weaker due cancer br family history cancer',\n",
              "       'one thing wish touched outrageous cost getting screening treatment mri whole body u people would need spend minimum average cost around obviously insurance willing pay would almost coming pocket people simply kind money spend getting screened',\n",
              "       'hit little close home best friend wife year around good person died last year pancreatic cancer screening mechanism intellectual digestion test miss becomes fatal chance living year stage wife tough made month not sure chemo accelerate due side effect body ability function insurance get still hook k every time wife sat chemo chair week month cost k dollar hospital stay surgery drug million month prescription in co pay probably live one premier cancer care area world work find little family history tell doctor prevention early detection hope',\n",
              "       'excellent reporting accurate doctor explain much like inclusion line like cancer not one disease heavy focus early detection nice also see information lead time bias detection well thought presentation',\n",
              "       'video either gonnabe taken sell propped',\n",
              "       'cure fight flight cold ocean',\n",
              "       'well done appreciate commuication posture enthusiasm simplification',\n",
              "       'quot',\n",
              "       'request mri data disk hospital workflow various site turn data print file print brain organ scale super fun project cool way learn yer body',\n",
              "       'let save minute quot',\n",
              "       'preventative lifestyle food medicine oxygenated blood exercise sunshine water',\n",
              "       'rso quot', 'talk glucose',\n",
              "       'addition hospital pushing expensive chemo stage cancer medical literature show chemo not recommended certain stage cancer family member made surgery stage stomach cancer fine not survive following chemo treatment greed stop',\n",
              "       'b johnny harry wife something like quot hey honey got youtube business idea copy theme get b',\n",
              "       'nothing unremarkable',\n",
              "       'look prolonged fasting ability kill cancer', 'almighty dollar',\n",
              "       'say plastic',\n",
              "       'making cancer screening cancer screening nothing else cancer send get test follow premiery dr nothing',\n",
              "       'want call',\n",
              "       'ignore research showed reduce mortality also quot incentive quot part incentive push early detection product treading ill people limiting useless check prevention stuff limitless market',\n",
              "       '', 'muslim hold power generous charitable people le greedy',\n",
              "       'yoir credientials', 'also realisation maybe',\n",
              "       'video solves nothing', 'lot ego money involved battle',\n",
              "       'got diagnosed chronic myeloid leukaemia time first stage started taking magnificent treatmeant although quite expensive called imatinib look one year blood clean year old turn relative made cancer pray god medical science keep discovering effective accessible way battle cancer',\n",
              "       'fasting cure cancer',\n",
              "       'think diet lifestyle missing many remission diet lifestyle change also environment polluted clean mess making genetics small portion bigger picture think video brings good point early detection',\n",
              "       'western disease eat junk cook one many side effect family break side effect gender role side effect godlessness',\n",
              "       'forgot big subject cause cancer responsible stop eating using product',\n",
              "       'responding quot detection technique deserve awe fawning headline give new cancer treatment quot br br deserve properly appreciated discovered invented br e g mri founding principle nmr received nobel prize br interestingly also feel awe mri every sport injury hear called cheap x ray useless determining soft tissue damage need quot gold standard quot mri diagnosis',\n",
              "       'one interesting father passed brain cancer found completely unrelated issue diagnosed competed team usa beijing triathlon world unbelievably healthy people asked go mile bike ride day go hospital br br doctor told u tumor massive not understand still alive ever shown symptom truly issue never ever would found starting treatment died month later family still navigating healing process somewhat trust medicine mainly know doctor right vocabulary knowledge even argue feel done anything would still not psa saying go nothing response diagnosis think age health person extremely healthy quot older quot life get diagnosed might want consider option made thus far already without obviously early detection best lot older relative people life longer option br br wish known medication would done also licensed esthetician please come saying medicine science not point odd u life threatening brain cancer affected cognitive ability like decade prior like finished last ironman year passing week quot lost quot brain stopped working started chemo truly terrible time guess ranting point great video deff need go dr asap',\n",
              "       'top g watch video',\n",
              "       'cancer treatment multibn dollar industry never anything like quot',\n",
              "       'sorry insurance',\n",
              "       'look dr jason fung book called cancer code recommend everyone read way prevent cancer free medical establishment talk not herbal medicine weird mumbo jumbo something practiced beginning time easily backed science',\n",
              "       'nice video many one address diagnosis bias lead time bias especially lead time bias',\n",
              "       '', 'cause cancer br guess never know cuz dont wanna tell u',\n",
              "       'pretty much cancer caused chemical food water people eat organic exercise filter water home activated charcoal kdf le cancer rate',\n",
              "       'last thing want quot war quot cancer br quot war quot drug terrorism obesity ect ect br not turned well',\n",
              "       'href http www youtube com watch v usmu scncss amp wait supposed mean quot keeping information people paternalistic quot since secrecy related fatherhood',\n",
              "       'think mention astronomical profit drug company make cancer treatment not really best interest early detection plan would lose million patient billion',\n",
              "       'paid drug company truly idea cancer destroyed sound cured eating food not processed food industry many documentary come many food health people come said people killed many time paid lie ignorant bad',\n",
              "       'cancer eat live global economy depends u keeping not surprised missed part cancer number poor country lower br early detection prevention lot evidence c ncer treatment like small plaster broken bone br changing diet lifestile taking care mental health wellbeing strongest weapon right ever video cancer overlook origin focus treatment not right',\n",
              "       'hmmmm bout start youtube channel get free healthcare',\n",
              "       'several drug undergoing trial highly effective late stage metastasized cancer one patient trial completely cured various cancer look following medication youtube cancer application br br tagrisso br ivermectin br mebendazole',\n",
              "       'use work johnny harris music selection editing extremely similar infact intro music exact track used johnny video either way content great',\n",
              "       'find video weird think video show somewhat positive light big pharma currently going direction curing even showing early sign treatment way medicine going make video early sign cancer fact mention herbal medicinal medicine like cannabis not talked video br br cancer today form especially tumor related would also looking cannabis oil body receptor body called cannabinoids receptor help inflammation body fighting tumor ultimately swiftly eliminating cancer cell body would advise anybody reading common section look cannabis oil',\n",
              "       'keep mind mri machine fcking expensive limited lifespan term operational hour mri scan expensive machine last many scan scan degrades x ray machine result cant regardless personal risk give people scan week make cheap cant get cheaper not cause loss hospital operate not mention radiologist pretty damn expensive keep staff',\n",
              "       'someone cancer absolutely dumb without taking account chemo radiation burn poison remove model working continue not work detection one thing never question spike cancer randomly many people getting cancer genetic give break anyone loved one cancer extensive reading treating guinea pig metabolic theory cancer seems compelling actually starve cancer check starve cancer jane mclellan thomas seyfried work stay away junkie feel good good ad like',\n",
              "       'strangely called st world country preventive medicine not thing rd world country like brazil common maybe money wait sick',\n",
              "       'href http www youtube com watch v usmu scncss amp imo well deserved fcking mustard gas werent transporting humanitarian effort going used people',\n",
              "       'see joe biden stop watching', 'shure sm b',\n",
              "       'okay lemme give crash course cancer br br firstly exist well cancer exists protect body regardless type cancer form area get excessively harsh treatment body hence rapidly regenerating tissue built take punch recover damage spread drink heavily liver cancer smoke heavily lung throat cancer get sunburn time skin cancer exists bulwark whatever body not equipped handle br br secondly cause cancer short evolution body ultimate adaptable machine see problem adapts overcome need survive first cancer come take beating act testing ground new composition see effective type abuse getting hence cancer break regenerates rapid pace not like cell pretty clear expiry date br br thirdly cancer dangerous misconception cancer kill couldnt truth cancer harm whatsoever take space replaces cell cell leading obstruction whatever organ found obstruction not treated care quickly clog cause serious illness even death br br fourthly problem wasnt year ago fold question around since dawn man served purpose time recently pushing ever forward faster pace dont give body time adapt happens end taking harsh beating whatever cancer grows even faster rate hence early sign lung cancer doctor would tell stop smoking slow development br br fifthly cancer spread cancer much like white blood cell go wherever needed issue stomach likely cause issue liver kidney even bloodstream happens cancer act like anti virus program pc scan body via bloodstream area seem not performing optimally latch start diagnostics process attempt discover harm done counteract grows increase surface area br br finally treat cancer ideally wouldnt left alone slow damage dont take away completely else report false positive work time body better evolved drink cow milk survive extreme cold environment let environment keep causing damage keep regulated body cope discover best solution problem cancer becomes obstruction problematic body cant sense obstruction life threatening location must removed preferably via evisceration need completely entirely removed body currently use radiation denature cell make self destruct double edged sword even single cell survives regenerate much greater rate cause far harm due urgency need body otherwise cut method ineffective best time highly destructive rest either cut little regrows cut much leave void need filled hoping body know tissue go neither effective method treatment far best potential method removal would use large quantity laser calibrated fire single spot like printer laser across entire volume cancer around outside goal manual removal afterwards method superior doesnt rely chance like radiation overcut undercut accurate precise leading effective treatment',\n",
              "       'keep body allkaline u never ever experience cancer period acidy eating processed food cause disease u think',\n",
              "       'body already know desl cancer dy time testing lead fear worse invasive treatment leading unnecessary death let deal isolating emotional shock life actually cause cancer support body healing great nutrition rest',\n",
              "       'normal people',\n",
              "       'doctor ignorant thing like fasting oxygen therapy breathwork ozone phytoalexins tantamount complicity nature give problem without giving solution time side effect patent',\n",
              "       'href http www youtube com watch v usmu scncss amp jojo reference',\n",
              "       'curriculum grade highschool student get involved science',\n",
              "       'one think cleo look like natalie portman right nonetheless great video always cleo',\n",
              "       'good video quot unremarkable quot not word would use describe anything cleo',\n",
              "       'get recommended', 'cleo great facial structure nice voice',\n",
              "       'literally female version johnny harris amazing production quality',\n",
              "       'cure cancer deletion tiktok',\n",
              "       'periodic prolonged fasting atleast day water fast cancer cell thrives sugary food keto diet significantly help shrink cancer cell one missing treatment starvation cancer cell autophagy',\n",
              "       'cancer metabolic disease see thomas sayfried start mitochondrion interfered cut carbs food cancer medication give people vitamin etc need nutrition directly food fasting keto ketosis use oxygen hyperbaric chamber',\n",
              "       'pc health check app brings date info window device health helping take action right time check health often technological tool',\n",
              "       'really understand concern going medical bankruptcy american insanity fixed simply country not something large part world even worry love work thanks covering issue',\n",
              "       'good video getting free trail form sponsoring',\n",
              "       'great content creator',\n",
              "       'absolutely worthless clickbait video good job wasting people live ad revenue',\n",
              "       'please watch gary yourofsky', 'wonder woman',\n",
              "       'great coverage preventative medicine way forward screening detection single component need done provide people knowledge needed look health day manage personalise diet manage stress even knowledge still uphill battle many structural institutional barrier work health also need dismantled stop manufacturer putting much salt sugar food encourage food system promote whole food le processed good promote healthy habit incl exercise yoga meditation dissuade binge drinking culture etc would go long way promoting health preventing chronic disease obviously lot found surprisingly difficult lead maintain healthy lifestyle way',\n",
              "       'want eliminate cancer eliminate seed oil micro plastic processed sugar',\n",
              "       'want girlfriend', 'wow instant subscribe',\n",
              "       'alternate cure not mentioned corporate cheerleading br mention cbd mention gerson method mention warburg paradox br linked enzyme solving diet enzyme treatment proved work',\n",
              "       'want people ever get cured cancer everyone healthy good world',\n",
              "       'not people afford surgery unfortunately affordable one magic pill solution would highly appreciated save life',\n",
              "       'want beat cancer stop eating',\n",
              "       'disappointing go scanning cause harm good br summarise different type cancer fast medium slow growing paused cancer br static cancer grow initially pause never cause symptom br slow growing cancer unlikely affect u throughout life br fast cancer lethal one screened br medium cancer also lethal grow quickly enough affect u lifetime slow enough detected screening br br screen pick medium slow paused cancer currently way tell act cleo mentioned br not paternalistic avoid screening patient due induced stress induced stress real clinical relevance lower life outcome go doctor primary purpose not cause harm br br addition screening purely data gathering uncertain diagnosis therefore act mean spend money elsewhere treatment might better cost benefit',\n",
              "       'cure cancer not cancer simple br not eat sugar br eat like caveman',\n",
              "       'something not see video number cancer virus caused sexually transmitted almost nothing said htlv sexually transmitted leukemia hpv human papilloma virus type viral cancer believed transmitted animal human case mouse mammary cancer virus found human breast cancer study found hpv found human breast cancer well',\n",
              "       'natalie portman',\n",
              "       'cancer caused diet used eat stuff kept cancer check look hunza tribe vitamin b',\n",
              "       'iffy screening detects something would never become problematic especially people harmful surgery something',\n",
              "       'man named burzynski made cure cancer engages specific gene protein cancer cell',\n",
              "       'look antineoplastons non toxic helped lot people stanislaw r burzynski md phd houston anyone diagnosed cancer call look youtube fighting good fight',\n",
              "       'format johnny harris way deliver distracts knowing style johnny harris nonetheless',\n",
              "       'impressive halfway video kept thinking quot not simple quot actually addressed issue eventually br setting high standard journalism well informed showing different angle addressing concern br inspiring looking forward learning',\n",
              "       'cure cancer easy',\n",
              "       'wish could believe push early detection primarily surreptitious mean pushing gathering detailed medical data en masse nefarious purpose silly not consider possibility',\n",
              "       'radiation scan xrays', 'generally',\n",
              "       'video garbage avoid alcohol smoking high red meat consumption plastic usage refined food highly reduce risk cancer br body machine load car sewage expect run duh',\n",
              "       'wanted say work video journalism show huge true amazing cleo glad subscriber since first video',\n",
              "       'amazing content fabulous editing right', 'kyedae',\n",
              "       'quot doctor quot start process know worth anything',\n",
              "       'probably best video date excellent job',\n",
              "       'reminds much megan markel not sure',\n",
              "       'everybody know gargle salt water drink green juice eat fish',\n",
              "       'nice advertising',\n",
              "       'widely accepted not get full body cancer screening even almost phd cellular molecular medicine mother currently battling pancreatic cancer would encourage everybody stick screening recommended cdc american cancer society',\n",
              "       'reading million percent chance not getting cancer diabetes heart disease',\n",
              "       'cancer',\n",
              "       'bit tangent video thought ai nuisance dangerous toy see opportunity medical system leverage ai computation detect cancer sift called quot nonsense quot reduce potential strain large scale push early detection grateful new perspective shown massively important subject',\n",
              "       'idea promise early detection catapulted scam defunct company theranos receive funding think finding way detect cancer early great thing pursue hope another theranos like scam',\n",
              "       'not slap name quot',\n",
              "       'intracranial accumulation heavy metal gadolinium',\n",
              "       'get yearly mri',\n",
              "       'kinda baffled think obvious thing looked people getting cancer begin br br know cause thing prevent wisest talk drug early testing find sooner stop people getting like leaky pipe people want contain leak not fix causing honestly understand mentality like knowing obese people get covid going issue instead trying fix problem obesity keep telling everyone get another booster',\n",
              "       'alt cure protocol wack', 'real cure mercy god',\n",
              "       'fauxvx created boom c case alert',\n",
              "       'eat low carbohydrate diet cancer cell',\n",
              "       'make deep video always fascinated reveal new angle question keep',\n",
              "       'regular fasting',\n",
              "       'hey long keep consuming sugar keep keep alive long possible continue enjoy chemical phenomenon',\n",
              "       'influencers talking medical thing stupidity preventative screen cancer not answer not black white bad viewer understand br br american prevenetititive industry gonna doom american',\n",
              "       'nice shock piece', 'see medlife',\n",
              "       'clickbait wondering video give single cure talk cancer currently treated br br welcome',\n",
              "       'thanks lt like truthful coverage mad respect educating everyone btc price fluctuating lately think educating newbie aside holding rather discussing dip good thing space buy dip put active trade making profit trade confidently waiting pump price inevitable people not understand space work advantage understanding chart guarantee asset going price go nevertheless market profitable despite price ups always played safe implementing trade insight signal renowned trader hector wilson fx made btc recent crash market within period six week',\n",
              "       'excellent vid check comment two time cancer survivor br cut burn poison melt recent category like within last year might considered quot melt quot not sure targeted treatment mess metabolism cancer without messing much kinase inhibitor mentioned br whole thing quot catch quick cut quot model true b solid b tumor cancer lymphoma blood cancer cut not localized little lump defective lymphocyte white blood cell throughout circulatory system br early detection always advantage found lymphoma accident prepping treat prostate cancer oncologist said quot watch wait quot delay treatment cancer became active study show early treatment really help much better delay exposure treatment drug br quot cancer quot one thing like quot animal quot huge category somewhat related thing like big difference blue whale chihuahua enormous difference among different variety cancer',\n",
              "       'keto',\n",
              "       'discussion not even handed tradeoff false negative false positive detecting cancer compare empirically high cost false negative theoretical hope future low cost false positive not fair comparison empirically false positive also costly not financial term human life term unnecessary medical intervention increase health risk optimal cancer detection enough minimize social cost sum false negative false positive make strong claim optimal amount cancer detection without presenting information make determination',\n",
              "       'href http www youtube com watch v usmu scncss amp exactly number one cause death heart disease yet doctor ever sends see cardiologist get symptom mean definitely need treatment worse',\n",
              "       'would agree people pushing test',\n",
              "       'living healthy lifestyle still best tool arsenal avoid dreaded c hand better simpler diagnostic tool become available',\n",
              "       'not long ago dad casually said cancer born freaked said small piece skin cancer easily cured',\n",
              "       'america need universal health care like rest first world country much corruption hate country human being right health care wether employed not',\n",
              "       'rise routine examination without symptom cause another medical issue quot incidentaloma quot treatment symtompless tumor truly save life nothing actually treatment causing harm',\n",
              "       'great video cleo early detection absolutely way go recently found cancerous tumor spine likely started growing decade ago sure wish caught earlier one problem early detection though misdiagnosis got mri doctor thought cyst wasted month trying treat cyst allowed tumor grow larger',\n",
              "       'immune system kill kill cancer cell civil war want stop cancer cell try hijack immune system cell died',\n",
              "       'tl',\n",
              "       'look dr dom agostino fasting ketosis end cancer look nobel prize medicine awarded yoshinori ohsumi discovering mechanism fasting trigger autophagy put cancer remission ton really solid science showing fasting caloric restriction powerful effect cancer urge look real cure',\n",
              "       'talk broken healthcare system next',\n",
              "       'yeah people take mri granted rather say god problem society average person take technology granted',\n",
              "       'bix calleen', 'good glad came woke vox', 'excellent perspective',\n",
              "       'joint effort solve cancer',\n",
              "       'week water fast ever month atleast month intermittent fasting month year youll probably not gettting cancer life',\n",
              "       'even get doctor order colonoscopy age not risk category yet crazy history digestive issue mainly ibs diverticulosis apparently like dying something qualified colonoscopy basically test really sick showing major sign know time usually late usa need better early detection prevention',\n",
              "       'surprised impact radiation dose certain exam not mentioned one hand symptom cancer need imaging order know treated risk reward obviously worthwhile hand pet scan every day case risk developing cancer scan themself eventually get quite high tradeoff not worth presumably somewhere optimal balance testing frequently enough catch anything early testing infrequently enough avoid making overall risk cancer significantly higher br br often worth certain test evaluated risk causing cancer likelihood detecting cancer earlier would without testing depends lot curve look like definitely deserves mention',\n",
              "       'cancer treatment insured',\n",
              "       'love clear way explaining visualizing thing another great video wait see check huge topic',\n",
              "       'might become immortal', 'think', 'look keto cancer',\n",
              "       'saying go get mri im already thinking scheduling full body one many people getting cancer',\n",
              "       'cure vaccine', 'drink tea',\n",
              "       'found channel great vid newly subbed',\n",
              "       'cancer multi front war different type disease affect large proportion population prevention key',\n",
              "       'real questionn people ask prevent not cure lie',\n",
              "       'saw video doctor said early detection necessarily preventing cancer mean survival rate started earlier',\n",
              "       'johnny harris esque video',\n",
              "       'cancer equilibrium kill rich poor equality',\n",
              "       'simply avoid chemical much possible use cosmetic eat healthy stuff like garlic etc',\n",
              "       'careful people might call communist',\n",
              "       'great content br great timestamps br br',\n",
              "       'physician perspective much appreciate raising awareness regarding early cancer detection absolutely much painful miss diagnose cancer late thing not simple portrayed br br first bearer bad news single way catch cancer much excited mri work concept pretty cool many cancer show unless big enough specifically looked injection even timing contrast material due nature cancer like leukemia instead many everyone get bunch called incidentalomas basically incidental finding not significant cyst benign growth etc yes guessed lead lot unnecessary invasive test not get information act poorly found something probably benign say sure obligated poke needle open get sample find case point recent patient mine completely healthy otherwise cat scan kidney stone something uncertain found pancreas needed getting endoscopy get sample needle ended icu due severe infection month oh biopsy benign br solution clinical guideline age appropriate screening tool include whole body mri pap smear mammogram colonoscopy wish talked bit yes day still miss lot cancer suck sending everyone get whole body mri not going replace time colonoscopy removal polyp one day turn cancer not even going talk preventable cause smoking obesity etc whole topic bottom line please talk doctor stay top screening avoid cancer causing habit see huge drop cancer death yes evolving process working hard trying come better screening tool everyday way march colon cancer awareness month age older family history symptom sooner please get colonoscopy month',\n",
              "       'living incurable disease hard live life day day go cancer suck',\n",
              "       'ai',\n",
              "       'world described near end everyone common cancer checkup obviously one could exist future enough innovation cost kind thing come cost overcome many believe post scarcity economy possible like elon musk robot different robot look similar btw robot machine modern job fraction cost common cancer checkup could become reality like going dentist every month something',\n",
              "       'video johnny harris vibe seemingly sincere curiosity ignorant wanton intent br honestly difficult take anything say seriously touch nepo baby',\n",
              "       'think real cure cancer would find cause cancer eliminate rather quot detect early enough quot not enough way preventing cancer appearing growing good news business run order quot cure quot cancer like corrupt system one live produce environment element cause illness profitable one quot solution quot scary world live not one doomed soon stay cautious aware educated health diet movement lifestyle etc',\n",
              "       'matter technology medicine control people motivated profit br company found true quot cure quot cancer time treatment inhibits unregulated cell division would never able bring market medical research team ceo shareholder like wall street br would sell one product annihilates entire bn yr industry overnight people position decide drug authorized people motivated greed power unless revolution take place effective cancer treatment continue available wealthy',\n",
              "       'alternative title quot ignorant spoiled white girl learns first time medical industry corrupt quot br shit early detection preventative medicine cure every medical ailment br wait till learn real reason cancer due bastardization food exercise sleep social routine corporation bastardized healthcare br one constant variable every contemporary issue capitalism br incentive behind every decision not based human well exponential profit course going end broken system make sick sell cure',\n",
              "       'not afraid cancer anymore work immune system try make cancer proofed not hard watch dr burges video know talking case developed cancer not afraid easily cured jim humbles mm amp mm could help cancer also bicarbonate could look barbra nile video instruction',\n",
              "       'check',\n",
              "       'video really missed mark talk cause cancer real way prevent cancer cure existing cancer stop exposing carcinogen stop suppressing immune system eat low protein diet immune system body way detecting destroying cancer cell high protein diet accelerate rate cancer growth stop exposing carcinogen look official list carcinogen published iarc get rid thing life really common one people expose daily basis alcohol processed meat tobacco stop suppressing immune system eat low protein diet cut processed food animal based food diet adopt whole food plant based diet',\n",
              "       'cancer cured pd inhibitor ctla inhibitor kinase inhibitor cure thing people not looking electromagnetic technology non invasive cancer treatment also taking genetic testing start utilizing crisp technology first foremost lifestyle factor probably account reason get cancer like admit autophagy epigentics factor like methylation reduction calorie shown reduce probabilty getting cancer',\n",
              "       'vox johnny harris video style pretty great format pretty great result format video',\n",
              "       'listen tk video bcz sound much high pushed amp resulting lot sss everywhere hurt ear think make hou lose lit audience like please change moderate sound equalizing compression like johny harris',\n",
              "       'not enough prevention stop metabolic syndrome stop maybe half cancer focus cancer deprive tumor big pharma profit center want',\n",
              "       'love vox style video great job',\n",
              "       'medical radiologyst detecting cancer early stage not easy tumor early sign end day early tumor may mimic irrelevant lesion end not worth following cause false negative result actually screen patient month year patient year sure not cancer lead saturation radiology department facility mri expensive time consuming think near enough least not lifetime able screen asymptomatic people',\n",
              "       'definition cancer br br disease caused uncontrolled division abnormal cell part body br br practice phenomenon perceived evil destructive hard contain eradicate br br true cause harm cellular body br br water hold emotion emotion affect water',\n",
              "       'ok whoever guy say nurse wear hazmat suit full shit glory early detection enough data detect certain age people hazard cancer present late stage guy business talking topic',\n",
              "       'interesting video lifestyle change make big impact generally people not aware risk factor cancer like smoking maintaining healthy weight following whole food plant based diet regular daily exercise sunscreen alcohol especially drinking alcohol sun recent poll country showed not many people aware link alcohol consumption cancer glad awareness raised hope find better way utilize screening tool disposal surely bringing cost medical care actively promoting lifestyle change would also major factor',\n",
              "       'curse virus fungus particle etc label suggest u learn genius raymond rife great sincere researcher scientist theorist not killed oppressed would much better remember tesla',\n",
              "       'emf technology', 'everyone',\n",
              "       'want give regard dr osaye humble professional herbalism hear problem patiently provide best solution',\n",
              "       'video nicely edited feel like bit speed run subject tbh appreciate effort shed light subject really feel satisfied explanation cancer video maybe pedantic saying bunch different disease sort confuses underlying truth technically true pretty confusing already know cause cancer characterizes biological system br br cancer come mutation dysregulate cellular behavior activity cell complex system posse innate capacity activity cell body cell create bone neuron blood cell immune cell etc contain genetic code radically different thing body sort carefully orchestrated beautiful harmony guiding many individual cell many distinctly individual system cell larger meta system cancer broad category disruption biological system human cell enough right sort genetic mutation begin behave way not look like also act like separate organism kind like state defected usa still embedded larger system see self distinct not interested obeying law allow harmonious coexistence cancer kind dis integration happily bound together one unified whole split br br think presenting cancer different light sort belittles importance real incredible nature disease want say video bad anything thought would share perspective subject little work field past left real appreciation complexity disease deeply involved process learning fight overcome',\n",
              "       'need focus immunotherapy stir away radiation chemotherapy method outdated ultimately not promising medical system need change',\n",
              "       'one v video journos still genuine',\n",
              "       'continually make best content platform hope never stop',\n",
              "       'indicator drug risk individual could take make easier detect soon cancer appears make easier cheaper regular check ups',\n",
              "       'quot ask doctor test might benefit quot figure full time job full benefit still doctor possibly biggest advance curing cancer even early detection making way way simpler reliable get doctor regularly visit doctor basic checkup along many people never remotely consistent checkup u wish dread thought even trying start researching finding decent doctor investigating way health insurance company screw scare top suspect reason male die cancer due fact regular doctor visit higher priority woman mean already system get detected earlier',\n",
              "       'mri cool remember basic stuff self examination every month palpate breast woman testicle men coming double cancer survivor saved twice self examination urologist work mri every day',\n",
              "       'volume video muted',\n",
              "       'pah machine describes quot unremarkable quot clearly need recalibrating accessible non clinician fascinating',\n",
              "       'antineoplaston treatment',\n",
              "       'cancer feed sugar processed food br okay br cancer getting stronger yeeeeaaah br new natural food earth eat br cancer war',\n",
              "       'doc youtube dr burzynski cure cancer invented succes client big pharma u tried stop clinic take away licens method saved many life saved even fully allowed treat cancer patient check crazy money get involved corrupted thing turn',\n",
              "       'knew vox', 'obesity leading factor cancer case people',\n",
              "       'ctdna ftw', 'quot',\n",
              "       'generational nepotist introduced cancer bringing thing contaminant water pollutant air promise miracle cancer vaccine lol',\n",
              "       'like attitude ty',\n",
              "       'cleo would also encourage look outside main stream medical option cancer naturophathic adherent year seen select natural product heal people cancer key case getting product affected area often thought m medical would follow pursuit would likely see lot people saved without side effect know little money method',\n",
              "       'video like bring humanity truly forward not kidding',\n",
              "       'wow plugged high voltage btw could short mri sonoplasty',\n",
              "       'great piece work',\n",
              "       'big way fight cancer today many additional way add one promising opinion dr valter longo fasting mimicking diet cell abundance well cell abundance',\n",
              "       'seems technology annual full body check ups agree information not necessarily worse act everything hear something choose act barrier cost mri also reconsidered many thing health industry',\n",
              "       'reminded way life saved proper sanitation e clean water supply sewer medical industry glamorous yeah whoever handing quot glory quot priority wrong br br process not quot human quot e full wrong priority general bassackwardness would',\n",
              "       'could please make video real cause cancer find astounding quot war cancer quot always much money pay pharma company get rid almost seems nobody want prevent cancer much easier cheaper called quot war quot',\n",
              "       '',\n",
              "       'really believe cure cancer found year ago much money treatment end dying money br would happen money cut br name medication find american pay nation',\n",
              "       'dr sebi found cure cancer already guy say early detection cure cancer feed industry otherwise go broke good lifestyle green vegetable yoga way prevent disease live year boycott industry turn back nature',\n",
              "       'quot cancer hundrets deseases quot hundrets deseases allmost one central cure strategy namely chemotherapy course medical strategy fact cancer everywhere body brain one medical thing used time br cancer hundrets deseases cancer likely simply one caused integration heavy ion organic cell increase electrical cell potential become disconnected rest organism lead inaproppiate grows explanation high cell potential organic tissue get denaturated build scar tissue heavy ion cell increase cellpotential high level organic tissue cell br br prevent cancer take care enviorment much free atom ion inthere accommodate body maybe would not happend seems contamination desired diferent purpose br would surprised much modern industrial product modern civilisation heavy ion contained nobody want tell natural recource poducts brought production process nobody speaks br fotr example fertilizer allmost synthetic modern civilisation three four time radioactive enviorment radiation produced synthetical clean recources clean condition recources make production process effective contamination human poor fertilizer mass earth surface know fertilizing beside contaminate earth surface heavy ion quot enviormental radiation quot also artificial natural enviormental radiation would near ziro becauce co circulation plant would cover everything ever fall ground enviorment evolved would become allmost free fromn radiation radioactive material artificial condition life cause many problem not cancer br br think statement beginning maybe realy absolute nonense say',\n",
              "       'scientist uncle invented termomastograph detect cancer earliest stage br br cancer generates heat body forming machine uncle invented detects miniscule difference heat heat point body determines wheter source heat cancer not based complex software br br discovered cancer even year old girl best part everything done detecting heat body not radiating body anything imagine cancer test thermal camera fancy software nothing done heat way measuring br br presented goverment said useful would goverment thousand people know cancer would demand treatment would expensive better let find later perhaps die logic goverment btw year later news people goverment crook stealing money people go figure br br yeah seriously understand people know thermal camera detecting cancer ingenious idea one talk imagine ai helping identifying cancer method better cheaper way always thrown garbage boost economy something cheap noble method bad capitalism sad',\n",
              "       'friendly reminder not meant inmortal br br cancer blessing know die pretty accurate time frame instead dying instantly without knowing dumb accident cancer give chance redeem put thing order enjoy life fullest know going die',\n",
              "       'not everyone life forever not enough room say want true cruel people die',\n",
              "       'leader want depopulation big pharma owns leader',\n",
              "       'make cheaper get government healthcare',\n",
              "       'nonono think watching min true creee',\n",
              "       'description mri machine sound like perfect br important reminder early diagnosis',\n",
              "       'not people mindful get checked end day cancer vaccine still save day make requirement boom cancer go way dodo',\n",
              "       'great work thanks back channel topic quot',\n",
              "       'riverside seems cool',\n",
              "       'href http www youtube com watch v usmu scncss amp jojo reference',\n",
              "       'try gap diet', '', 'dead cia comming',\n",
              "       'medical industry big pharma lose trillion cancer cured donate political party election campaign ask question think government want cure cancer send rover mar failed find cure cancer last year sound really dumb u cure already read quot antineoplastic drug quot silenced chemo industry example',\n",
              "       'seriously understand creator use old tv clip emphasise point like introduction cleo used seriously annoying video awesome cleo carry great work need weird technique seriously',\n",
              "       'fasting intermittent fasting frugivorous diet carnivore diet plant based diet herb check dr berg channel dr robert morse channel',\n",
              "       'love video',\n",
              "       'kaiser permanente hmo promotes prevention best way health doubt offer every member one time free mri scan probably go health system',\n",
              "       'hard lump right hand index finger look like bump pock mark skin color worried could becancer',\n",
              "       'cleo amazing love channel give thumb please',\n",
              "       'survived cancer chance reoccurring got early diagnosis saved life',\n",
              "       'well done glad woman video morning existed stumble video br br please keep making video like',\n",
              "       'best introduction cancer way treated today burn cut melt etc',\n",
              "       'method currently mri waiting symptom',\n",
              "       'hello female johnny harris',\n",
              "       'effect fasting cancer solid evidence could helpful preventing',\n",
              "       'much like male version cleo think better use promotional tag video like need happen definition sponsored video required tag not appear video least not mentioned description seem quite well sighting source assume would really know left video would much credibility sponsorship identified correctly',\n",
              "       'johnny using ai animation avatar',\n",
              "       'far progress treatment cancer incremental painfully slow although current drug extend life year rarely lead long lasting remission said hope horizon advent adoptive cell therapy chimeric antigen receptor car immunotherapy possible create living drug taking patient immune cell engineering find hunt cancer although many challenge facing novel therapy believe reasonable chance within next year finally might able turn cancer chronic manageable disease low risk death',\n",
              "       'amazing video great content', '',\n",
              "       'put hair wear beanie female jonny harris',\n",
              "       'full bodyscan age everyone not look repeat every year compare previous not alert existing cyst etc new growth ont detected repeat investigate limit unneeded intervention stil get benefit full body scan',\n",
              "       'point mention environment within body hospitable not said cancer huge blind spot',\n",
              "       'video could also titled quot',\n",
              "       'chinese medicine apparently problem curing people cancer treating underlying cause cancer overgrowth weak inactive immune system related function certain organ like kidney big mystery chinese solved problem thousand year ago',\n",
              "       'wife finished cancer treatment luckily caught early enough not need chemo radiation though require double mastectomy mom lucky passed age year ago br br whole problem using tool machine cost prohibitive even insurance add fact screening covered certain age br br wife went physical doctor said need check still young not history couple month later wife found lump br br people need self screen honestly time get education not wait yearly something go wrong',\n",
              "       'natalie portman say time cash',\n",
              "       'great content great cause great journalism thankyou video',\n",
              "       'withholding information paternalistic sexist much',\n",
              "       'mutation dysfunctional metabolism time cancer dr thomas seyfried leading cancer researcher proven work seen multiple people cure cancer carnivore diet diet promotes healthy metabolism eliminates main fuel cancer glucose',\n",
              "       'similar war drug really fight se profit br br fighting would mean le money way happening',\n",
              "       'many working treatment shut last year',\n",
              "       'excellent quality video someone healthcare field tell scan everyone without risk factor say get ct scan pneumonia find small lesion liver almost certainly cyst rule ct scan well pcp get mri also not conclusive ok next step biopsy come real risk bleeding infection question ask follows population level beneficial detect cancer early cost complication expense work difficult question answer physician guideline tend favor screening le patient want possibly generates revenue medical practice',\n",
              "       'journalism rarely seen day nice video',\n",
              "       'let focus preventing cancer amp toxin surrounded go orhanic stay away man made garbage',\n",
              "       'cancer cure likely metabolic nature genetic sensor requires synthetic piece dna delivered cell goal detect cancer specific non adaptable process cancer detected shuts like using control region tumor supressors abnormally increased silenced would shut mitochondrion immediately starving cell',\n",
              "       'nobody annoying platform valley girl exaggerated facial expression making every single subject melodramatic',\n",
              "       'like covered continue rabbit hole mced around corner think look lllumina grail galleri various cancer center excellence pleasantly impressed also population scale early testing nh please put pin come back couple month',\n",
              "       'call cancer acute tissue infidelity syndrome encompassing disease part',\n",
              "       'great exactly excellent content subscribed thank',\n",
              "       'really female version johnny harris',\n",
              "       'know come title content stay cloe', 'hope ai help u fight cancer',\n",
              "       'not seen video real worried title video hovering quot recommend channel quot button waiting hear word quot essential oil quot quot gemstone quot glad watched great video completely agree frustration href http www youtube com watch v usmu scncss amp folk view informing patient',\n",
              "       'well yeah obviously',\n",
              "       'wow elephant room wanna prevent cancer watch eat sugar primary full cancer cell love much doctor use radioactive sugar detect cancer cell best course action prevent cancer cut sugar diet includes soda dessert pasta bread pancake fruit juice',\n",
              "       'really miss old vox team',\n",
              "       'well people whore around cross blood type would belly rot arm pit cancer crossing blood type red blood cell carry oxygen white carry cure cross wrong blood type busy thing eat today hate hard core body temple eat shit die kosher meal got healthy top part e mc jim jones revival pemmican scrapple sausage soul food haggis dont waste life time want eat like everlasting life anyway space program amp amp nanotechnology nice cangerest relationship knowing right blood type eating good taught live look animal problem cancer last time debugged ever see someone feed snail something poop eating thing like make good body temple',\n",
              "       'understand every human cancer even stage phase rate go stage symptom brings forth test like say idealy prevention still key heard eat right stay away carcinogen yada yada really br br life life live today full concern cleaning product filling gar gas breathing fume many job occupation low level concern enough not warrant ppe yet accumulate time job get done job thing every day way another even think dismiss normal well guess br br cancer accelerating effect apart life every year plastic probably one biggest contributor want cure modern way poison stop everything know maybe wont die cancer maybe cause still',\n",
              "       'next gen liquid biopsy screening using blood urine detect multitude cancer early enable precision medicine best care mri way anymore like said cancer really term many many different disease really cool stuff happening oncology world right tho',\n",
              "       'year ago mother diagnosed stage iv lung cancer life death sentence metastasized brain removed brain tumor left tumor lung immune system actually started beating one found scar tissue small tumor center brain something called blood brain barrier make harder immune system effective followed radiation br last year cancer returned small bit lymph node chemo radiation year immunotherapy doctor said chance never get cancer br treatment getting better mother smoked life avoidable cancer smoked number year increased risk though quit almost year ago risk increase fairly small mother also approaching quite possible die something else cancer kill br chemo still horrible though lot problem get cancer already ruled chemo not uncommon choice step grandmother died lung cancer chemo first time second time br moral story smoke lung cancer suck yay treatment getting much better keep getting better',\n",
              "       'biggest lie making people believe cure one jack pharma cartel usually die faster',\n",
              "       'video spinning ridiculous story br br checking like shown video benign thing businessmen capitalizing wealthy people fear ignoring science cost benefit whole body mri yes keep information people unnecessary follow ups useless expensive end invasive treatment become dangerous br br video made people fault understand cancer detection conducted expert brought direct financial conflict interest br br really interested tradeoff podcast outline issue cascade care',\n",
              "       'see documentary quot',\n",
              "       'love took moment talk absolute madness mri technology favorite example easy human redefine normal look mri broad term literal sorcery quot gonna put tube generates energy field using special material look inside body without cutting open quot science fascinating fact people need surgery reattach jaw every time see one working speaks ability integrate genuinely amazing thing background noise life',\n",
              "       'johnny harris vibe', 'medical bankruptcy health care free',\n",
              "       'well put together hopefully',\n",
              "       'href http www youtube com watch v usmu scncss amp basically good enough analyzing mri result confidently detect cancer early sound like need focus',\n",
              "       'hi know anything wes genetic testing could also huge screen testing real person idea another video',\n",
              "       'get information might act poorly whaaatt come one poorest conuntries world cuba health indicator level developed country secret preventive medicine everybody know better treat early cure really sick',\n",
              "       'cancer look beauty heals', 'top quality content love',\n",
              "       'human body contains something like trillion individual cell one way another every decease start cell small group able imagine cell process data detect outliners crucial fixing like health problem mri pretty good new mri machine developed better resolution stuff still distance walk enormous amount data even today supercomputer problem becoming easier solve year lot reason optimistic medical future br br another interesting note make cancer cell replicating uncontrollably strong indication cause people age cell not replicate die make similar cancer called senescent cell believe chance quot melt quot type cancer treatment may delay aging even actually cause people de age degree interesting topic may want cover yet',\n",
              "       'dang dang dang dang waam waam waam', 'nanobots would nice',\n",
              "       'quality life important',\n",
              "       'johnny harris change gender miss something wtf',\n",
              "       'look burzynski clinic antineoplastons known cancer treatment eradicated lethal brain stem tumor also work multiple different type cancer survival rate way higher chemotherapy unfortunately fda cancer industry not like antineoplaston treatment invented discovered dr burzynski independent researcher doctor industry new would lose billion became approved commercial use luckily still use fda said must gone round chemotherapy use make still make money either way find disgusting',\n",
              "       'going take war cancer literal war one overlooked absolutely critical aspect war effort intelligence surveillance reconaissance isr drone hovering battlefield worth tank not knowing behind bush',\n",
              "       'pleasw verify recent early detection president first lady make another video regarding deliverance',\n",
              "       'afford healthcare u wish best die uncaught cancer href invalid zcsafez',\n",
              "       'would like thank best reliable doctor quot dr osaye quot kindness deep heart severe pain thank god knowledge herb could cure cancer grateful',\n",
              "       'suffered cancer year never thought could cured doctor told thank god not loose hope still mentor dr osaye helped natural solution successfully cured',\n",
              "       'problem doctor taught lower medical burden not enough medical resource screen every type cancer medical facility fully body mri example remember bio medical ethic class teaching doctor college quot lower medical burden quot early detection lower burden not medical foundation think',\n",
              "       'thanks dr osaye idea great herbal medication worked wonderful herbalist truly care',\n",
              "       'know many people like lady much useless information everyone already know',\n",
              "       'refreshing see video cancer quot government conspiracy quot quot eat fish full cheese quot br definitely wish medical system better set diagnostic testing v responding severe symptom hopefully start change future',\n",
              "       'seems weird mention galleri blood test might able detect type caner developed u trialed uk even not made feel like worth mention sound interesting',\n",
              "       'kind quot',\n",
              "       'designer ct mri machine seeing increased adoption preventative strongly believe generation move disease care health care however penetration health tech mass take many many decade',\n",
              "       'love surprisingly accurate medical video seriously mentioned quot lead time bias quot video geared towards general public impressive',\n",
              "       'think cleo missed crucial context video false positive detecting benign growth positive thing ignore bad news downside downside come unneccessary follow procedure like surgery vast majority suspected cancer may indeed better not knowing knowing information get not good enough',\n",
              "       'beautiful video', 'nice clickbait',\n",
              "       'dr gboya always willing listen help father always recommend cancer',\n",
              "       'interesting video one remark mri not widely available maybe high income country people urban area certainly not yet mass might change future though',\n",
              "       'common dy ever say sym', 'supermodel give u knowledge amazing',\n",
              "       'firstly cellular replication mastery allows longer better quality life eradicates cancer secondly toilet analyze waste identify cancer early becomes problematic still get wrinkly old die not sure one method get implemented second example probably cut first scenario cut necessary yes know mean tiny nanobots coursing threw vein yes know make sciborg though sort sciborg healthy youthful cellular replication stay age suppose look young mine suit especially compared sort cyborg people wish see cyborg still member living girl need mri machine take self replicating nanobot pill gonna run heart keep beating know president battlestar gallactica cancer remember survived not psilons could mate human get cancer mri light work travel wave convinced people sit throne',\n",
              "       'canada know many people complained symptom year even longer finally get sent cancer test heard another one year old absolutely correct save many life regular screening largely cost lack resource',\n",
              "       'someone work oncology drug development every day thumb cleo clear informative balanced',\n",
              "       'diagnosed benign brain tumour teenager got eye checked every year childhood baseline history relationship opthometrist notice something wrong complaint headache worsening vision may ignored year old br br overstate important regular checkup doctor help early detection thankfully year remission following brain surgery radiation treatment canadian healthcare also meant charged dime',\n",
              "       'href http www youtube com watch v usmu scncss amp subconsciously touch lip said',\n",
              "       'not doctor seems like key word quot', '',\n",
              "       'conclusion not test repeatedly ploughing money testing rather drug development make testing cheaper accessible',\n",
              "       'hi cleo looked people dissolving cancer growth extended day fast',\n",
              "       'grandpa recently diagnosed early stage prostate cancer wanted get checked initiative got result doctor told come back check half year initiative encouraged tried get treatment sooner around time first round treatment happy cancer found early treatable pretty easily found wanted get checked people especially older literally save life',\n",
              "       'unfortunately',\n",
              "       'excellent content engaging story teller loved mri explanation multiple due torn acl minute machine always thought future hopefully would done faster le scary noisy way access people paternalistic medicine always ask mri data usb check knee layer later home',\n",
              "       'later patient diagnosed money medical industry able milk patient',\n",
              "       'cancer least scary disease',\n",
              "       'get cancer answer otherwise natural selection',\n",
              "       'well produced video look large part due enjoying work',\n",
              "       'excellent informative',\n",
              "       'great video would love see another video heart disease',\n",
              "       'like video agree general sentiment best defence fight not said medical screening management finding complicated curious learning concept suggest watching dr rohin francis video called quot epidemic fake disease quot youtube channel medlife crisis talk idea quot cancer cancer quot possible harmful outcome occur result management lesion detected medical imaging',\n",
              "       'cleo im sure video save livves', '', '',\n",
              "       'mom died breast cancer month ago totally healthy fine best friend world within three week diagnosis died please lady get breast checked br br super small cut today liver failure bloody cough bone metastasis soon',\n",
              "       'worth watch mimick mri br br intriguing topic appreciate looking br br would careful quot free quot trial product make money content make money product thus paid indirectly supporting product whether company pay not said long make clear came offer make somewhat understood find line crossed whole program product e g quot news quot story obvious merely ad long due diligence determine sham service viewer',\n",
              "       'cleo got skill keep really enjoying work', 'rip technoblade',\n",
              "       'thats sad piece reality atleast hope cutting edge microbots cure disease cellular level future',\n",
              "       'sorry say quite disappointed coverage yes important inform people catching cancer early getting tested also not realistic achievable way medical system cause every medical system world completely deprived resource briskly mentioned vaccine possible cure wish would explored example mrna cancer absolutely revolutionary might actually cure many form cancer',\n",
              "       'argument given not conducting regular test absolutely bogus',\n",
              "       'one area cancer treatment not really talked much early detection oftentimes people find cancer late already hence seeming lack cure work process engineer one thing taught mentor prefer quot problem avoiders quot instead quot problem solver quot focus quot predictive quot quot preventive maintenance quot instead repair think mindset would helpful also come cancer maybe even disease br br also gonna need audio file cleo interpretation mri sound please would make good phone ringtone morning alarm',\n",
              "       'applies diagnosed stage lung cancer march yo still fighting tumour chemo immuno biomarker fit cancer thank video always appreciate people invested cancer btw detected early always medical check nov every year covid stopped detecting cancer want go hospital swarmed covid',\n",
              "       'love video hate title',\n",
              "       'issue screening everyone certain method like mri would need lower false negative rate especially lower false positive rate key idea bayes theorem background risk age history low false positive little high could overwhelm oncology depts across country br br hand could get statistically lower acceptable rate false positive could definitely begin screening everybody better resolving power stronger magnetic field maybe machine learning imaging could dial accuracy mri test cancer screening may even save health care system money multi million dollar mri machine used hr per day year end might cost hundred dollar le per patient per year leave machine day anyway powering back take long might well run people',\n",
              "       'anything cured examining source keep saying one listens keep getting drowned',\n",
              "       'always worry quot',\n",
              "       'duress given full body mri back use st mary lubbock robin cole shelly cooper absolutely criminal melt please',\n",
              "       'hahaha robin cole shelly cooper not cop need melt',\n",
              "       'lot virus including herpes precursor cancer',\n",
              "       'background music style telling story strongly resembles johnny harris wonder used work together vox probably got influenced',\n",
              "       'diagnose cancer year live never scared die cry everyday wishing miracle happen know im saying put prayer',\n",
              "       'money money mri machine k k city live along k people unfortunately also not enough early cancer deep tissue would missed need seen scope colonoscopy endoscopy cystoscopy etc would need money tool money doctor technician conduct analyze not better drug also need better cheaper detection tool pollutant put spill food air soil water accelerate cancer exponentially every single person know died outside car accident died cancer losing war front',\n",
              "       'american term imaginable medical bankruptcy',\n",
              "       'wife died ovarian cancer year ago exhausting quot therapy quot cancer detected six year resulted surgery remove declared cancer free since none detected two year came back anyway quot round quot six eight week week chemotherapy every eighteen month seemed four course chemotherapy probably got bit tired therapy youthful end option turbocharge chemotherapy evidence might not right way effect cure first place',\n",
              "       'two scan ezra amp location cleo boom boom scan reviewd several top radiologist doctor using artifical intelligence great crew ezra scan not cheap lung scan seperate machine cost got discount count code ezra shout marissa ezra br insurance not cover try write medical expense tax pelvic scan slightly elevated psa urologist ready biosopy found ezra figured worth shot cancer found unremarkable not cancer organ scaned unremarkable find disc vertebra worn tatered knew ache pain not depth heart not scaned water volume thorasic aorta hour mri tube sound frightful claustrophobic think frightful cancer thanks spreading ezra word',\n",
              "       'much likely develop cancer getting regular x ray exposure mri scan',\n",
              "       'beauty', 'nuclear weapon testing toxic chemical messed world',\n",
              "       'trying convince wife year amp',\n",
              "       'thank video middle aged person important', 'damn sexy nerd cleo',\n",
              "       'fantastic video keep growing cleo',\n",
              "       'overdiagnosis bias shit marketing term made insurance company',\n",
              "       'doctor dumb af saying catching early critical saying mri used rarely order save insurance company',\n",
              "       'half men wtf',\n",
              "       'sorry think made mistake chance high everyone watching cancer already question well treat body immune system prolongue growth harmful spreading knowledge best treatment definitely early detection prevention biggest leverage plant based diet healthy life style lot movement stress relief video focus method find treat cancer ask question cancer rate rise much fundamental pattern lead range immunological deficiency facing western society',\n",
              "       'early detection blood test like galleri test surprised subject early detection mention option pro con',\n",
              "       'not one mention crap food toxic environment modern society constant stress lead disease',\n",
              "       'not use makeup come girl powerfull think',\n",
              "       'amazing reporting like usually cleo', 'drug industry not profit',\n",
              "       'japan routine full body screening certain age', '',\n",
              "       'ship derik veritasium',\n",
              "       'keira knightly scientist never came harder', 'doctor afraid data',\n",
              "       'well produced video however disturbing felt need clickbait title video cancer',\n",
              "       'gout next lost toe middle finger soon',\n",
              "       'disagree portion cancer almost entirely creation modern world many artificially designed chemical released environment mimic natural hormone body go back year cancer extremely rare mean extremely rare totally dismiss saying quot well life span shorter quot yes people still lived old age still never got cancer',\n",
              "       'excellent video delivery animation scripting phemonimal also finished reading emperor malady touched lot key takeaway book keep great work',\n",
              "       '', 'keep good work',\n",
              "       'thc not cbd cannabis oil cure cancer cured people dog even rabbit',\n",
              "       'href http www youtube com watch v usmu scncss amp make sure people go bankruptcy maybe maybe universal health care system like england german brazil canada others',\n",
              "       'good stuff know',\n",
              "       'well done topic br br uncle passed away last year pancreatic cancer mom early stage breast cancer two year ago fortunately caught early cut br br early detection appear key great could find proper balance early detection overwhelm nonessential finding fill medical system like mention br br quality video right cleo',\n",
              "       'prevention good nutrition fruit vegetable said contain cancer fighting element',\n",
              "       'best content channel thanks', '',\n",
              "       'another american bullshit propaganda',\n",
              "       'video always top tier one best learned much important topic',\n",
              "       'overall good video terrible way describe mri work magnet not move unlike ct mri actually moving part apart bed wheal magnetic field quot',\n",
              "       'intense sound design beginning like great another sensationalist talking head super good thank diving reminding u steward improve',\n",
              "       'youtube thing fizzle always ability move sound effect sayin',\n",
              "       'solution medicare',\n",
              "       'remember reading somewhere insulin one not biggest growth factor cancer starving body type source sugar actually starve cancer die',\n",
              "       'informative video went checked cost full body scan ezra sure beat scan risky prep anesthesia bodily intrusion thanks info',\n",
              "       'thank enthusiasm researching new cancer treatment',\n",
              "       'father died cancer yr ago back', 'cost',\n",
              "       'parent died cancer relatively young br br often case death family member cancer end pain beginning immense grief pain loved leave behind horrific group disease need find real cure course includes effective preventative care not smoking etc also mean finally affordable universal healthcare country like u br br using chemo radiation effective like using sledgehammer kill fly reminiscent scorched earth policy area warfare sure kill enemy also leave little behind whoever remains survive',\n",
              "       'need national healthcare system private',\n",
              "       'high frequency curing cancer without damaging surrounding tissue japan using stem cell cure outlawed u',\n",
              "       'feel like data overload misdiagnosis problem problem easily solved current neural network solution huge quantity already labeled mri data tumor real problem quot early detection cost alot money doesnt earn alot money whereas cancer treatment make alot money take le effort quot',\n",
              "       'quot harmful follow ups quot valid concern first guessing wrong think risk radiation exposure extra diagnostic x ray le risk harm cancer screening test suggests person may clue interpret result screening test cautious might guess wrong second correct rate false positive conclude enough harm suppose screening test false positive rate zero false negative incidence disease certain population one ten thousand follow diagnostic test also false positive rate zero false negative treatment save life extra patient disease caught early treatment kill people get screening test generate false negative follow diagnostic test generate one double false positive per people tested treatment kill one person per tested meanwhile disease go undetected one person would saved earlier treatment disease kill one treatment would kill delay would simplicity hypothetical example everyone either killed completely fine real treatment would common mild side effect uncommon moderate side effect idea applies',\n",
              "       'great video hope work also nebula streaming', 'one best vids',\n",
              "       'biggest battle health insurance company feel treatment',\n",
              "       'hearing dental check comparison upsetting made realise become common largely dependent disposable income early detection low income people like people unable afford regular health dental check ups',\n",
              "       'year old jan cancer back past oct first time dealing radiation chemo first time surgery not looking forward next month say least never smoked hardly ever drank alcohol probably year since much beer maybe eat healthy ended throat cancer type heavy smoker get dr baffled got cancer due history almost alcohol smoking',\n",
              "       'great job br br seems like best video one something humanity survival see eye every time topic really shine differently br br highly recommend focus also maybe name series exactly quot survive quot see might interesting video people like fascinated storytelling thing br br idea channel survival topic quot survive quot br br catastrophe br hostile environment natural societal br world space br disease like virus cancer etc br accident trapped injured etc br br let another segment case grow bigger channel href invalid zcsafez',\n",
              "       'cancer routinely screened like mammogram breast cancer psa test prostate cancer colonoscopy colon cancer save money whole body mri scan getting information including testing pancreatic ovarian whole litany cancer',\n",
              "       'thinking gonna talk grail still great overview well presented',\n",
              "       'hey cleo thanks informative interesting video cancer well done br wondering large scale regular testing folk perhaps annual mri something like think benefit would amount data became available time imagine folk different stage life like everyone turned even next twenty year would provide broad spectrum outcome onset progress disease like cancer coupled lifestyle choice like diet exercise well thing like mental health external stress could could provide pattern model stay healthy get sick early detection nothing gathering information not gather much possible technology maybe could figure folk go life cancer free far whilst others two cent br thanks not unbiased reporting also willingness learn adopt new thing happened video well done',\n",
              "       'hey cleo heard company called break bio want customise treatment based particular patient not use generic treatment protocol check',\n",
              "       'cancer war early detection negotiation',\n",
              "       'maybe cancer business big pharma like business',\n",
              "       'radiologist whaddup', 'quot',\n",
              "       'dr obulor highly appreciated br generosity towards healing cancer virus medicine incomparable glad found youtube channel sir',\n",
              "       'quot', 'think john green crusade tell world tuberculosis',\n",
              "       'thank br complete picture think need follow video part two prevention br prevention essential tool toolkit fighting cancer',\n",
              "       'good take complex topic concise doctor issue resource issue getting machine tech radiologist reporting tech improve mri machine become accessible reporting done ai eventually not far future radiologist able review report alter concern early detection br need focus screening program available everyone get checked especially ur age nice work cleo u may saved life one',\n",
              "       'one thing not mentioned video mri arguably best diagnosis tool expensive also need helium order cooled stay functional operating range might know running helium planet fast used space industry think wasting balloon br br even invest mri not feasible upscale public commercial use routine checkup larger percentage population need better treatment option need better early detection option well tool either not good enough catching thing early would expensive offer larger percentage population course make already also important realize limitation current tech larger scale',\n",
              "       'thank much showing productively expressing frustration many people medical establishment medium treating journey conquer cancer love seeing passion guide sometimes uncomfortable territory shy away saying really need said characteristically candid easy going excited style br br also suspect lack quot glamour quot creating early detection system failure innovation creativity not inherent attribute process sure may not obvious exciting marketing especially extraordinary world changing example finding way bridge human excitement product process need look weird thing charmin including full song glorifying pooping rise coding quite possibly least sexy thing think practically household concept sure numerous example think not particularly tapped mainstream culture not trying hard enough point though something not exciting innovation gap not thing inherently quot boring quot br br think several way innovation dream way could stoked realm like incentive program either funded government angel investor like done alzheimer research self driving vehicle competition massive prize monetary prestige either individual team even government level showcase style event imagine event extraordinary technology geeked put display charismatic extremely knowledgeable people describing people walking showroom floor heavily marketed spread far wide almost like selling car merger fashion traditionally clinical splash color beauty individuality diagnostic system people use doubt countless br br new drug seem receive least minor form treatment judging youtube ad pushing drug even know function not early detection process',\n",
              "       'great video reporting always', 'thank work topic',\n",
              "       'really glad brought diagnosis problem quot paternalistic quot seems really backwards glad get anything mri seems like chance get something correct thing would mri taken routinely maybe year see strange thing know get disease people may say would increase healthcare cost would make really large line mri machine preventing disease huge saving b maybe need mri machine think response doctor quot let diagnose needed quot come really insurance company need report whenever want mri yes mri really really cool nmr based technology used chemistry determine structure molecule',\n",
              "       'base problem money ultracapitalist logic organise society',\n",
              "       'great video cleo content really well structured somehow manages answer question audience exactly right point video',\n",
              "       'lot mri cracked much accurate sound love', '',\n",
              "       'think video topic ad end',\n",
              "       'hi amazing content impressive work agree medical paternalism obnoxious well br br one thing would careful thinking cancer detection term true positive false positive let say money longer existed started screening everyone cancer would sound wonderful mom stage cancer would helped let say accuracy test people million american cancer yearly using bayes theorem probability mean probability cancer given scanner see approximately assuming everyone screened regardless indication otherwise cancer meaning people positive result situation would not cancer percentage people would go surgery healthy people may die surgery table situation people may die false positive cancer make early detection hard',\n",
              "       'work h f system realized involved year american healthcare model product hospital doctor able focus long term care prevention work product hospital',\n",
              "       'perhaps focus reducing use chemical known cause cancer biggest example would processed food additive',\n",
              "       'soooo capitalism one major opponent early diagnosis',\n",
              "       'mind blowing thanks',\n",
              "       'noticed mention diet nutrition video opinion play large roll not getting cancer controlling even reversing cancer',\n",
              "       'mean loyal pet work done',\n",
              "       'video good come content warning wife going chemo right first second pretty triggering',\n",
              "       'oh good good ole amurica moneylining ceo pock im sorry healthcare system',\n",
              "       'hot hot hot hot', '', 'first mri thought',\n",
              "       'mri fantastic especially recent version drawback substantial metallic object allowed vicinity mri magnetic field tesla put perspective pound steel office chair would pulled force pound video yt actually test old mri going decommissioned also mean people skeletal prosthesis made surgical steel cannot scanned magnetic field would rip right luckily ct scanning also progressed almost good mri',\n",
              "       'great coverage thanks highlighting important topic early detection would add multi cancer screening blood test like grail next step screening exciting tool could make early detection affordable available yes also bring lot false positive result stated better give people information let decide want use combine tool burgeoning ai could exciting time make huge dent cancer mortality',\n",
              "       '',\n",
              "       'great content awesome story telling well done not feel like minute like wow',\n",
              "       'love lighting video seems production quality improved',\n",
              "       'finished treatment melanoma something year old non sun seeking male cover head shade given merest hint sun bit shock br br thing even way found servicing mountain bike mom house garage really hot day top shelter br br went kitchen wash hand mum happened see dark spot went doctor sent dermatologist sent day surgery taking sample br br cue extra surgery remove flesh around melanoma couple sentinel lymph node top leg followed x weekly treatment using immunotherapy br br let tell immunotherapy cake walk comparison chemo treat cheek jowl chemo patient feeling imposter syndrome real br br not entirely without drawback though case turned immune system rocket ship level reactivness resulted inflammatory arthritis body go ape shizz br br funnily enough treatment drug higher dos used treat cancer opposite effect methotrexate br br oh initial screening also using spectrum k k basic loading screen sounding mri scanner take picture head also found non advancing brain lesion towards back skull br br time not sure way tell wait see meant rather worrisome week waiting see grown br br thankfully got treatment hopefully rod say hopefully test would enable know sure br br undergoing close monitoring next year br br oh mention happened pandemic br br meant isolate doctor nurse whole bunch patient could not become infected covid mean would want death critically ill cancer patient hand br br looking state healthcare u though soooo glad uk return work without burden crippling debt mind',\n",
              "       'earl e detection',\n",
              "       'wish could meet person could tell quirky fact know',\n",
              "       'tech world internet ai nano bot etc save levy break time die human cling rock like cancer thinking live forever better dust came',\n",
              "       'real problem modern medicine rarely look root cause e cancer rate going environmental pollution something diet something else br br imho government body fund rca root cause analysis research',\n",
              "       'href http www youtube com watch v usmu scncss amp think topic cancer apply wrong got cancer age never young not cancer',\n",
              "       'great video super interesting matter loved talked imaging subject often forgot br anxiety much information not something completely made br young doctor not talked enough video not like take mri know cancer sometimes find something not sure found follow biopsy worst case scenario surgery examine tissue found br perform surgery turn not cancer case performed invasive practice patient young healthy risk late risk associated br br europe screening common cancer exam quot cheap quot expecially breast uterine cervix cancer cheap exam x ray smear test fast cheap offer large amout population extremely beneficial br type cancer little bit tricky mri expensive slow ct scan expose lot radiation ecography study lot body part depends lot person performs exam br br loved video lot say argument br keep work love',\n",
              "       'amazing video much good information important new perspective thank cleo',\n",
              "       'didnt even mention fasting keto diet', 'thank',\n",
              "       'medical technology feel like',\n",
              "       'literally eat keto carnivore bye bye cancer stupid video talking joe budden',\n",
              "       'hi people intrnet video like million view not random tiktoks thanks',\n",
              "       'watch cia delete video', 'video similar johnny', '',\n",
              "       'episode mrna treatment might rapidly rolled people globally obviously automation etc presumably would amazingly heartening current cancer professional patient obviously indeed',\n",
              "       'cancer scare year ago misdiagnosis misunderstanding unqualified plastic surgeon cyst removed finger cutting realized not cyst sent week later call back sit go lab finding quot chordoma like indicator quot google tell survival rate year stopped looking new job stopped trying second child complete life hold br br tumor went sainai princess margaret eventaully state panel look br br long story short not cancer thankfully benign however regret thing huge lesson lump told gangelon year grew bigger trouble clenching hand finally stood advocated removal cancer know around got lucky br br feel like early detection medical system half battle fighting half hard nobody want cancer fighting sort admitting might difficult remain logical level headed time',\n",
              "       'read eat beat disease dr william li br amp',\n",
              "       'great video really believe message br appart treating cancer one biggest problem think mental trauma people cancer closed one go though br br year back mother father diagnosed cancer time lost dad last year mother still fight getting hard find money br br issue atleast contry india telling friend cancer get sad petty comment v supportive one tends isolate struggle point life jut cancer treatment side effect thats shitty life br br running money dr suggest crowd funding experience telling something super hard br br educating people cancer common idea not always death sentence would go long way helping front direction react loved one diagnosed',\n",
              "       'think problem enough positive information education early detection know people refused early detection procedure want know fear cancer bigger knowledge benefit early detection opinion anyway',\n",
              "       'usually everybody overlooked cannabis effective form cancer cure',\n",
              "       'get free cancer checkup well make video br br know say br br come canada mri appointment take month want go private hospital spend k thanks better vote amp die',\n",
              "       'great video great job',\n",
              "       'cool video would also interesting explore topic cancer risk reduction trying reduce risk developing cancer first place thanks putting together',\n",
              "       'reduce inflammation', 'great information piece dayum',\n",
              "       'prevention key however incentive profit healthcare system eat healthy exercise manage stress get enough sleep body fighting cancer constantly detectable lab test mri healthy body eliminate mutated damaged cancer cell become problem',\n",
              "       'href http www youtube com watch v usmu scncss amp spot br br edit somebody need make gif clip br br edit also href http www youtube com watch v usmu scncss amp',\n",
              "       'year ago told noone going want try operate mesotelioma inside stomach filled cancer several organ covered time starting symptom realised cancer took month tested everything everything ecept cancer year old dont smoke work anything toxic anything special finding earlier would probably spared ton suffering br br starting treatment chemo tried figure got cancer best theory got radiotherapy thats right already cancer year ago treated leukemia chemo mustard gas radiotherapy atomic bomb surgery hour put sleep doctor tirelessly removed cancer cell body transplantation stemcells done except quot melting quot maybe br br somehow miraculously survived time odds swedish healthcare amazing br br time take month could find right diagnose month could made suffering smaller believe making great point saying finding way finding earlier important way help people survive br br yeah sorry life story enjoyed video topic really important finding treatment cancer not simple one way solution like said ton different type different way get treat quot simple quot fact finding early key not save life also minimize lot suffering much people',\n",
              "       'one name come mind burzynski surprised mention',\n",
              "       'anything appreciate vox finding amazing journalist story teller like johnny harris',\n",
              "       'haha quot think topic apply quot br yeah done',\n",
              "       'let get ai dr chatgpt diagnosis', 'seems like key lower cost mri',\n",
              "       'href http www youtube com watch v usmu scncss amp way take bribe profit healthcare industrial complex year ago nixon declared war cancer billion given quot profit quot people surprise surprise still conquered cancer make hundred billion dollar year treating slash burn poison looking change anything'],\n",
              "      dtype='<U2679')"
            ]
          },
          "metadata": {},
          "execution_count": 21
        }
      ]
    },
    {
      "cell_type": "code",
      "source": [
        "# converting into feature vector\n",
        "vectorizer = CountVectorizer()\n",
        "vectorizer = vectorizer.fit(X_disp3)\n",
        "X_disp4= vectorizer.transform(X_disp3)\n",
        "test_X = vectorizer.transform(test_X)\n",
        "features = vectorizer.get_feature_names_out()\n",
        "X_disp4 = pd.DataFrame(X_disp4.toarray(),columns = features)\n",
        "test_X = pd.DataFrame(test_X.toarray(),columns = features)\n"
      ],
      "metadata": {
        "id": "5Zkp85MLlANk"
      },
      "execution_count": null,
      "outputs": []
    },
    {
      "cell_type": "code",
      "source": [
        "X_disp4 = X_disp4.drop(X_disp4.iloc[((np.sum(X_disp4.T)).values == 0)].index)"
      ],
      "metadata": {
        "id": "zej01QBaohsL"
      },
      "execution_count": null,
      "outputs": []
    },
    {
      "cell_type": "code",
      "source": [
        "test_X = test_X.drop(test_X.iloc[((np.sum(test_X.T)).values == 0)].index)\n",
        "test_Y = test_Y.iloc[test_X.index]"
      ],
      "metadata": {
        "id": "hEqMugTR6iWh"
      },
      "execution_count": null,
      "outputs": []
    },
    {
      "cell_type": "code",
      "source": [
        "X_disp4.shape"
      ],
      "metadata": {
        "colab": {
          "base_uri": "https://localhost:8080/"
        },
        "id": "JQ5RapjQp2Ba",
        "outputId": "f4b7915c-4a07-4c72-8320-8cf3b0d9e3d1"
      },
      "execution_count": null,
      "outputs": [
        {
          "output_type": "execute_result",
          "data": {
            "text/plain": [
              "(9885, 14583)"
            ]
          },
          "metadata": {},
          "execution_count": 25
        }
      ]
    },
    {
      "cell_type": "code",
      "source": [
        "# appling the Agglomeration Clustering with difference metrics"
      ],
      "metadata": {
        "id": "_sRqOx6TggZh"
      },
      "execution_count": null,
      "outputs": []
    },
    {
      "cell_type": "code",
      "source": [
        "agg_clus = AgglomerativeClustering(n_clusters=2,linkage = 'single',metric='euclidean').fit(X_disp4)\n",
        "agg_clus2 = AgglomerativeClustering(n_clusters=2,linkage = 'single',affinity='manhattan').fit(X_disp4)\n",
        "agg_clus3 = AgglomerativeClustering(n_clusters=2,linkage = 'single',metric='cosine').fit(X_disp4)\n",
        "agg_clus4 = AgglomerativeClustering(n_clusters=2,linkage = 'single',affinity = 'correlation').fit(X_disp4)\n",
        "agg_clus5 = AgglomerativeClustering(n_clusters=2,linkage = 'single',affinity = 'chebyshev').fit(X_disp4)\n",
        "\n"
      ],
      "metadata": {
        "id": "2rODHjy2ldMx",
        "colab": {
          "base_uri": "https://localhost:8080/"
        },
        "outputId": "5e89887b-ddf2-4df6-e2d5-1dd5e9d52471"
      },
      "execution_count": null,
      "outputs": [
        {
          "output_type": "stream",
          "name": "stderr",
          "text": [
            "/usr/local/lib/python3.9/dist-packages/sklearn/cluster/_agglomerative.py:983: FutureWarning: Attribute `affinity` was deprecated in version 1.2 and will be removed in 1.4. Use `metric` instead\n",
            "  warnings.warn(\n",
            "/usr/local/lib/python3.9/dist-packages/sklearn/cluster/_agglomerative.py:983: FutureWarning: Attribute `affinity` was deprecated in version 1.2 and will be removed in 1.4. Use `metric` instead\n",
            "  warnings.warn(\n",
            "/usr/local/lib/python3.9/dist-packages/sklearn/cluster/_agglomerative.py:983: FutureWarning: Attribute `affinity` was deprecated in version 1.2 and will be removed in 1.4. Use `metric` instead\n",
            "  warnings.warn(\n"
          ]
        }
      ]
    },
    {
      "cell_type": "code",
      "source": [
        "Y_1 = agg_clus.labels_\n",
        "Y_2 = agg_clus2.labels_\n",
        "Y_3 = agg_clus3.labels_\n",
        "Y_4 = agg_clus4.labels_\n",
        "Y_5 = agg_clus5.labels_\n",
        "l = [Y_1,Y_2,Y_3,Y_4,Y_5]\n",
        "for i in l:\n",
        "  print(np.unique(i,return_counts=True))\n",
        "  "
      ],
      "metadata": {
        "id": "ZBWGpB7sp7Jv",
        "colab": {
          "base_uri": "https://localhost:8080/"
        },
        "outputId": "51ea1016-00a2-44a4-9951-4e83ef50a9b9"
      },
      "execution_count": null,
      "outputs": [
        {
          "output_type": "stream",
          "name": "stdout",
          "text": [
            "(array([0, 1]), array([9884,    1]))\n",
            "(array([0, 1]), array([9884,    1]))\n",
            "(array([0, 1]), array([9884,    1]))\n",
            "(array([0, 1]), array([9884,    1]))\n",
            "(array([0, 1]), array([9884,    1]))\n"
          ]
        }
      ]
    },
    {
      "cell_type": "code",
      "source": [
        "#evaluating them"
      ],
      "metadata": {
        "id": "naR-9wIkgnZc"
      },
      "execution_count": null,
      "outputs": []
    },
    {
      "cell_type": "code",
      "source": [
        "count = 0\n",
        "for i in l:\n",
        "  count+=1\n",
        "  print(f'for cluster : {count}')\n",
        "  print(f\"calinski_harabasz_score : {calinski_harabasz_score(X_disp4,i)}\")\n",
        "  print(f\"silhouette_score : {silhouette_score(X_disp4,i)}\")\n",
        "  print(f\"davies_bouldin_score : {davies_bouldin_score(X_disp4,i)}\")\n"
      ],
      "metadata": {
        "id": "PE_KO-65x4VG",
        "colab": {
          "base_uri": "https://localhost:8080/"
        },
        "outputId": "8c3a6526-e7cd-4772-a1d7-82e416ee929d"
      },
      "execution_count": null,
      "outputs": [
        {
          "output_type": "stream",
          "name": "stdout",
          "text": [
            "for cluster : 1\n",
            "calinski_harabasz_score : 301.16037036777936\n",
            "silhouette_score : 0.9303769966170192\n",
            "davies_bouldin_score : 0.046259230498949644\n",
            "for cluster : 2\n",
            "calinski_harabasz_score : 187.661133440361\n",
            "silhouette_score : 0.9122325643292153\n",
            "davies_bouldin_score : 0.058296837115856835\n",
            "for cluster : 3\n",
            "calinski_harabasz_score : 0.06664780114105538\n",
            "silhouette_score : -0.3487381308232402\n",
            "davies_bouldin_score : 3.069906571493308\n",
            "for cluster : 4\n",
            "calinski_harabasz_score : 0.1673160825523939\n",
            "silhouette_score : -0.2777871826203713\n",
            "davies_bouldin_score : 1.9375060836447837\n",
            "for cluster : 5\n",
            "calinski_harabasz_score : 301.16037036777936\n",
            "silhouette_score : 0.9303769966170192\n",
            "davies_bouldin_score : 0.046259230498949644\n"
          ]
        }
      ]
    },
    {
      "cell_type": "code",
      "source": [
        "# appling PCA"
      ],
      "metadata": {
        "id": "CQ2Zs0Aggq5t"
      },
      "execution_count": null,
      "outputs": []
    },
    {
      "cell_type": "code",
      "source": [
        "pca = PCA(n_components=2000).fit(X_disp4)\n",
        "X_disp4_p = pca.transform(X_disp4)\n",
        "test_X_p = pca.transform(test_X)"
      ],
      "metadata": {
        "id": "_M9ps_d-uOHb"
      },
      "execution_count": null,
      "outputs": []
    },
    {
      "cell_type": "code",
      "source": [],
      "metadata": {
        "id": "QJTSfUsgufvy"
      },
      "execution_count": null,
      "outputs": []
    },
    {
      "cell_type": "code",
      "source": [
        "# appling the above process"
      ],
      "metadata": {
        "id": "f9ePl5TpumBY"
      },
      "execution_count": null,
      "outputs": []
    },
    {
      "cell_type": "code",
      "source": [
        "agg_clusp = AgglomerativeClustering(n_clusters=2,linkage = 'single',metric='euclidean').fit(X_disp4_p)\n",
        "agg_clusp2 = AgglomerativeClustering(n_clusters=2,linkage = 'single',affinity='manhattan').fit(X_disp4_p)\n",
        "agg_clusp3 = AgglomerativeClustering(n_clusters=2,linkage = 'single',affinity='cosine').fit(X_disp4_p)\n",
        "agg_clusp4 = AgglomerativeClustering(n_clusters=2,linkage = 'single',affinity='correlation').fit(X_disp4_p)\n",
        "agg_clusp5 = AgglomerativeClustering(n_clusters=2,linkage = 'single',affinity='chebyshev').fit(X_disp4_p)\n",
        "Yp_1 = agg_clusp.labels_\n",
        "Yp_2 = agg_clusp2.labels_\n",
        "Yp_3 = agg_clusp3.labels_\n",
        "Yp_4 = agg_clusp4.labels_\n",
        "Yp_5 = agg_clusp5.labels_"
      ],
      "metadata": {
        "id": "y0fZSB9UumMv",
        "colab": {
          "base_uri": "https://localhost:8080/"
        },
        "outputId": "8d3e1a99-657b-4206-c9c1-9b5e1e8c3d12"
      },
      "execution_count": null,
      "outputs": [
        {
          "output_type": "stream",
          "name": "stderr",
          "text": [
            "/usr/local/lib/python3.9/dist-packages/sklearn/cluster/_agglomerative.py:983: FutureWarning: Attribute `affinity` was deprecated in version 1.2 and will be removed in 1.4. Use `metric` instead\n",
            "  warnings.warn(\n",
            "/usr/local/lib/python3.9/dist-packages/sklearn/cluster/_agglomerative.py:983: FutureWarning: Attribute `affinity` was deprecated in version 1.2 and will be removed in 1.4. Use `metric` instead\n",
            "  warnings.warn(\n",
            "/usr/local/lib/python3.9/dist-packages/sklearn/cluster/_agglomerative.py:983: FutureWarning: Attribute `affinity` was deprecated in version 1.2 and will be removed in 1.4. Use `metric` instead\n",
            "  warnings.warn(\n",
            "/usr/local/lib/python3.9/dist-packages/sklearn/cluster/_agglomerative.py:983: FutureWarning: Attribute `affinity` was deprecated in version 1.2 and will be removed in 1.4. Use `metric` instead\n",
            "  warnings.warn(\n"
          ]
        }
      ]
    },
    {
      "cell_type": "code",
      "source": [
        "ll = [Yp_1,Yp_2,Yp_3,Yp_4,Yp_5]\n",
        "for i in ll:\n",
        "  print(np.unique(i,return_counts=True))\n",
        "  "
      ],
      "metadata": {
        "id": "SWY7tPvKyhtn",
        "colab": {
          "base_uri": "https://localhost:8080/"
        },
        "outputId": "a595694c-fd05-4d98-fd06-290173313f73"
      },
      "execution_count": null,
      "outputs": [
        {
          "output_type": "stream",
          "name": "stdout",
          "text": [
            "(array([0, 1]), array([9884,    1]))\n",
            "(array([0, 1]), array([9884,    1]))\n",
            "(array([0, 1]), array([9884,    1]))\n",
            "(array([0, 1]), array([9884,    1]))\n",
            "(array([0, 1]), array([9884,    1]))\n"
          ]
        }
      ]
    },
    {
      "cell_type": "code",
      "source": [
        "count1 = 0\n",
        "for i in ll:\n",
        "  count1+=1\n",
        "  print(f'for cluster : {count1}')\n",
        "  print(f\"calinski_harabasz_score : {calinski_harabasz_score(X_disp4_p,i)}\")\n",
        "  print(f\"silhouette_score : {silhouette_score(X_disp4_p,i)}\")\n",
        "  print(f\"davies_bouldin_score : {davies_bouldin_score(X_disp4_p,i)}\")"
      ],
      "metadata": {
        "id": "HgChbFfLyzRn",
        "colab": {
          "base_uri": "https://localhost:8080/"
        },
        "outputId": "44440d4d-d92d-4eb2-810f-c50ef23f5dd7"
      },
      "execution_count": null,
      "outputs": [
        {
          "output_type": "stream",
          "name": "stdout",
          "text": [
            "for cluster : 1\n",
            "calinski_harabasz_score : 326.41293975064144\n",
            "silhouette_score : 0.9349383459419742\n",
            "davies_bouldin_score : 0.04273981703456355\n",
            "for cluster : 2\n",
            "calinski_harabasz_score : 39.276338255826246\n",
            "silhouette_score : 0.8170535424280353\n",
            "davies_bouldin_score : 0.12164511858572742\n",
            "for cluster : 3\n",
            "calinski_harabasz_score : 10.45099204402978\n",
            "silhouette_score : 0.6621655425834929\n",
            "davies_bouldin_score : 0.23558697558053887\n",
            "for cluster : 4\n",
            "calinski_harabasz_score : 10.45099204402978\n",
            "silhouette_score : 0.6621655425834929\n",
            "davies_bouldin_score : 0.23558697558053887\n",
            "for cluster : 5\n",
            "calinski_harabasz_score : 326.41293975064144\n",
            "silhouette_score : 0.9349383459419742\n",
            "davies_bouldin_score : 0.04273981703456355\n"
          ]
        }
      ]
    },
    {
      "cell_type": "code",
      "source": [
        "# appling on the testing data"
      ],
      "metadata": {
        "id": "j2ZYXq7yU6v9"
      },
      "execution_count": null,
      "outputs": []
    },
    {
      "cell_type": "code",
      "source": [
        "agg_clus = AgglomerativeClustering(n_clusters=2,linkage = 'single',metric='euclidean').fit(test_X)\n",
        "agg_clus2 = AgglomerativeClustering(n_clusters=2,linkage = 'single',affinity='manhattan').fit(test_X)\n",
        "agg_clus3 = AgglomerativeClustering(n_clusters=2,linkage = 'single',affinity='cosine').fit(test_X)\n",
        "agg_clus4 = AgglomerativeClustering(n_clusters=2,linkage = 'single',affinity='correlation').fit(test_X)\n",
        "agg_clus5 = AgglomerativeClustering(n_clusters=2,linkage = 'single',affinity='chebyshev').fit(test_X)\n",
        "Yt_1 = agg_clus.labels_\n",
        "Yt_2 = agg_clus2.labels_\n",
        "Yt_3 = agg_clus3.labels_\n",
        "Yt_4 = agg_clus4.labels_\n",
        "Yt_5 = agg_clus5.labels_\n"
      ],
      "metadata": {
        "id": "FMtuD7JbVPW7",
        "colab": {
          "base_uri": "https://localhost:8080/"
        },
        "outputId": "e1acec81-7706-4b10-91f4-f8b8472773ae"
      },
      "execution_count": null,
      "outputs": [
        {
          "output_type": "stream",
          "name": "stderr",
          "text": [
            "/usr/local/lib/python3.9/dist-packages/sklearn/cluster/_agglomerative.py:983: FutureWarning: Attribute `affinity` was deprecated in version 1.2 and will be removed in 1.4. Use `metric` instead\n",
            "  warnings.warn(\n",
            "/usr/local/lib/python3.9/dist-packages/sklearn/cluster/_agglomerative.py:983: FutureWarning: Attribute `affinity` was deprecated in version 1.2 and will be removed in 1.4. Use `metric` instead\n",
            "  warnings.warn(\n",
            "/usr/local/lib/python3.9/dist-packages/sklearn/cluster/_agglomerative.py:983: FutureWarning: Attribute `affinity` was deprecated in version 1.2 and will be removed in 1.4. Use `metric` instead\n",
            "  warnings.warn(\n",
            "/usr/local/lib/python3.9/dist-packages/sklearn/cluster/_agglomerative.py:983: FutureWarning: Attribute `affinity` was deprecated in version 1.2 and will be removed in 1.4. Use `metric` instead\n",
            "  warnings.warn(\n"
          ]
        }
      ]
    },
    {
      "cell_type": "code",
      "source": [
        "Yt_1 = agg_clus.labels_\n",
        "Yt_2 = agg_clus2.labels_\n",
        "Yt_3 = agg_clus3.labels_\n",
        "Yt_4 = agg_clus4.labels_\n",
        "Yt_5 = agg_clus5.labels_\n",
        "lll = [Yt_1,Yt_2,Yt_3,Yt_4,Yt_5]\n",
        "for i in lll:\n",
        "  print(np.unique(i,return_counts=True))"
      ],
      "metadata": {
        "id": "oHpg2D1yU7BH",
        "colab": {
          "base_uri": "https://localhost:8080/"
        },
        "outputId": "c2fb0b7d-a51c-4dd2-8434-a42ad2c235c4"
      },
      "execution_count": null,
      "outputs": [
        {
          "output_type": "stream",
          "name": "stdout",
          "text": [
            "(array([0, 1]), array([939,   1]))\n",
            "(array([0, 1]), array([939,   1]))\n",
            "(array([0, 1]), array([939,   1]))\n",
            "(array([0, 1]), array([939,   1]))\n",
            "(array([0, 1]), array([939,   1]))\n"
          ]
        }
      ]
    },
    {
      "cell_type": "code",
      "source": [
        "count2 = 0\n",
        "for i in lll:\n",
        "  count2+=1\n",
        "  print(f'for cluster : {count2}')\n",
        "  print(f\"calinski_harabasz_score : {calinski_harabasz_score(test_X,i)}\")\n",
        "  print(f\"silhouette_score : {silhouette_score(test_X,i)}\")\n",
        "  print(f\"davies_bouldin_score : {davies_bouldin_score(test_X,i)}\")"
      ],
      "metadata": {
        "id": "lqHUreb3z-rv",
        "colab": {
          "base_uri": "https://localhost:8080/"
        },
        "outputId": "ff7fe211-6923-456c-de0a-f5cdfb21394c"
      },
      "execution_count": null,
      "outputs": [
        {
          "output_type": "stream",
          "name": "stdout",
          "text": [
            "for cluster : 1\n",
            "calinski_harabasz_score : 41.816109196016605\n",
            "silhouette_score : 0.8144377806728943\n",
            "davies_bouldin_score : 0.12255256773671462\n",
            "for cluster : 2\n",
            "calinski_harabasz_score : 41.816109196016605\n",
            "silhouette_score : 0.8144377806728943\n",
            "davies_bouldin_score : 0.12255256773671462\n",
            "for cluster : 3\n",
            "calinski_harabasz_score : 0.5650245953934909\n",
            "silhouette_score : -0.06896952056510466\n",
            "davies_bouldin_score : 1.0411152545919422\n",
            "for cluster : 4\n",
            "calinski_harabasz_score : 0.11725949435539632\n",
            "silhouette_score : -0.35452038520854134\n",
            "davies_bouldin_score : 2.2861069950263917\n",
            "for cluster : 5\n",
            "calinski_harabasz_score : 30.022504441965307\n",
            "silhouette_score : 0.7835470731672468\n",
            "davies_bouldin_score : 0.14400441159251787\n"
          ]
        }
      ]
    },
    {
      "cell_type": "code",
      "source": [
        "agg_clusp = AgglomerativeClustering(n_clusters=2,linkage = 'single',metric='euclidean').fit(test_X_p)\n",
        "agg_clusp2 = AgglomerativeClustering(n_clusters=2,linkage = 'single',affinity='manhattan').fit(test_X_p)\n",
        "agg_clusp3 = AgglomerativeClustering(n_clusters=2,linkage = 'single',affinity='cosine').fit(test_X_p)\n",
        "agg_clusp4 = AgglomerativeClustering(n_clusters=2,linkage = 'single',affinity='correlation').fit(test_X_p)\n",
        "agg_clusp5 = AgglomerativeClustering(n_clusters=2,linkage = 'single',affinity='chebyshev').fit(test_X_p)\n",
        "Ytp_1 = agg_clusp.labels_\n",
        "Ytp_2 = agg_clusp2.labels_\n",
        "Ytp_3 = agg_clusp3.labels_\n",
        "Ytp_4 = agg_clusp4.labels_\n",
        "Ytp_5 = agg_clusp5.labels_\n"
      ],
      "metadata": {
        "id": "PSCDmsvXU7BK",
        "colab": {
          "base_uri": "https://localhost:8080/"
        },
        "outputId": "2f3544d2-cc76-45ab-922e-a70a966a8903"
      },
      "execution_count": null,
      "outputs": [
        {
          "output_type": "stream",
          "name": "stderr",
          "text": [
            "/usr/local/lib/python3.9/dist-packages/sklearn/cluster/_agglomerative.py:983: FutureWarning: Attribute `affinity` was deprecated in version 1.2 and will be removed in 1.4. Use `metric` instead\n",
            "  warnings.warn(\n",
            "/usr/local/lib/python3.9/dist-packages/sklearn/cluster/_agglomerative.py:983: FutureWarning: Attribute `affinity` was deprecated in version 1.2 and will be removed in 1.4. Use `metric` instead\n",
            "  warnings.warn(\n",
            "/usr/local/lib/python3.9/dist-packages/sklearn/cluster/_agglomerative.py:983: FutureWarning: Attribute `affinity` was deprecated in version 1.2 and will be removed in 1.4. Use `metric` instead\n",
            "  warnings.warn(\n",
            "/usr/local/lib/python3.9/dist-packages/sklearn/cluster/_agglomerative.py:983: FutureWarning: Attribute `affinity` was deprecated in version 1.2 and will be removed in 1.4. Use `metric` instead\n",
            "  warnings.warn(\n"
          ]
        }
      ]
    },
    {
      "cell_type": "code",
      "source": [
        "llll = [Ytp_1,Ytp_2,Ytp_3,Ytp_4,Ytp_5]\n",
        "for i in llll:\n",
        "  print(np.unique(i,return_counts=True))"
      ],
      "metadata": {
        "id": "lhIby-cZ0Y2f",
        "colab": {
          "base_uri": "https://localhost:8080/"
        },
        "outputId": "5fbd8306-3ae9-4d55-aadc-5d80a2afa693"
      },
      "execution_count": null,
      "outputs": [
        {
          "output_type": "stream",
          "name": "stdout",
          "text": [
            "(array([0, 1]), array([939,   1]))\n",
            "(array([0, 1]), array([939,   1]))\n",
            "(array([0, 1]), array([939,   1]))\n",
            "(array([0, 1]), array([939,   1]))\n",
            "(array([0, 1]), array([939,   1]))\n"
          ]
        }
      ]
    },
    {
      "cell_type": "code",
      "source": [
        "count3 = 0\n",
        "for i in llll:\n",
        "  count3+=1\n",
        "  print(f'for cluster : {count3}')\n",
        "  print(f\"calinski_harabasz_score : {calinski_harabasz_score(test_X_p,i)}\")\n",
        "  print(f\"silhouette_score : {silhouette_score(test_X_p,i)}\")\n",
        "  print(f\"davies_bouldin_score : {davies_bouldin_score(test_X_p,i)}\")"
      ],
      "metadata": {
        "id": "kJumGu1D0bDb",
        "colab": {
          "base_uri": "https://localhost:8080/"
        },
        "outputId": "5ccc1897-159e-45dd-ab63-d020bd7d67d2"
      },
      "execution_count": null,
      "outputs": [
        {
          "output_type": "stream",
          "name": "stdout",
          "text": [
            "for cluster : 1\n",
            "calinski_harabasz_score : 46.45949825726755\n",
            "silhouette_score : 0.8255331970603988\n",
            "davies_bouldin_score : 0.11487810890569611\n",
            "for cluster : 2\n",
            "calinski_harabasz_score : 46.45949825726755\n",
            "silhouette_score : 0.8255331970603988\n",
            "davies_bouldin_score : 0.11487810890569611\n",
            "for cluster : 3\n",
            "calinski_harabasz_score : 0.7172698936309798\n",
            "silhouette_score : 0.012098686560669668\n",
            "davies_bouldin_score : 0.9116756014286683\n",
            "for cluster : 4\n",
            "calinski_harabasz_score : 0.7172698936309798\n",
            "silhouette_score : 0.012098686560669668\n",
            "davies_bouldin_score : 0.9116756014286683\n",
            "for cluster : 5\n",
            "calinski_harabasz_score : 36.96297012921366\n",
            "silhouette_score : 0.8059438335930682\n",
            "davies_bouldin_score : 0.12835577985464325\n"
          ]
        }
      ]
    },
    {
      "cell_type": "code",
      "source": [
        "#evaluating on the testing data"
      ],
      "metadata": {
        "id": "MUBoUpAmhLnd"
      },
      "execution_count": null,
      "outputs": []
    },
    {
      "cell_type": "code",
      "source": [],
      "metadata": {
        "id": "pyn-9jIshLcV"
      },
      "execution_count": null,
      "outputs": []
    },
    {
      "cell_type": "code",
      "source": [
        "from sklearn.metrics.cluster import adjusted_mutual_info_score"
      ],
      "metadata": {
        "id": "JRIdzSu1Yiv0"
      },
      "execution_count": null,
      "outputs": []
    },
    {
      "cell_type": "code",
      "source": [
        "test_Y"
      ],
      "metadata": {
        "id": "07jlNn_6ZPh0",
        "colab": {
          "base_uri": "https://localhost:8080/"
        },
        "outputId": "5da28366-2def-46ba-c5d1-1f9969266c7b"
      },
      "execution_count": null,
      "outputs": [
        {
          "output_type": "execute_result",
          "data": {
            "text/plain": [
              "0      0\n",
              "1      0\n",
              "2      1\n",
              "3      1\n",
              "4      0\n",
              "      ..\n",
              "987    1\n",
              "988    1\n",
              "989    0\n",
              "990    0\n",
              "991    0\n",
              "Name: Classification, Length: 940, dtype: int64"
            ]
          },
          "metadata": {},
          "execution_count": 46
        }
      ]
    },
    {
      "cell_type": "code",
      "source": [
        "adjusted_mutual_info_score(test_Y,Yt_1)"
      ],
      "metadata": {
        "id": "MagONBEqYswJ",
        "colab": {
          "base_uri": "https://localhost:8080/"
        },
        "outputId": "52eb9ad9-7c19-48b5-b8bb-8a93f90136b2"
      },
      "execution_count": null,
      "outputs": [
        {
          "output_type": "execute_result",
          "data": {
            "text/plain": [
              "-0.0001478403830191658"
            ]
          },
          "metadata": {},
          "execution_count": 47
        }
      ]
    },
    {
      "cell_type": "code",
      "source": [
        "adjusted_mutual_info_score(test_Y,Yt_2)"
      ],
      "metadata": {
        "id": "pCjWVvXwZpEQ",
        "colab": {
          "base_uri": "https://localhost:8080/"
        },
        "outputId": "ef56d3f8-0d6e-42b3-cfa5-36459b0f46ed"
      },
      "execution_count": null,
      "outputs": [
        {
          "output_type": "execute_result",
          "data": {
            "text/plain": [
              "-0.0001478403830191658"
            ]
          },
          "metadata": {},
          "execution_count": 48
        }
      ]
    },
    {
      "cell_type": "code",
      "source": [
        "adjusted_mutual_info_score(test_Y,Yt_3)"
      ],
      "metadata": {
        "id": "rA64OiBjZrxu",
        "colab": {
          "base_uri": "https://localhost:8080/"
        },
        "outputId": "f2332919-fbcd-4916-d0f1-ea836e625909"
      },
      "execution_count": null,
      "outputs": [
        {
          "output_type": "execute_result",
          "data": {
            "text/plain": [
              "0.00016375145562299589"
            ]
          },
          "metadata": {},
          "execution_count": 49
        }
      ]
    },
    {
      "cell_type": "code",
      "source": [
        "adjusted_mutual_info_score(test_Y,Yt_4)"
      ],
      "metadata": {
        "id": "HwUiMkjbZsMb",
        "colab": {
          "base_uri": "https://localhost:8080/"
        },
        "outputId": "9a5f5d9e-9fe6-4994-e6c1-49b271729ab6"
      },
      "execution_count": null,
      "outputs": [
        {
          "output_type": "execute_result",
          "data": {
            "text/plain": [
              "0.00016375145562299589"
            ]
          },
          "metadata": {},
          "execution_count": 50
        }
      ]
    },
    {
      "cell_type": "code",
      "source": [
        "adjusted_mutual_info_score(test_Y,Yt_5)"
      ],
      "metadata": {
        "id": "5U5dwECrZsuK",
        "colab": {
          "base_uri": "https://localhost:8080/"
        },
        "outputId": "9d652edb-1616-4e3b-ccc1-90de4cb666ca"
      },
      "execution_count": null,
      "outputs": [
        {
          "output_type": "execute_result",
          "data": {
            "text/plain": [
              "-0.0001478403830191658"
            ]
          },
          "metadata": {},
          "execution_count": 51
        }
      ]
    },
    {
      "cell_type": "code",
      "source": [
        "adjusted_mutual_info_score(test_Y,Ytp_1)"
      ],
      "metadata": {
        "id": "NpVXs9rBZ0dy",
        "colab": {
          "base_uri": "https://localhost:8080/"
        },
        "outputId": "8a57617b-f7c0-4a5d-f02f-89fc716849ca"
      },
      "execution_count": null,
      "outputs": [
        {
          "output_type": "execute_result",
          "data": {
            "text/plain": [
              "-0.0001478403830191658"
            ]
          },
          "metadata": {},
          "execution_count": 52
        }
      ]
    },
    {
      "cell_type": "code",
      "source": [
        "adjusted_mutual_info_score(test_Y,Ytp_2)"
      ],
      "metadata": {
        "id": "swixWzCBZ109",
        "colab": {
          "base_uri": "https://localhost:8080/"
        },
        "outputId": "7c95a751-a838-41f8-8a07-010ccb16e142"
      },
      "execution_count": null,
      "outputs": [
        {
          "output_type": "execute_result",
          "data": {
            "text/plain": [
              "-0.0001478403830191658"
            ]
          },
          "metadata": {},
          "execution_count": 53
        }
      ]
    },
    {
      "cell_type": "code",
      "source": [
        "adjusted_mutual_info_score(test_Y,Ytp_3)"
      ],
      "metadata": {
        "id": "2_tUbkVGZ2X-",
        "colab": {
          "base_uri": "https://localhost:8080/"
        },
        "outputId": "320d2570-63e3-4284-eae0-268568958cb5"
      },
      "execution_count": null,
      "outputs": [
        {
          "output_type": "execute_result",
          "data": {
            "text/plain": [
              "0.00016375145562299589"
            ]
          },
          "metadata": {},
          "execution_count": 54
        }
      ]
    },
    {
      "cell_type": "code",
      "source": [
        "adjusted_mutual_info_score(test_Y,Ytp_4)"
      ],
      "metadata": {
        "id": "Z1St6hLNZ28w",
        "colab": {
          "base_uri": "https://localhost:8080/"
        },
        "outputId": "114616e2-fe2b-40a7-803f-df32cf874be7"
      },
      "execution_count": null,
      "outputs": [
        {
          "output_type": "execute_result",
          "data": {
            "text/plain": [
              "0.00016375145562299589"
            ]
          },
          "metadata": {},
          "execution_count": 55
        }
      ]
    },
    {
      "cell_type": "code",
      "source": [
        "adjusted_mutual_info_score(test_Y,Ytp_5)"
      ],
      "metadata": {
        "id": "mPEnxSzBZ3et",
        "colab": {
          "base_uri": "https://localhost:8080/"
        },
        "outputId": "2384d869-44d1-4dca-86d3-f6438e12e672"
      },
      "execution_count": null,
      "outputs": [
        {
          "output_type": "execute_result",
          "data": {
            "text/plain": [
              "-0.0001478403830191658"
            ]
          },
          "metadata": {},
          "execution_count": 56
        }
      ]
    },
    {
      "cell_type": "code",
      "execution_count": null,
      "metadata": {
        "id": "4UDDp1b21Dl4",
        "colab": {
          "base_uri": "https://localhost:8080/"
        },
        "outputId": "54667236-c227-4e95-c5f8-e076288bdb41"
      },
      "outputs": [
        {
          "output_type": "execute_result",
          "data": {
            "text/plain": [
              "aa                  2\n",
              "aaaaaaaaaaaaaaaa    1\n",
              "aaaaand             1\n",
              "aaaah               1\n",
              "aaaand              1\n",
              "                   ..\n",
              "zooxanthellae       1\n",
              "zurich              1\n",
              "zv                  1\n",
              "zyrtec              1\n",
              "zz                  1\n",
              "Length: 14583, dtype: int64"
            ]
          },
          "metadata": {},
          "execution_count": 57
        }
      ],
      "source": [
        "np.sum(X_disp4==1)"
      ]
    },
    {
      "cell_type": "code",
      "execution_count": null,
      "metadata": {
        "id": "upc-G_Yw1g7m",
        "colab": {
          "base_uri": "https://localhost:8080/"
        },
        "outputId": "c27e9806-e2c7-4595-fcfb-a9163f7ef9ba"
      },
      "outputs": [
        {
          "output_type": "stream",
          "name": "stdout",
          "text": [
            "<class 'pandas.core.frame.DataFrame'>\n",
            "Int64Index: 9885 entries, 0 to 9999\n",
            "Columns: 14583 entries, aa to zz\n",
            "dtypes: int64(14583)\n",
            "memory usage: 1.1 GB\n"
          ]
        }
      ],
      "source": [
        "X_disp4.info()"
      ]
    },
    {
      "cell_type": "code",
      "source": [
        "#@title After vectorization, X_disp4 is a 14456 dimension dataset. Therefore, we need to reduce the dimension to reduce the complexity. We performed PCA and reduced the dimension to 1500.\n"
      ],
      "metadata": {
        "id": "ECn67tDgccqe"
      },
      "execution_count": null,
      "outputs": []
    },
    {
      "cell_type": "code",
      "execution_count": null,
      "metadata": {
        "id": "38oPC9rhH5RG"
      },
      "outputs": [],
      "source": [
        "X_disp4_056 = PCA(n_components=1500).fit_transform(X_disp4)"
      ]
    },
    {
      "cell_type": "code",
      "execution_count": null,
      "metadata": {
        "id": "vHOtChP53Yfv",
        "colab": {
          "base_uri": "https://localhost:8080/"
        },
        "outputId": "1e341638-a075-4140-e049-84776c1780af"
      },
      "outputs": [
        {
          "output_type": "execute_result",
          "data": {
            "text/plain": [
              "array([[-2.78812614e-01,  3.24345063e-03, -3.66118991e-02, ...,\n",
              "        -8.84189843e-03,  8.09674786e-03, -1.60412421e-03],\n",
              "       [-4.25046515e-01,  5.91301584e-02, -1.80728659e-01, ...,\n",
              "        -1.98597689e-03, -9.53455556e-04, -2.09387553e-03],\n",
              "       [-2.59818930e-01, -1.19935062e-02, -6.97608047e-03, ...,\n",
              "         1.03984412e-01, -2.61298498e-02,  3.48074256e-02],\n",
              "       ...,\n",
              "       [ 8.29597934e-02, -7.72568436e-01,  1.54375218e+00, ...,\n",
              "         4.09233308e-03,  2.05939544e-02, -1.07592322e-01],\n",
              "       [-2.62441309e-01, -1.16770895e-03, -6.22617375e-02, ...,\n",
              "        -3.49136899e-02,  4.09143823e-02, -5.29620091e-02],\n",
              "       [ 3.76235133e-02, -8.18863972e-02,  2.04227120e-01, ...,\n",
              "        -1.37635562e-01, -7.13300985e-02, -6.34867029e-02]])"
            ]
          },
          "metadata": {},
          "execution_count": 61
        }
      ],
      "source": [
        "X_disp4_056"
      ]
    },
    {
      "cell_type": "code",
      "source": [
        "#@title We performed K-means clustering using scipy library kmeans"
      ],
      "metadata": {
        "id": "kc_FvnQ3dbmO"
      },
      "execution_count": null,
      "outputs": []
    },
    {
      "cell_type": "code",
      "execution_count": null,
      "metadata": {
        "id": "J0t-iUGc4LnQ"
      },
      "outputs": [],
      "source": [
        "centroids, distortion = kmeans(X_disp4_056, 2)\n",
        "# Assign each data point to its closest centroid\n",
        "labels, _ = vq(X_disp4_056, centroids)"
      ]
    },
    {
      "cell_type": "code",
      "execution_count": null,
      "metadata": {
        "id": "-1nU-I5YzM5P",
        "colab": {
          "base_uri": "https://localhost:8080/"
        },
        "outputId": "a9122807-98fb-4bdc-e40d-476fa66d1049"
      },
      "outputs": [
        {
          "output_type": "execute_result",
          "data": {
            "text/plain": [
              "(9885, 1500)"
            ]
          },
          "metadata": {},
          "execution_count": 64
        }
      ],
      "source": [
        "X_disp4_056.shape"
      ]
    },
    {
      "cell_type": "code",
      "execution_count": null,
      "metadata": {
        "id": "qBis-GMA0OUD",
        "colab": {
          "base_uri": "https://localhost:8080/"
        },
        "outputId": "ba01c1cc-eb25-4939-8c5a-fb596ea787d1"
      },
      "outputs": [
        {
          "output_type": "execute_result",
          "data": {
            "text/plain": [
              "(2, 1500)"
            ]
          },
          "metadata": {},
          "execution_count": 65
        }
      ],
      "source": [
        "centroids.shape"
      ]
    },
    {
      "cell_type": "code",
      "execution_count": null,
      "metadata": {
        "id": "SstB34Mt4l_c",
        "colab": {
          "base_uri": "https://localhost:8080/"
        },
        "outputId": "0d50e737-b03a-47f4-fd10-8f86096931ff"
      },
      "outputs": [
        {
          "output_type": "stream",
          "name": "stdout",
          "text": [
            "543\n",
            "9342\n"
          ]
        }
      ],
      "source": [
        "print(np.sum(labels==0))\n",
        "print(np.sum(labels==1))"
      ]
    },
    {
      "cell_type": "code",
      "source": [
        "#@title We varied the 'thresh' hyper-parameter provided in scipy kmeans"
      ],
      "metadata": {
        "cellView": "form",
        "id": "ShDPnTnPd16b"
      },
      "execution_count": null,
      "outputs": []
    },
    {
      "cell_type": "code",
      "execution_count": null,
      "metadata": {
        "id": "RzgqMIcO0KD_",
        "colab": {
          "base_uri": "https://localhost:8080/"
        },
        "outputId": "124e82dc-6523-4dff-9be3-8a6343903319"
      },
      "outputs": [
        {
          "output_type": "stream",
          "name": "stdout",
          "text": [
            "Number of elements asigned to each cluster: [ 457 9428]\n",
            "Number of elements asigned to each cluster: [ 767 9118]\n",
            "Number of elements asigned to each cluster: [9114  771]\n",
            "Number of elements asigned to each cluster: [ 475 9410]\n",
            "Number of elements asigned to each cluster: [ 465 9420]\n",
            "Number of elements asigned to each cluster: [ 601 9284]\n",
            "Number of elements asigned to each cluster: [ 593 9292]\n",
            "Number of elements asigned to each cluster: [9404  481]\n",
            "Number of elements asigned to each cluster: [ 582 9303]\n",
            "Number of elements asigned to each cluster: [9373  512]\n"
          ]
        }
      ],
      "source": [
        "import math\n",
        "Y_disp=[]\n",
        "clust_size=[]\n",
        "for thresh in range(10):\n",
        "    thresh=math.exp(-1*thresh)\n",
        "    centroids, distortion = kmeans(X_disp4_056, 2, thresh=thresh)\n",
        "    labels, _ = vq(X_disp4_056, centroids)\n",
        "    cluster_ids, cluster_sizes = np.unique(labels, return_counts=True)\n",
        "    Y_disp.append(labels)\n",
        "    clust_size.append(cluster_sizes)\n",
        "    print(f\"Number of elements asigned to each cluster: {cluster_sizes}\")\n",
        "    "
      ]
    },
    {
      "cell_type": "code",
      "source": [
        "print(labels)"
      ],
      "metadata": {
        "colab": {
          "base_uri": "https://localhost:8080/"
        },
        "id": "0Gv1D0fmZdot",
        "outputId": "82731b79-e015-41e5-b218-cc9f0b09314b"
      },
      "execution_count": null,
      "outputs": [
        {
          "output_type": "stream",
          "name": "stdout",
          "text": [
            "[0 0 0 ... 0 0 0]\n"
          ]
        }
      ]
    },
    {
      "cell_type": "code",
      "execution_count": null,
      "metadata": {
        "id": "ucnZksNJ7GaT",
        "colab": {
          "base_uri": "https://localhost:8080/"
        },
        "outputId": "80eb5a19-3136-42a2-b0b4-cc96fce11677"
      },
      "outputs": [
        {
          "output_type": "execute_result",
          "data": {
            "text/plain": [
              "  Threshold  Cluster sizes  calinski_harabasz_score  silhouette_score  \\\n",
              "0    exp(-0)   [457, 9428]               607.145883          0.563222   \n",
              "1    exp(-1)   [767, 9118]               555.362993          0.477529   \n",
              "2    exp(-2)   [9114, 771]               554.502135          0.476916   \n",
              "3    exp(-3)   [475, 9410]               603.669856          0.558651   \n",
              "4    exp(-4)   [465, 9420]               605.660486          0.561976   \n",
              "5    exp(-5)   [601, 9284]               579.389344          0.522051   \n",
              "6    exp(-6)   [593, 9292]               580.729307          0.524119   \n",
              "7    exp(-7)   [9404, 481]               602.461232          0.556980   \n",
              "8    exp(-8)   [582, 9303]               582.582730          0.527028   \n",
              "9    exp(-9)   [9373, 512]               595.929838          0.550204   \n",
              "\n",
              "   davies_bouldin_score  \n",
              "0              2.420550  \n",
              "1              2.791626  \n",
              "2              2.798022  \n",
              "3              2.453622  \n",
              "4              2.439460  \n",
              "5              2.628084  \n",
              "6              2.617621  \n",
              "7              2.463680  \n",
              "8              2.603295  \n",
              "9              2.523816  "
            ],
            "text/html": [
              "\n",
              "  <div id=\"df-b766d820-dcf8-4f1f-8316-f0a5b3e45c5d\">\n",
              "    <div class=\"colab-df-container\">\n",
              "      <div>\n",
              "<style scoped>\n",
              "    .dataframe tbody tr th:only-of-type {\n",
              "        vertical-align: middle;\n",
              "    }\n",
              "\n",
              "    .dataframe tbody tr th {\n",
              "        vertical-align: top;\n",
              "    }\n",
              "\n",
              "    .dataframe thead th {\n",
              "        text-align: right;\n",
              "    }\n",
              "</style>\n",
              "<table border=\"1\" class=\"dataframe\">\n",
              "  <thead>\n",
              "    <tr style=\"text-align: right;\">\n",
              "      <th></th>\n",
              "      <th>Threshold</th>\n",
              "      <th>Cluster sizes</th>\n",
              "      <th>calinski_harabasz_score</th>\n",
              "      <th>silhouette_score</th>\n",
              "      <th>davies_bouldin_score</th>\n",
              "    </tr>\n",
              "  </thead>\n",
              "  <tbody>\n",
              "    <tr>\n",
              "      <th>0</th>\n",
              "      <td>exp(-0)</td>\n",
              "      <td>[457, 9428]</td>\n",
              "      <td>607.145883</td>\n",
              "      <td>0.563222</td>\n",
              "      <td>2.420550</td>\n",
              "    </tr>\n",
              "    <tr>\n",
              "      <th>1</th>\n",
              "      <td>exp(-1)</td>\n",
              "      <td>[767, 9118]</td>\n",
              "      <td>555.362993</td>\n",
              "      <td>0.477529</td>\n",
              "      <td>2.791626</td>\n",
              "    </tr>\n",
              "    <tr>\n",
              "      <th>2</th>\n",
              "      <td>exp(-2)</td>\n",
              "      <td>[9114, 771]</td>\n",
              "      <td>554.502135</td>\n",
              "      <td>0.476916</td>\n",
              "      <td>2.798022</td>\n",
              "    </tr>\n",
              "    <tr>\n",
              "      <th>3</th>\n",
              "      <td>exp(-3)</td>\n",
              "      <td>[475, 9410]</td>\n",
              "      <td>603.669856</td>\n",
              "      <td>0.558651</td>\n",
              "      <td>2.453622</td>\n",
              "    </tr>\n",
              "    <tr>\n",
              "      <th>4</th>\n",
              "      <td>exp(-4)</td>\n",
              "      <td>[465, 9420]</td>\n",
              "      <td>605.660486</td>\n",
              "      <td>0.561976</td>\n",
              "      <td>2.439460</td>\n",
              "    </tr>\n",
              "    <tr>\n",
              "      <th>5</th>\n",
              "      <td>exp(-5)</td>\n",
              "      <td>[601, 9284]</td>\n",
              "      <td>579.389344</td>\n",
              "      <td>0.522051</td>\n",
              "      <td>2.628084</td>\n",
              "    </tr>\n",
              "    <tr>\n",
              "      <th>6</th>\n",
              "      <td>exp(-6)</td>\n",
              "      <td>[593, 9292]</td>\n",
              "      <td>580.729307</td>\n",
              "      <td>0.524119</td>\n",
              "      <td>2.617621</td>\n",
              "    </tr>\n",
              "    <tr>\n",
              "      <th>7</th>\n",
              "      <td>exp(-7)</td>\n",
              "      <td>[9404, 481]</td>\n",
              "      <td>602.461232</td>\n",
              "      <td>0.556980</td>\n",
              "      <td>2.463680</td>\n",
              "    </tr>\n",
              "    <tr>\n",
              "      <th>8</th>\n",
              "      <td>exp(-8)</td>\n",
              "      <td>[582, 9303]</td>\n",
              "      <td>582.582730</td>\n",
              "      <td>0.527028</td>\n",
              "      <td>2.603295</td>\n",
              "    </tr>\n",
              "    <tr>\n",
              "      <th>9</th>\n",
              "      <td>exp(-9)</td>\n",
              "      <td>[9373, 512]</td>\n",
              "      <td>595.929838</td>\n",
              "      <td>0.550204</td>\n",
              "      <td>2.523816</td>\n",
              "    </tr>\n",
              "  </tbody>\n",
              "</table>\n",
              "</div>\n",
              "      <button class=\"colab-df-convert\" onclick=\"convertToInteractive('df-b766d820-dcf8-4f1f-8316-f0a5b3e45c5d')\"\n",
              "              title=\"Convert this dataframe to an interactive table.\"\n",
              "              style=\"display:none;\">\n",
              "        \n",
              "  <svg xmlns=\"http://www.w3.org/2000/svg\" height=\"24px\"viewBox=\"0 0 24 24\"\n",
              "       width=\"24px\">\n",
              "    <path d=\"M0 0h24v24H0V0z\" fill=\"none\"/>\n",
              "    <path d=\"M18.56 5.44l.94 2.06.94-2.06 2.06-.94-2.06-.94-.94-2.06-.94 2.06-2.06.94zm-11 1L8.5 8.5l.94-2.06 2.06-.94-2.06-.94L8.5 2.5l-.94 2.06-2.06.94zm10 10l.94 2.06.94-2.06 2.06-.94-2.06-.94-.94-2.06-.94 2.06-2.06.94z\"/><path d=\"M17.41 7.96l-1.37-1.37c-.4-.4-.92-.59-1.43-.59-.52 0-1.04.2-1.43.59L10.3 9.45l-7.72 7.72c-.78.78-.78 2.05 0 2.83L4 21.41c.39.39.9.59 1.41.59.51 0 1.02-.2 1.41-.59l7.78-7.78 2.81-2.81c.8-.78.8-2.07 0-2.86zM5.41 20L4 18.59l7.72-7.72 1.47 1.35L5.41 20z\"/>\n",
              "  </svg>\n",
              "      </button>\n",
              "      \n",
              "  <style>\n",
              "    .colab-df-container {\n",
              "      display:flex;\n",
              "      flex-wrap:wrap;\n",
              "      gap: 12px;\n",
              "    }\n",
              "\n",
              "    .colab-df-convert {\n",
              "      background-color: #E8F0FE;\n",
              "      border: none;\n",
              "      border-radius: 50%;\n",
              "      cursor: pointer;\n",
              "      display: none;\n",
              "      fill: #1967D2;\n",
              "      height: 32px;\n",
              "      padding: 0 0 0 0;\n",
              "      width: 32px;\n",
              "    }\n",
              "\n",
              "    .colab-df-convert:hover {\n",
              "      background-color: #E2EBFA;\n",
              "      box-shadow: 0px 1px 2px rgba(60, 64, 67, 0.3), 0px 1px 3px 1px rgba(60, 64, 67, 0.15);\n",
              "      fill: #174EA6;\n",
              "    }\n",
              "\n",
              "    [theme=dark] .colab-df-convert {\n",
              "      background-color: #3B4455;\n",
              "      fill: #D2E3FC;\n",
              "    }\n",
              "\n",
              "    [theme=dark] .colab-df-convert:hover {\n",
              "      background-color: #434B5C;\n",
              "      box-shadow: 0px 1px 3px 1px rgba(0, 0, 0, 0.15);\n",
              "      filter: drop-shadow(0px 1px 2px rgba(0, 0, 0, 0.3));\n",
              "      fill: #FFFFFF;\n",
              "    }\n",
              "  </style>\n",
              "\n",
              "      <script>\n",
              "        const buttonEl =\n",
              "          document.querySelector('#df-b766d820-dcf8-4f1f-8316-f0a5b3e45c5d button.colab-df-convert');\n",
              "        buttonEl.style.display =\n",
              "          google.colab.kernel.accessAllowed ? 'block' : 'none';\n",
              "\n",
              "        async function convertToInteractive(key) {\n",
              "          const element = document.querySelector('#df-b766d820-dcf8-4f1f-8316-f0a5b3e45c5d');\n",
              "          const dataTable =\n",
              "            await google.colab.kernel.invokeFunction('convertToInteractive',\n",
              "                                                     [key], {});\n",
              "          if (!dataTable) return;\n",
              "\n",
              "          const docLinkHtml = 'Like what you see? Visit the ' +\n",
              "            '<a target=\"_blank\" href=https://colab.research.google.com/notebooks/data_table.ipynb>data table notebook</a>'\n",
              "            + ' to learn more about interactive tables.';\n",
              "          element.innerHTML = '';\n",
              "          dataTable['output_type'] = 'display_data';\n",
              "          await google.colab.output.renderOutput(dataTable, element);\n",
              "          const docLink = document.createElement('div');\n",
              "          docLink.innerHTML = docLinkHtml;\n",
              "          element.appendChild(docLink);\n",
              "        }\n",
              "      </script>\n",
              "    </div>\n",
              "  </div>\n",
              "  "
            ]
          },
          "metadata": {},
          "execution_count": 70
        }
      ],
      "source": [
        "ch_score=[]\n",
        "sil_score=[]\n",
        "db_score=[]\n",
        "for seed in range(10):\n",
        "    ch_score.append(calinski_harabasz_score(X_disp4_056,Y_disp[seed]))\n",
        "    sil_score.append(silhouette_score(X_disp4_056,Y_disp[seed]))\n",
        "    db_score.append(davies_bouldin_score(X_disp4_056,Y_disp[seed]))\n",
        "\n",
        "k_mean_dict={\"Threshold \":[f\"exp(-{seed})\" for seed in range(10)],\"Cluster sizes\":clust_size,\n",
        "             \"calinski_harabasz_score\":ch_score,\"silhouette_score\":sil_score,\"davies_bouldin_score\":db_score} \n",
        "pd.DataFrame(k_mean_dict)                "
      ]
    },
    {
      "cell_type": "code",
      "source": [
        "#@title Testing"
      ],
      "metadata": {
        "id": "hv50qTFneCYw"
      },
      "execution_count": null,
      "outputs": []
    },
    {
      "cell_type": "code",
      "source": [
        "#@title We manually labelled some samples for testing our model"
      ],
      "metadata": {
        "id": "ZBeyO6nCeMqY"
      },
      "execution_count": null,
      "outputs": []
    },
    {
      "cell_type": "code",
      "execution_count": null,
      "metadata": {
        "id": "i1mxKqZZUh4B"
      },
      "outputs": [],
      "source": [
        "test_data = pd.read_excel('/content/drive/MyDrive/PRML LABs/PRML Minor Project/processed_batch (1).xlsx')"
      ]
    },
    {
      "cell_type": "code",
      "execution_count": null,
      "metadata": {
        "id": "9kF9bjuuXYHG",
        "colab": {
          "base_uri": "https://localhost:8080/"
        },
        "outputId": "7fda3c36-97e0-45af-b098-eb674c591c4c"
      },
      "outputs": [
        {
          "output_type": "stream",
          "name": "stdout",
          "text": [
            "<class 'pandas.core.frame.DataFrame'>\n",
            "RangeIndex: 2948 entries, 0 to 2947\n",
            "Data columns (total 11 columns):\n",
            " #   Column               Non-Null Count  Dtype \n",
            "---  ------               --------------  ----- \n",
            " 0   Comment (Displayed)  2948 non-null   object\n",
            " 1   Unnamed: 1           123 non-null    object\n",
            " 2   Unnamed: 2           53 non-null     object\n",
            " 3   Unnamed: 3           19 non-null     object\n",
            " 4   Unnamed: 4           11 non-null     object\n",
            " 5   Unnamed: 5           6 non-null      object\n",
            " 6   Unnamed: 6           3 non-null      object\n",
            " 7   Unnamed: 7           2 non-null      object\n",
            " 8   Unnamed: 8           1 non-null      object\n",
            " 9   Unnamed: 9           1 non-null      object\n",
            " 10  Classification       2948 non-null   int64 \n",
            "dtypes: int64(1), object(10)\n",
            "memory usage: 253.5+ KB\n"
          ]
        }
      ],
      "source": [
        "test_data.info()"
      ]
    },
    {
      "cell_type": "code",
      "execution_count": null,
      "metadata": {
        "id": "hX26hf8OXc2N",
        "colab": {
          "base_uri": "https://localhost:8080/"
        },
        "outputId": "2cd83429-2aec-493b-c645-3a2ba28f67e8"
      },
      "outputs": [
        {
          "output_type": "execute_result",
          "data": {
            "text/plain": [
              "Comment (Displayed)       0\n",
              "Unnamed: 1             2825\n",
              "Unnamed: 2             2895\n",
              "Unnamed: 3             2929\n",
              "Unnamed: 4             2937\n",
              "Unnamed: 5             2942\n",
              "Unnamed: 6             2945\n",
              "Unnamed: 7             2946\n",
              "Unnamed: 8             2947\n",
              "Unnamed: 9             2947\n",
              "Classification            0\n",
              "dtype: int64"
            ]
          },
          "metadata": {},
          "execution_count": 75
        }
      ],
      "source": [
        "np.sum(pd.isnull(test_data))"
      ]
    },
    {
      "cell_type": "code",
      "source": [
        "#@title Similarly as in training, we performed NLP and vectorization on testing data features."
      ],
      "metadata": {
        "id": "BaD7q1lBecdu"
      },
      "execution_count": null,
      "outputs": []
    },
    {
      "cell_type": "code",
      "execution_count": null,
      "metadata": {
        "id": "-Y5s2t6bnF4Y"
      },
      "outputs": [],
      "source": [
        "# test_disp=test_data['CONTENT']\n",
        "# test_data_y=test_data['\n",
        "# ']\n",
        "test_data = test_data[[\"Comment (Displayed)\",\"Classification\"]]\n",
        "test_data_y= test_data[\"Classification\"]\n",
        "test_disp = test_data[\"Comment (Displayed)\"]"
      ]
    },
    {
      "cell_type": "code",
      "execution_count": null,
      "metadata": {
        "id": "PR_-SJoeYDy6"
      },
      "outputs": [],
      "source": [
        "corpus = []\n",
        "for i in range(0, test_disp.shape[0]):\n",
        "  review = re.sub('[^a-zA-Z]', ' ', test_disp.iloc[i])\n",
        "  review = review.lower()\n",
        "  review = review.split()\n",
        "  wnl = WordNetLemmatizer()\n",
        "  all_stopwords = stopwords.words('english')\n",
        "  all_stopwords.remove('not')\n",
        "  review = [wnl.lemmatize(word) for word in review if not word in set(all_stopwords)]\n",
        "  review = ' '.join(review)\n",
        "  corpus.append(review)\n",
        "test_disp1 = np.array(corpus)"
      ]
    },
    {
      "cell_type": "code",
      "execution_count": null,
      "metadata": {
        "id": "BjUapX3nYs60",
        "colab": {
          "base_uri": "https://localhost:8080/"
        },
        "outputId": "157938a5-fe57-4cab-e710-54eaacb2afe8"
      },
      "outputs": [
        {
          "output_type": "execute_result",
          "data": {
            "text/plain": [
              "(2948,)"
            ]
          },
          "metadata": {},
          "execution_count": 79
        }
      ],
      "source": [
        "test_disp1.shape"
      ]
    },
    {
      "cell_type": "code",
      "execution_count": null,
      "metadata": {
        "id": "CTDn2SWAYxSf",
        "colab": {
          "base_uri": "https://localhost:8080/"
        },
        "outputId": "d3c22cca-47f7-4466-b6d7-3e42d55ebf62"
      },
      "outputs": [
        {
          "output_type": "execute_result",
          "data": {
            "text/plain": [
              "array(['zombie spider bomb damn lab',\n",
              "       'way le cool seems spider actually muscle extension leg hydraulically controlled force grabbing thing rubber band like action dead muscle also dead grab weak main reason lift stuff little claw hook thing',\n",
              "       'spider see made terrifying go poking panic button', ..., 'wow',\n",
              "       'shakira u wiredo', 'shakira best dancer'], dtype='<U2679')"
            ]
          },
          "metadata": {},
          "execution_count": 80
        }
      ],
      "source": [
        "test_disp1"
      ]
    },
    {
      "cell_type": "code",
      "execution_count": null,
      "metadata": {
        "id": "xuIPNI3SY4wY"
      },
      "outputs": [],
      "source": [
        "test_disp2 = vectorizer.transform(test_disp1)\n",
        "features = vectorizer.get_feature_names_out()\n",
        "test_disp2 = pd.DataFrame(test_disp2.toarray(),columns = features)"
      ]
    },
    {
      "cell_type": "code",
      "execution_count": null,
      "metadata": {
        "id": "SoykB6qkp70l",
        "colab": {
          "base_uri": "https://localhost:8080/"
        },
        "outputId": "da49f916-258b-4cb4-ad67-aa2f9f169e02"
      },
      "outputs": [
        {
          "output_type": "execute_result",
          "data": {
            "text/plain": [
              "(2948, 14583)"
            ]
          },
          "metadata": {},
          "execution_count": 82
        }
      ],
      "source": [
        "test_disp2.shape"
      ]
    },
    {
      "cell_type": "code",
      "execution_count": null,
      "metadata": {
        "id": "CJ5wt321owQ9",
        "colab": {
          "base_uri": "https://localhost:8080/"
        },
        "outputId": "08a16708-5ab6-49b2-e73c-ef7deca2f99d"
      },
      "outputs": [
        {
          "output_type": "stream",
          "name": "stdout",
          "text": [
            "<class 'pandas.core.frame.DataFrame'>\n",
            "RangeIndex: 2948 entries, 0 to 2947\n",
            "Columns: 14583 entries, aa to zz\n",
            "dtypes: int64(14583)\n",
            "memory usage: 328.0 MB\n"
          ]
        }
      ],
      "source": [
        "test_disp2.info()"
      ]
    },
    {
      "cell_type": "code",
      "source": [
        "#@title Performed PCA on testing features to make the no. of features equal of both training and testing features."
      ],
      "metadata": {
        "id": "Ks4Fl5Xme35x"
      },
      "execution_count": null,
      "outputs": []
    },
    {
      "cell_type": "code",
      "execution_count": null,
      "metadata": {
        "id": "KRhaXhJCZIk_"
      },
      "outputs": [],
      "source": [
        "pca = PCA(n_components=1500)\n",
        "test_disp2_pca = pca.fit_transform(test_disp2)"
      ]
    },
    {
      "cell_type": "code",
      "execution_count": null,
      "metadata": {
        "id": "4K4VEsfNpHOe",
        "colab": {
          "base_uri": "https://localhost:8080/"
        },
        "outputId": "12b4f7a7-5923-43bd-bb37-a661e601d7a9"
      },
      "outputs": [
        {
          "output_type": "execute_result",
          "data": {
            "text/plain": [
              "(2948, 1500)"
            ]
          },
          "metadata": {},
          "execution_count": 86
        }
      ],
      "source": [
        "test_disp2_pca.shape"
      ]
    },
    {
      "cell_type": "code",
      "execution_count": null,
      "metadata": {
        "id": "vn_zeTBbbJHT",
        "colab": {
          "base_uri": "https://localhost:8080/"
        },
        "outputId": "c2766fea-5259-4a6d-f5c2-cdca34343295"
      },
      "outputs": [
        {
          "output_type": "stream",
          "name": "stdout",
          "text": [
            "[0 0 0 ... 0 0 0]\n"
          ]
        }
      ],
      "source": [
        "predictions, _ = vq(test_disp2_pca, centroids)\n",
        "\n",
        "# Print the resulting predictions\n",
        "print(predictions)"
      ]
    },
    {
      "cell_type": "code",
      "source": [
        "import numpy as np\n",
        "print(np.sum(predictions==1))\n",
        "print(np.sum(predictions==0))"
      ],
      "metadata": {
        "colab": {
          "base_uri": "https://localhost:8080/"
        },
        "id": "G32PosVEhmyE",
        "outputId": "b0671892-877e-4896-d01f-66661e926dab"
      },
      "execution_count": null,
      "outputs": [
        {
          "output_type": "stream",
          "name": "stdout",
          "text": [
            "161\n",
            "2787\n"
          ]
        }
      ]
    },
    {
      "cell_type": "code",
      "source": [
        "from sklearn.metrics.cluster import adjusted_mutual_info_score\n",
        "adjusted_mutual_info_score(test_data_y, predictions)\n"
      ],
      "metadata": {
        "id": "ogOyT2c7R0cJ",
        "colab": {
          "base_uri": "https://localhost:8080/"
        },
        "outputId": "ca3c49c8-64fe-4a5f-d0fb-ebf21677584f"
      },
      "execution_count": null,
      "outputs": [
        {
          "output_type": "execute_result",
          "data": {
            "text/plain": [
              "0.015933819224287497"
            ]
          },
          "metadata": {},
          "execution_count": 89
        }
      ]
    },
    {
      "cell_type": "code",
      "source": [
        "import math\n",
        "import matplotlib.pyplot as plt\n",
        "from sklearn.metrics import accuracy_score\n",
        "Y_disp=[]\n",
        "clust_size=[]\n",
        "score=[]\n",
        "acc=[]\n",
        "for thresh in range(10):\n",
        "    thresh=math.exp(-1*thresh)\n",
        "    centroids, distortion = kmeans(X_disp4_056, 2, thresh=thresh)\n",
        "    labels, _ = vq(X_disp4_056, centroids)\n",
        "    cluster_ids, cluster_sizes = np.unique(labels, return_counts=True)\n",
        "    Y_disp.append(labels)\n",
        "    clust_size.append(cluster_sizes)\n",
        "    predictions, _ = vq(test_disp2_pca, centroids)\n",
        "    score.append(adjusted_mutual_info_score(test_data_y, predictions))\n",
        "    acc.append(accuracy_score(test_data_y, predictions))\n",
        "fig, ax = plt.subplots()\n",
        "ax.bar([f\"exp(-{seed})\" for seed in range(10)], score)\n",
        "\n",
        "# add some labels and a title\n",
        "ax.set_xlabel('Threshold')\n",
        "ax.set_ylabel('Adjusted Mutual Info Score')\n",
        "ax.set_title('Bar Plot Example')\n",
        "\n",
        "# display the plot\n",
        "plt.show()\n",
        "fig, ax = plt.subplots()\n",
        "ax.bar([f\"exp(-{seed})\" for seed in range(10)], acc)\n",
        "\n",
        "# add some labels and a title\n",
        "ax.set_xlabel('Threshold')\n",
        "ax.set_ylabel('Accuracy')\n",
        "ax.set_title('Bar Plot Example')\n",
        "\n",
        "# display the plot\n",
        "plt.show()  "
      ],
      "metadata": {
        "colab": {
          "base_uri": "https://localhost:8080/"
        },
        "id": "a8SiD92rtSLr",
        "outputId": "ceb7d2f2-7d54-49ac-acf4-392a8b24a01f"
      },
      "execution_count": null,
      "outputs": [
        {
          "output_type": "display_data",
          "data": {
            "text/plain": [
              "<Figure size 640x480 with 1 Axes>"
            ],
            "image/png": "[encoded data removed]"
          },
          "metadata": {}
        },
        {
          "output_type": "display_data",
          "data": {
            "text/plain": [
              "<Figure size 640x480 with 1 Axes>"
            ],
            "image/png": "[encoded data removed]"
          },
          "metadata": {}
        }
      ]
    },
    {
      "cell_type": "code",
      "execution_count": null,
      "metadata": {
        "colab": {
          "base_uri": "https://localhost:8080/"
        },
        "id": "k4kxPuaExTRf",
        "outputId": "68aa928a-1aef-48d5-aa50-c00f24c2ff48"
      },
      "outputs": [
        {
          "output_type": "stream",
          "name": "stderr",
          "text": [
            "/usr/local/lib/python3.9/dist-packages/sklearn/manifold/_spectral_embedding.py:274: UserWarning: Graph is not fully connected, spectral embedding may not work as expected.\n",
            "  warnings.warn(\n"
          ]
        },
        {
          "output_type": "stream",
          "name": "stdout",
          "text": [
            "(array([0, 1]), array([9725,  160]))\n",
            "(array([0, 1]), array([9831,   54]))\n",
            "calinski_harabasz_score : 152.0313422790834\n",
            "silhouette_score : 0.6701828233754427\n",
            "davies_bouldin_score : 3.949600267946655\n",
            "calinski_harabasz_score : 14.483410676387717\n",
            "silhouette_score : -0.15268904539611777\n",
            "davies_bouldin_score : 1.7894698386563548\n"
          ]
        }
      ],
      "source": [
        "#@title Spectral Clustering\n",
        "from sklearn.cluster import OPTICS\n",
        "\n",
        "clustering = SpectralClustering(n_clusters=2,assign_labels='discretize',affinity='rbf',random_state=0).fit(X_disp4_056 )\n",
        "clustering2 = SpectralClustering(n_clusters=2,assign_labels='discretize',affinity='nearest_neighbors',random_state=0).fit(X_disp4_056)\n",
        "\n",
        "Y_111 = clustering.labels_\n",
        "Y_122 = clustering2.labels_\n",
        "\n",
        "\n",
        "print(np.unique(Y_111,return_counts= True))\n",
        "print(np.unique(Y_122,return_counts= True))\n",
        "\n",
        "print(f\"calinski_harabasz_score : {calinski_harabasz_score(X_disp4_056 ,Y_111)}\")\n",
        "print(f\"silhouette_score : {silhouette_score(X_disp4_056 ,Y_111)}\")\n",
        "print(f\"davies_bouldin_score : {davies_bouldin_score(X_disp4_056 ,Y_111)}\")\n",
        "\n",
        "print(f\"calinski_harabasz_score : {calinski_harabasz_score(X_disp4_056 ,Y_122)}\")\n",
        "print(f\"silhouette_score : {silhouette_score(X_disp4_056 ,Y_122)}\")\n",
        "print(f\"davies_bouldin_score : {davies_bouldin_score(X_disp4_056 ,Y_122)}\")       \n"
      ]
    },
    {
      "cell_type": "code",
      "source": [
        "\n",
        "\n",
        "counts1 = np.unique(Y_111, return_counts=True)[1]\n",
        "counts2 = np.unique(Y_122, return_counts=True)[1]\n",
        "\n",
        "fig, axs = plt.subplots(1, 2)\n",
        "axs[0].pie(counts1, labels=['Cluster 1', 'Cluster 2'])\n",
        "axs[0].set_title('Spectral Clustering RBF kernel')\n",
        "axs[1].pie(counts2, labels=['Cluster 1', 'Cluster 2'])\n",
        "axs[1].set_title(' Nearest Neighbors kernel')\n",
        "plt.show()"
      ],
      "metadata": {
        "colab": {
          "base_uri": "https://localhost:8080/"
        },
        "id": "dJcnlgrNRveV",
        "outputId": "86c1ce1b-1257-41f7-de9b-bba38a2252a7"
      },
      "execution_count": null,
      "outputs": [
        {
          "output_type": "display_data",
          "data": {
            "text/plain": [
              "<Figure size 640x480 with 2 Axes>"
            ],
            "image/png": "[encoded data removed]"
          },
          "metadata": {}
        }
      ]
    },
    {
      "cell_type": "code",
      "source": [
        "#@title Calinski harabasz score , Silhouette score , Davies bouldin score Table \n",
        "ch_score=[]\n",
        "sil_score=[]\n",
        "db_score=[]\n",
        "Y_seed = [Y_111,Y_122]\n",
        "\n",
        "for seed in Y_seed:\n",
        "    ch_score.append(calinski_harabasz_score(X_disp4_056 , seed))\n",
        "    sil_score.append(silhouette_score(X_disp4_056 , seed))\n",
        "    db_score.append(davies_bouldin_score(X_disp4_056 , seed))\n",
        "\n",
        "\n",
        "k_mean_dict={\"Random state\":[seed for seed in range(2)],\"Cluster sizes\":2, \"calinski_harabasz_score\":ch_score,\"silhouette_score\":sil_score,\"davies_bouldin_score\":db_score} \n",
        "pd.DataFrame(k_mean_dict)      "
      ],
      "metadata": {
        "colab": {
          "base_uri": "https://localhost:8080/"
        },
        "id": "ZkmSFnJCWASP",
        "outputId": "877dd701-52f7-48e8-a3fb-809bf22fbb01"
      },
      "execution_count": null,
      "outputs": [
        {
          "output_type": "execute_result",
          "data": {
            "text/plain": [
              "   Random state  Cluster sizes  calinski_harabasz_score  silhouette_score  \\\n",
              "0             0              2               152.031342          0.670183   \n",
              "1             1              2                14.483411         -0.152689   \n",
              "\n",
              "   davies_bouldin_score  \n",
              "0               3.94960  \n",
              "1               1.78947  "
            ],
            "text/html": [
              "\n",
              "  <div id=\"df-d5721422-8b44-4f85-9919-ad4c9ac693f9\">\n",
              "    <div class=\"colab-df-container\">\n",
              "      <div>\n",
              "<style scoped>\n",
              "    .dataframe tbody tr th:only-of-type {\n",
              "        vertical-align: middle;\n",
              "    }\n",
              "\n",
              "    .dataframe tbody tr th {\n",
              "        vertical-align: top;\n",
              "    }\n",
              "\n",
              "    .dataframe thead th {\n",
              "        text-align: right;\n",
              "    }\n",
              "</style>\n",
              "<table border=\"1\" class=\"dataframe\">\n",
              "  <thead>\n",
              "    <tr style=\"text-align: right;\">\n",
              "      <th></th>\n",
              "      <th>Random state</th>\n",
              "      <th>Cluster sizes</th>\n",
              "      <th>calinski_harabasz_score</th>\n",
              "      <th>silhouette_score</th>\n",
              "      <th>davies_bouldin_score</th>\n",
              "    </tr>\n",
              "  </thead>\n",
              "  <tbody>\n",
              "    <tr>\n",
              "      <th>0</th>\n",
              "      <td>0</td>\n",
              "      <td>2</td>\n",
              "      <td>152.031342</td>\n",
              "      <td>0.670183</td>\n",
              "      <td>3.94960</td>\n",
              "    </tr>\n",
              "    <tr>\n",
              "      <th>1</th>\n",
              "      <td>1</td>\n",
              "      <td>2</td>\n",
              "      <td>14.483411</td>\n",
              "      <td>-0.152689</td>\n",
              "      <td>1.78947</td>\n",
              "    </tr>\n",
              "  </tbody>\n",
              "</table>\n",
              "</div>\n",
              "      <button class=\"colab-df-convert\" onclick=\"convertToInteractive('df-d5721422-8b44-4f85-9919-ad4c9ac693f9')\"\n",
              "              title=\"Convert this dataframe to an interactive table.\"\n",
              "              style=\"display:none;\">\n",
              "        \n",
              "  <svg xmlns=\"http://www.w3.org/2000/svg\" height=\"24px\"viewBox=\"0 0 24 24\"\n",
              "       width=\"24px\">\n",
              "    <path d=\"M0 0h24v24H0V0z\" fill=\"none\"/>\n",
              "    <path d=\"M18.56 5.44l.94 2.06.94-2.06 2.06-.94-2.06-.94-.94-2.06-.94 2.06-2.06.94zm-11 1L8.5 8.5l.94-2.06 2.06-.94-2.06-.94L8.5 2.5l-.94 2.06-2.06.94zm10 10l.94 2.06.94-2.06 2.06-.94-2.06-.94-.94-2.06-.94 2.06-2.06.94z\"/><path d=\"M17.41 7.96l-1.37-1.37c-.4-.4-.92-.59-1.43-.59-.52 0-1.04.2-1.43.59L10.3 9.45l-7.72 7.72c-.78.78-.78 2.05 0 2.83L4 21.41c.39.39.9.59 1.41.59.51 0 1.02-.2 1.41-.59l7.78-7.78 2.81-2.81c.8-.78.8-2.07 0-2.86zM5.41 20L4 18.59l7.72-7.72 1.47 1.35L5.41 20z\"/>\n",
              "  </svg>\n",
              "      </button>\n",
              "      \n",
              "  <style>\n",
              "    .colab-df-container {\n",
              "      display:flex;\n",
              "      flex-wrap:wrap;\n",
              "      gap: 12px;\n",
              "    }\n",
              "\n",
              "    .colab-df-convert {\n",
              "      background-color: #E8F0FE;\n",
              "      border: none;\n",
              "      border-radius: 50%;\n",
              "      cursor: pointer;\n",
              "      display: none;\n",
              "      fill: #1967D2;\n",
              "      height: 32px;\n",
              "      padding: 0 0 0 0;\n",
              "      width: 32px;\n",
              "    }\n",
              "\n",
              "    .colab-df-convert:hover {\n",
              "      background-color: #E2EBFA;\n",
              "      box-shadow: 0px 1px 2px rgba(60, 64, 67, 0.3), 0px 1px 3px 1px rgba(60, 64, 67, 0.15);\n",
              "      fill: #174EA6;\n",
              "    }\n",
              "\n",
              "    [theme=dark] .colab-df-convert {\n",
              "      background-color: #3B4455;\n",
              "      fill: #D2E3FC;\n",
              "    }\n",
              "\n",
              "    [theme=dark] .colab-df-convert:hover {\n",
              "      background-color: #434B5C;\n",
              "      box-shadow: 0px 1px 3px 1px rgba(0, 0, 0, 0.15);\n",
              "      filter: drop-shadow(0px 1px 2px rgba(0, 0, 0, 0.3));\n",
              "      fill: #FFFFFF;\n",
              "    }\n",
              "  </style>\n",
              "\n",
              "      <script>\n",
              "        const buttonEl =\n",
              "          document.querySelector('#df-d5721422-8b44-4f85-9919-ad4c9ac693f9 button.colab-df-convert');\n",
              "        buttonEl.style.display =\n",
              "          google.colab.kernel.accessAllowed ? 'block' : 'none';\n",
              "\n",
              "        async function convertToInteractive(key) {\n",
              "          const element = document.querySelector('#df-d5721422-8b44-4f85-9919-ad4c9ac693f9');\n",
              "          const dataTable =\n",
              "            await google.colab.kernel.invokeFunction('convertToInteractive',\n",
              "                                                     [key], {});\n",
              "          if (!dataTable) return;\n",
              "\n",
              "          const docLinkHtml = 'Like what you see? Visit the ' +\n",
              "            '<a target=\"_blank\" href=https://colab.research.google.com/notebooks/data_table.ipynb>data table notebook</a>'\n",
              "            + ' to learn more about interactive tables.';\n",
              "          element.innerHTML = '';\n",
              "          dataTable['output_type'] = 'display_data';\n",
              "          await google.colab.output.renderOutput(dataTable, element);\n",
              "          const docLink = document.createElement('div');\n",
              "          docLink.innerHTML = docLinkHtml;\n",
              "          element.appendChild(docLink);\n",
              "        }\n",
              "      </script>\n",
              "    </div>\n",
              "  </div>\n",
              "  "
            ]
          },
          "metadata": {},
          "execution_count": 93
        }
      ]
    },
    {
      "cell_type": "code",
      "source": [
        "#@title  Visualization of Clusters\n",
        "import matplotlib.pyplot as plt\n",
        "\n",
        "# visualize clusters\n",
        "plt.scatter(np.asarray(X_disp4_056)[:, 0], np.asarray(X_disp4_056 )[:, 1], c=Y_111)\n",
        "plt.title(\"Spectral Clustering with RBF kernel\")\n",
        "plt.show()\n",
        "\n",
        "plt.scatter(np.asarray(X_disp4_056 )[:, 0], np.asarray(X_disp4_056 )[:, 1], c=Y_122)\n",
        "plt.title(\"Spectral Clustering with Nearest Neighbors kernel\")\n",
        "plt.show()\n"
      ],
      "metadata": {
        "colab": {
          "base_uri": "https://localhost:8080/"
        },
        "id": "EyNN8sgmJw18",
        "outputId": "d2bc53c3-7575-4a2f-d46c-58e4b4ab9674"
      },
      "execution_count": null,
      "outputs": [
        {
          "output_type": "display_data",
          "data": {
            "text/plain": [
              "<Figure size 640x480 with 1 Axes>"
            ],
            "image/png": "[encoded data removed]"
          },
          "metadata": {}
        },
        {
          "output_type": "display_data",
          "data": {
            "text/plain": [
              "<Figure size 640x480 with 1 Axes>"
            ],
            "image/png": "[encoded data removed]"
          },
          "metadata": {}
        }
      ]
    }
  ]
}